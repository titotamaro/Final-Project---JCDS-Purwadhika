{
 "cells": [
  {
   "cell_type": "code",
   "execution_count": 1,
   "metadata": {},
   "outputs": [
    {
     "name": "stdout",
     "output_type": "stream",
     "text": [
      " * Serving Flask app \"__main__\" (lazy loading)\n",
      " * Environment: production\n",
      "   WARNING: This is a development server. Do not use it in a production deployment.\n",
      "   Use a production WSGI server instead.\n",
      " * Debug mode: on\n"
     ]
    },
    {
     "name": "stderr",
     "output_type": "stream",
     "text": [
      " * Restarting with stat\n"
     ]
    },
    {
     "ename": "SystemExit",
     "evalue": "1",
     "output_type": "error",
     "traceback": [
      "An exception has occurred, use %tb to see the full traceback.\n",
      "\u001b[1;31mSystemExit\u001b[0m\u001b[1;31m:\u001b[0m 1\n"
     ]
    },
    {
     "name": "stderr",
     "output_type": "stream",
     "text": [
      "C:\\ProgramData\\Anaconda3\\lib\\site-packages\\IPython\\core\\interactiveshell.py:3334: UserWarning: To exit: use 'exit', 'quit', or Ctrl-D.\n",
      "  warn(\"To exit: use 'exit', 'quit', or Ctrl-D.\", stacklevel=1)\n"
     ]
    }
   ],
   "source": [
    "from flask import Flask, render_template\n",
    "import pandas as pd\n",
    "import numpy as np\n",
    "import matplotlib.pyplot as plt\n",
    "import seaborn as sns\n",
    "from io import BytesIO\n",
    "import pickle\n",
    "from flask import Flask\n",
    "from flask import Flask, jsonify, request, render_template\n",
    "import base64\n",
    "\n",
    "app = Flask(__name__)\n",
    "\n",
    "@app.route('/')\n",
    "def home():\n",
    "    return render_template('home.html')\n",
    "\n",
    "@app.route('/credit')\n",
    "def iris():\n",
    "    return render_template('credit.html')\n",
    "\n",
    "@app.route('/prediksi', methods=['POST', 'GET'])\n",
    "def hasil():\n",
    "    if request.method == 'POST':\n",
    "        input_form = request.form\n",
    "        RUUL = float(input_form['RevolvingUtilizationOfUnsecuredLines'])\n",
    "        Age = float(input_form['age'])\n",
    "        NT3059=float(input_form['NumberOfTime30-59DaysPastDueNotWorse'])\n",
    "        DebtRatio=float(input_form['DebtRatio'])\n",
    "        MI=float(input_form['MonthlyIncome'])\n",
    "        NOCLL=float(input_form['NumberOfOpenCreditLinesAndLoans'])\n",
    "        NT90=float(input_form['NumberOfTimes90DaysLate'])\n",
    "        NRELL=float(input_form['NumberRealEstateLoansOrLines'])\n",
    "        NT6089=float(input_form['NumberOfTime60-89DaysPastDueNotWorse'])\n",
    "        ND= float(input_form['NumberOfDependents'])\n",
    "\n",
    "        pred = Model.predict_proba([[RUUL,Age,NT3059,DebtRatio,MI,NOCLL,NT90,NRELL,NT6089,ND]])[0][1]\n",
    "        \n",
    "        if 0.744514 <= pred <= 1 :\n",
    "            prediksi =  'Poor'\n",
    "        elif 0.496343 <= pred <= 0.744513:\n",
    "            prediksi =  'Fair'\n",
    "        elif 0.248172 <= pred <= 0.496342:\n",
    "            prediksi =  'Good'\n",
    "        elif 0.000561 <= pred <= 0.248171:\n",
    "            prediksi =  'Very Good'\n",
    "        elif 0 <= pred <= 0.00056:\n",
    "            prediksi =  'Exceptional'\n",
    "        \n",
    "        return render_template('hasil.html', data=input_form, prediksi=prediksi)\n",
    "\n",
    "\n",
    "if __name__ == \"__main__\":\n",
    "    with open('ModelFinal.sav', 'rb') as model:\n",
    "        Model = pickle.load(model)\n",
    "    app.run(debug=True)"
   ]
  },
  {
   "cell_type": "code",
   "execution_count": null,
   "metadata": {},
   "outputs": [],
   "source": []
  }
 ],
 "metadata": {
  "kernelspec": {
   "display_name": "Python 3",
   "language": "python",
   "name": "python3"
  },
  "language_info": {
   "codemirror_mode": {
    "name": "ipython",
    "version": 3
   },
   "file_extension": ".py",
   "mimetype": "text/x-python",
   "name": "python",
   "nbconvert_exporter": "python",
   "pygments_lexer": "ipython3",
   "version": "3.7.4"
  }
 },
 "nbformat": 4,
 "nbformat_minor": 4
}
