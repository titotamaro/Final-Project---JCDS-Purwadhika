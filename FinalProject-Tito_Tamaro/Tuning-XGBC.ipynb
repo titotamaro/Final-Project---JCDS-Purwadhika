{
 "cells": [
  {
   "cell_type": "markdown",
   "metadata": {},
   "source": [
    "# Import Package\n",
    "\n",
    "source : https://www.kaggle.com/c/GiveMeSomeCredit <br>\n",
    "by Tito Tamaro<br>\n",
    "sebagai _Final Project_ JCDS Purwadhika 2020"
   ]
  },
  {
   "cell_type": "code",
   "execution_count": 1,
   "metadata": {},
   "outputs": [],
   "source": [
    "import numpy as np\n",
    "import pandas as pd\n",
    "import matplotlib.pyplot as plt\n",
    "import seaborn as sns\n",
    "import warnings\n",
    "import pickle\n",
    "from sklearn.model_selection import train_test_split\n",
    "from sklearn.metrics import mean_squared_error, mean_absolute_error, r2_score, roc_curve, auc, roc_auc_score, accuracy_score, balanced_accuracy_score,f1_score,recall_score,precision_score,classification_report, confusion_matrix\n",
    "from sklearn.preprocessing import RobustScaler,StandardScaler,MinMaxScaler\n",
    "from sklearn.impute import SimpleImputer\n",
    "from sklearn.linear_model import LogisticRegression\n",
    "from imblearn.over_sampling import SMOTE \n",
    "from sklearn.utils import resample\n",
    "from sklearn.neighbors import KNeighborsClassifier\n",
    "from sklearn.ensemble import RandomForestClassifier\n",
    "from xgboost import XGBClassifier\n",
    "from sklearn.model_selection import RandomizedSearchCV, GridSearchCV\n",
    "from sklearn.pipeline import Pipeline\n",
    "\n",
    "warnings.filterwarnings('ignore')\n",
    "%matplotlib inline"
   ]
  },
  {
   "cell_type": "markdown",
   "metadata": {},
   "source": [
    "# Functions"
   ]
  },
  {
   "cell_type": "code",
   "execution_count": 2,
   "metadata": {},
   "outputs": [],
   "source": [
    "def dataframe_description(dataframe,samples=2): \n",
    "    bsDESC=[]\n",
    "    for i in dataframe.columns:\n",
    "        bsDESC.append([\n",
    "            i, \n",
    "            dataframe[i].dtypes, \n",
    "            dataframe[i].isnull().sum(), \n",
    "            round((((dataframe[i].isnull().sum()) / (len(dataframe))) * 100),2),\n",
    "            dataframe[i].nunique(), \n",
    "            dataframe[i].drop_duplicates().sample(samples).values,\n",
    "            round(dataframe[i].mean(),2),\n",
    "            round(dataframe[i].max(),2),\n",
    "            round(dataframe[i].min(),2)\n",
    "        ])\n",
    "    dfDesc = pd.DataFrame(bsDESC,columns=['dataFeatures','dataType','nullValues','nullPercentage','unique','sample','mean','maxValues','minValues'])\n",
    "    return dfDesc "
   ]
  },
  {
   "cell_type": "markdown",
   "metadata": {},
   "source": [
    "# Attributes Information\n",
    "\n",
    "| Variable Name | Description | Type |\n",
    "| --- | --- | --- |\n",
    "|SeriousDlqin2yrs|Person experienced 90 days past due delinquency or worse|Y/N|\n",
    "|RevolvingUtilizationOfUnsecuredLines|Total balance on credit cards and personal lines of credit except real estate and no installment debt like car loans divided by the sum of credit limits|percentage|\n",
    "|age|Age of borrower in years|integer|\n",
    "|NumberOfTime30-59DaysPastDueNotWorse|Number of times borrower has been 30-59 days past due but no worse in the last 2 years.|integer|\n",
    "|DebtRatio|Monthly debt payments| percentage|living costs divided by monthy gross income|percentage|\n",
    "|MonthlyIncome|Monthly income|integer|\n",
    "|NumberOfOpenCreditLinesAndLoans|Number of Open loans (installment like car loan or mortgage) and Lines of credit (e.g. credit cards)|integer|\n",
    "|NumberOfTimes90DaysLate|Number of times borrower has been 90 days or more past due.|integer|\n",
    "|NumberRealEstateLoansOrLines|Number of mortgage and real estate loans including home equity lines of credit|integer|\n",
    "|NumberOfTime60-89DaysPastDueNotWorse|Number of times borrower has been 60-89 days past due but no worse in the last 2 years.|integer|\n",
    "|NumberOfDependents|Number of dependents in family excluding themselves (spouse or children etc.)|integer|"
   ]
  },
  {
   "cell_type": "markdown",
   "metadata": {},
   "source": [
    "Data merupakan kompetisi dari kaggle pada tahun 2011 (source: https://www.kaggle.com/c/GiveMeSomeCredit) dimana peserta diminta untuk memprediksi apakah peminjam uang akan mengalami _default_ (gagal bayar)."
   ]
  },
  {
   "cell_type": "code",
   "execution_count": 3,
   "metadata": {},
   "outputs": [],
   "source": [
    "df_training = pd.read_csv('cs-training.csv')\n",
    "df_training.rename(columns={'Unnamed: 0':'index'},inplace=True) # mengubah Unnamed features menjadi index\n",
    "df_training = df_training.set_index('index')\n",
    "\n",
    "df_test = pd.read_csv('cs-test.csv')\n",
    "df_test.rename(columns={'Unnamed: 0':'index'},inplace=True) # mengubah Unnamed features menjadi index\n",
    "df_test = df_test.set_index('index')\n",
    "\n",
    "df_sample = pd.read_csv('sampleEntry.csv')"
   ]
  },
  {
   "cell_type": "code",
   "execution_count": 4,
   "metadata": {},
   "outputs": [
    {
     "name": "stdout",
     "output_type": "stream",
     "text": [
      "(150000, 11)\n",
      "(101503, 11)\n",
      "(101503, 2)\n"
     ]
    }
   ],
   "source": [
    "print(df_training.shape)\n",
    "print(df_test.shape)\n",
    "print(df_sample.shape)"
   ]
  },
  {
   "cell_type": "markdown",
   "metadata": {},
   "source": [
    "## Data Description"
   ]
  },
  {
   "cell_type": "code",
   "execution_count": 5,
   "metadata": {},
   "outputs": [
    {
     "data": {
      "text/html": [
       "<div>\n",
       "<style scoped>\n",
       "    .dataframe tbody tr th:only-of-type {\n",
       "        vertical-align: middle;\n",
       "    }\n",
       "\n",
       "    .dataframe tbody tr th {\n",
       "        vertical-align: top;\n",
       "    }\n",
       "\n",
       "    .dataframe thead th {\n",
       "        text-align: right;\n",
       "    }\n",
       "</style>\n",
       "<table border=\"1\" class=\"dataframe\">\n",
       "  <thead>\n",
       "    <tr style=\"text-align: right;\">\n",
       "      <th></th>\n",
       "      <th>dataFeatures</th>\n",
       "      <th>dataType</th>\n",
       "      <th>nullValues</th>\n",
       "      <th>nullPercentage</th>\n",
       "      <th>unique</th>\n",
       "      <th>sample</th>\n",
       "      <th>mean</th>\n",
       "      <th>maxValues</th>\n",
       "      <th>minValues</th>\n",
       "    </tr>\n",
       "  </thead>\n",
       "  <tbody>\n",
       "    <tr>\n",
       "      <td>0</td>\n",
       "      <td>SeriousDlqin2yrs</td>\n",
       "      <td>int64</td>\n",
       "      <td>0</td>\n",
       "      <td>0.00</td>\n",
       "      <td>2</td>\n",
       "      <td>[1, 0]</td>\n",
       "      <td>0.07</td>\n",
       "      <td>1.0</td>\n",
       "      <td>0.0</td>\n",
       "    </tr>\n",
       "    <tr>\n",
       "      <td>1</td>\n",
       "      <td>RevolvingUtilizationOfUnsecuredLines</td>\n",
       "      <td>float64</td>\n",
       "      <td>0</td>\n",
       "      <td>0.00</td>\n",
       "      <td>125728</td>\n",
       "      <td>[0.26589162899999996, 0.12937948900000001]</td>\n",
       "      <td>6.05</td>\n",
       "      <td>50708.0</td>\n",
       "      <td>0.0</td>\n",
       "    </tr>\n",
       "    <tr>\n",
       "      <td>2</td>\n",
       "      <td>age</td>\n",
       "      <td>int64</td>\n",
       "      <td>0</td>\n",
       "      <td>0.00</td>\n",
       "      <td>86</td>\n",
       "      <td>[39, 103]</td>\n",
       "      <td>52.30</td>\n",
       "      <td>109.0</td>\n",
       "      <td>0.0</td>\n",
       "    </tr>\n",
       "    <tr>\n",
       "      <td>3</td>\n",
       "      <td>NumberOfTime30-59DaysPastDueNotWorse</td>\n",
       "      <td>int64</td>\n",
       "      <td>0</td>\n",
       "      <td>0.00</td>\n",
       "      <td>16</td>\n",
       "      <td>[9, 96]</td>\n",
       "      <td>0.42</td>\n",
       "      <td>98.0</td>\n",
       "      <td>0.0</td>\n",
       "    </tr>\n",
       "    <tr>\n",
       "      <td>4</td>\n",
       "      <td>DebtRatio</td>\n",
       "      <td>float64</td>\n",
       "      <td>0</td>\n",
       "      <td>0.00</td>\n",
       "      <td>114194</td>\n",
       "      <td>[0.076032623, 0.488682392]</td>\n",
       "      <td>353.01</td>\n",
       "      <td>329664.0</td>\n",
       "      <td>0.0</td>\n",
       "    </tr>\n",
       "    <tr>\n",
       "      <td>5</td>\n",
       "      <td>MonthlyIncome</td>\n",
       "      <td>float64</td>\n",
       "      <td>29731</td>\n",
       "      <td>19.82</td>\n",
       "      <td>13594</td>\n",
       "      <td>[10306.0, 6647.0]</td>\n",
       "      <td>6670.22</td>\n",
       "      <td>3008750.0</td>\n",
       "      <td>0.0</td>\n",
       "    </tr>\n",
       "    <tr>\n",
       "      <td>6</td>\n",
       "      <td>NumberOfOpenCreditLinesAndLoans</td>\n",
       "      <td>int64</td>\n",
       "      <td>0</td>\n",
       "      <td>0.00</td>\n",
       "      <td>58</td>\n",
       "      <td>[43, 51]</td>\n",
       "      <td>8.45</td>\n",
       "      <td>58.0</td>\n",
       "      <td>0.0</td>\n",
       "    </tr>\n",
       "    <tr>\n",
       "      <td>7</td>\n",
       "      <td>NumberOfTimes90DaysLate</td>\n",
       "      <td>int64</td>\n",
       "      <td>0</td>\n",
       "      <td>0.00</td>\n",
       "      <td>19</td>\n",
       "      <td>[15, 3]</td>\n",
       "      <td>0.27</td>\n",
       "      <td>98.0</td>\n",
       "      <td>0.0</td>\n",
       "    </tr>\n",
       "    <tr>\n",
       "      <td>8</td>\n",
       "      <td>NumberRealEstateLoansOrLines</td>\n",
       "      <td>int64</td>\n",
       "      <td>0</td>\n",
       "      <td>0.00</td>\n",
       "      <td>28</td>\n",
       "      <td>[21, 10]</td>\n",
       "      <td>1.02</td>\n",
       "      <td>54.0</td>\n",
       "      <td>0.0</td>\n",
       "    </tr>\n",
       "    <tr>\n",
       "      <td>9</td>\n",
       "      <td>NumberOfTime60-89DaysPastDueNotWorse</td>\n",
       "      <td>int64</td>\n",
       "      <td>0</td>\n",
       "      <td>0.00</td>\n",
       "      <td>13</td>\n",
       "      <td>[98, 9]</td>\n",
       "      <td>0.24</td>\n",
       "      <td>98.0</td>\n",
       "      <td>0.0</td>\n",
       "    </tr>\n",
       "    <tr>\n",
       "      <td>10</td>\n",
       "      <td>NumberOfDependents</td>\n",
       "      <td>float64</td>\n",
       "      <td>3924</td>\n",
       "      <td>2.62</td>\n",
       "      <td>13</td>\n",
       "      <td>[7.0, 3.0]</td>\n",
       "      <td>0.76</td>\n",
       "      <td>20.0</td>\n",
       "      <td>0.0</td>\n",
       "    </tr>\n",
       "  </tbody>\n",
       "</table>\n",
       "</div>"
      ],
      "text/plain": [
       "                            dataFeatures dataType  nullValues  nullPercentage  \\\n",
       "0                       SeriousDlqin2yrs    int64           0            0.00   \n",
       "1   RevolvingUtilizationOfUnsecuredLines  float64           0            0.00   \n",
       "2                                    age    int64           0            0.00   \n",
       "3   NumberOfTime30-59DaysPastDueNotWorse    int64           0            0.00   \n",
       "4                              DebtRatio  float64           0            0.00   \n",
       "5                          MonthlyIncome  float64       29731           19.82   \n",
       "6        NumberOfOpenCreditLinesAndLoans    int64           0            0.00   \n",
       "7                NumberOfTimes90DaysLate    int64           0            0.00   \n",
       "8           NumberRealEstateLoansOrLines    int64           0            0.00   \n",
       "9   NumberOfTime60-89DaysPastDueNotWorse    int64           0            0.00   \n",
       "10                    NumberOfDependents  float64        3924            2.62   \n",
       "\n",
       "    unique                                      sample     mean  maxValues  \\\n",
       "0        2                                      [1, 0]     0.07        1.0   \n",
       "1   125728  [0.26589162899999996, 0.12937948900000001]     6.05    50708.0   \n",
       "2       86                                   [39, 103]    52.30      109.0   \n",
       "3       16                                     [9, 96]     0.42       98.0   \n",
       "4   114194                  [0.076032623, 0.488682392]   353.01   329664.0   \n",
       "5    13594                           [10306.0, 6647.0]  6670.22  3008750.0   \n",
       "6       58                                    [43, 51]     8.45       58.0   \n",
       "7       19                                     [15, 3]     0.27       98.0   \n",
       "8       28                                    [21, 10]     1.02       54.0   \n",
       "9       13                                     [98, 9]     0.24       98.0   \n",
       "10      13                                  [7.0, 3.0]     0.76       20.0   \n",
       "\n",
       "    minValues  \n",
       "0         0.0  \n",
       "1         0.0  \n",
       "2         0.0  \n",
       "3         0.0  \n",
       "4         0.0  \n",
       "5         0.0  \n",
       "6         0.0  \n",
       "7         0.0  \n",
       "8         0.0  \n",
       "9         0.0  \n",
       "10        0.0  "
      ]
     },
     "execution_count": 5,
     "metadata": {},
     "output_type": "execute_result"
    }
   ],
   "source": [
    "dataframe_description(df_training)"
   ]
  },
  {
   "cell_type": "markdown",
   "metadata": {},
   "source": [
    "Dari deskripsi di atas, features dapat dikelompokkan menjadi :\n",
    "\n",
    "- <b>Numerical Values</b>\n",
    "\n",
    "    - RevolvingUtilizationOfUnsecuredLines\n",
    "    - age\n",
    "    - NumberOfTime30-59DaysPastDueNotWorse\n",
    "    - DebtRatio\n",
    "    - MonthlyIncome\n",
    "    - NumberOfOpenCreditLinesAndLoans\n",
    "    - NumberOfTimes90DaysLate\n",
    "    - NumberRealEstateLoansOrLines\n",
    "    - NumberOfTime60-89DaysPastDueNotWorse\n",
    "    - NumberOfDependents\n",
    "    \n",
    "    \n",
    "- <b>Categorical Values</b>\n",
    "\n",
    "    - SeriousDlqin2yrs ==> <b>Target</b>"
   ]
  },
  {
   "cell_type": "markdown",
   "metadata": {},
   "source": [
    "## Data Distribution"
   ]
  },
  {
   "cell_type": "code",
   "execution_count": 6,
   "metadata": {},
   "outputs": [
    {
     "data": {
      "image/png": "[encoded data removed]",
      "text/plain": [
       "<Figure size 1440x1440 with 10 Axes>"
      ]
     },
     "metadata": {
      "needs_background": "light"
     },
     "output_type": "display_data"
    }
   ],
   "source": [
    "col = df_training.drop(['SeriousDlqin2yrs'],axis=1)\n",
    "columnList = list(col)\n",
    "columnList\n",
    "\n",
    "fig = plt.figure(figsize=[20,20])\n",
    "for j,i in zip(columnList,range(1,11)):\n",
    "    axes = fig.add_subplot(4,3,i)\n",
    "    sns.distplot(df_training[j],bins=20,ax=axes, color='blue') # jumlah bins 1/10 jumlah data\n",
    "plt.show()"
   ]
  },
  {
   "cell_type": "code",
   "execution_count": 7,
   "metadata": {},
   "outputs": [
    {
     "data": {
      "image/png": "[encoded data removed]",
      "text/plain": [
       "<Figure size 1440x1440 with 10 Axes>"
      ]
     },
     "metadata": {
      "needs_background": "light"
     },
     "output_type": "display_data"
    }
   ],
   "source": [
    "col = df_training.drop(['SeriousDlqin2yrs'],axis=1)\n",
    "columnList = list(col)\n",
    "columnList\n",
    "\n",
    "fig = plt.figure(figsize=[20,20])\n",
    "for j,i in zip(columnList,range(1,11)):\n",
    "    axes = fig.add_subplot(4,3,i)\n",
    "    sns.boxplot(df_training[j],ax=axes, color='red')\n",
    "plt.show()"
   ]
  },
  {
   "cell_type": "code",
   "execution_count": 8,
   "metadata": {},
   "outputs": [
    {
     "data": {
      "image/png": "[encoded data removed]",
      "text/plain": [
       "<Figure size 432x288 with 1 Axes>"
      ]
     },
     "metadata": {
      "needs_background": "light"
     },
     "output_type": "display_data"
    }
   ],
   "source": [
    "ax = sns.countplot(df_training['SeriousDlqin2yrs'])\n",
    "total = len(df_training)\n",
    "for p in ax.patches:\n",
    "    height = p.get_height()\n",
    "    ax.text(p.get_x()+p.get_width()/2.,\n",
    "            height + 3,\n",
    "            '{:1.2f}'.format(height/total),\n",
    "            ha=\"center\")\n",
    "plt.show()"
   ]
  },
  {
   "cell_type": "markdown",
   "metadata": {},
   "source": [
    "Imbalanced Target"
   ]
  },
  {
   "cell_type": "markdown",
   "metadata": {},
   "source": [
    "# NaN Values"
   ]
  },
  {
   "cell_type": "code",
   "execution_count": 9,
   "metadata": {},
   "outputs": [
    {
     "data": {
      "image/png": "[encoded data removed]",
      "text/plain": [
       "<Figure size 1080x576 with 1 Axes>"
      ]
     },
     "metadata": {
      "needs_background": "light"
     },
     "output_type": "display_data"
    }
   ],
   "source": [
    "plt.figure(figsize=(15,8))\n",
    "\n",
    "sns.heatmap(df_training.isna(), yticklabels=False, cmap='cividis', cbar=False)\n",
    "plt.show()"
   ]
  },
  {
   "cell_type": "code",
   "execution_count": 10,
   "metadata": {},
   "outputs": [
    {
     "data": {
      "text/plain": [
       "SeriousDlqin2yrs                            0\n",
       "RevolvingUtilizationOfUnsecuredLines        0\n",
       "age                                         0\n",
       "NumberOfTime30-59DaysPastDueNotWorse        0\n",
       "DebtRatio                                   0\n",
       "MonthlyIncome                           29731\n",
       "NumberOfOpenCreditLinesAndLoans             0\n",
       "NumberOfTimes90DaysLate                     0\n",
       "NumberRealEstateLoansOrLines                0\n",
       "NumberOfTime60-89DaysPastDueNotWorse        0\n",
       "NumberOfDependents                       3924\n",
       "dtype: int64"
      ]
     },
     "execution_count": 10,
     "metadata": {},
     "output_type": "execute_result"
    }
   ],
   "source": [
    "df_training.isna().sum()"
   ]
  },
  {
   "cell_type": "markdown",
   "metadata": {},
   "source": [
    "Sebelum dilakukan NaN values handling, akan dilakukan pengecekan terhadap data dan dilihat bagaimana pengaruhnya terhadap kolom target yaitu <b>SeriousDlqin2yrs</b>"
   ]
  },
  {
   "cell_type": "code",
   "execution_count": 11,
   "metadata": {},
   "outputs": [
    {
     "data": {
      "text/html": [
       "<div>\n",
       "<style scoped>\n",
       "    .dataframe tbody tr th:only-of-type {\n",
       "        vertical-align: middle;\n",
       "    }\n",
       "\n",
       "    .dataframe tbody tr th {\n",
       "        vertical-align: top;\n",
       "    }\n",
       "\n",
       "    .dataframe thead th {\n",
       "        text-align: right;\n",
       "    }\n",
       "</style>\n",
       "<table border=\"1\" class=\"dataframe\">\n",
       "  <thead>\n",
       "    <tr style=\"text-align: right;\">\n",
       "      <th>SeriousDlqin2yrs</th>\n",
       "      <th>0</th>\n",
       "      <th>1</th>\n",
       "    </tr>\n",
       "    <tr>\n",
       "      <th>nullValuesMI</th>\n",
       "      <th></th>\n",
       "      <th></th>\n",
       "    </tr>\n",
       "  </thead>\n",
       "  <tbody>\n",
       "    <tr>\n",
       "      <td>False</td>\n",
       "      <td>0.74608</td>\n",
       "      <td>0.055713</td>\n",
       "    </tr>\n",
       "    <tr>\n",
       "      <td>True</td>\n",
       "      <td>0.18708</td>\n",
       "      <td>0.011127</td>\n",
       "    </tr>\n",
       "  </tbody>\n",
       "</table>\n",
       "</div>"
      ],
      "text/plain": [
       "SeriousDlqin2yrs        0         1\n",
       "nullValuesMI                       \n",
       "False             0.74608  0.055713\n",
       "True              0.18708  0.011127"
      ]
     },
     "execution_count": 11,
     "metadata": {},
     "output_type": "execute_result"
    }
   ],
   "source": [
    "df_training['nullValuesMI'] = pd.isnull(df_training['MonthlyIncome'])\n",
    "df1 = pd.crosstab(index=df_training.nullValuesMI, columns=df_training.SeriousDlqin2yrs, values=df_training.nullValuesMI,aggfunc='count',normalize='all')\n",
    "df1"
   ]
  },
  {
   "cell_type": "code",
   "execution_count": 12,
   "metadata": {},
   "outputs": [
    {
     "data": {
      "text/html": [
       "<div>\n",
       "<style scoped>\n",
       "    .dataframe tbody tr th:only-of-type {\n",
       "        vertical-align: middle;\n",
       "    }\n",
       "\n",
       "    .dataframe tbody tr th {\n",
       "        vertical-align: top;\n",
       "    }\n",
       "\n",
       "    .dataframe thead th {\n",
       "        text-align: right;\n",
       "    }\n",
       "</style>\n",
       "<table border=\"1\" class=\"dataframe\">\n",
       "  <thead>\n",
       "    <tr style=\"text-align: right;\">\n",
       "      <th>SeriousDlqin2yrs</th>\n",
       "      <th>0</th>\n",
       "      <th>1</th>\n",
       "    </tr>\n",
       "    <tr>\n",
       "      <th>nullValuesND</th>\n",
       "      <th></th>\n",
       "      <th></th>\n",
       "    </tr>\n",
       "  </thead>\n",
       "  <tbody>\n",
       "    <tr>\n",
       "      <td>False</td>\n",
       "      <td>0.908193</td>\n",
       "      <td>0.065647</td>\n",
       "    </tr>\n",
       "    <tr>\n",
       "      <td>True</td>\n",
       "      <td>0.024967</td>\n",
       "      <td>0.001193</td>\n",
       "    </tr>\n",
       "  </tbody>\n",
       "</table>\n",
       "</div>"
      ],
      "text/plain": [
       "SeriousDlqin2yrs         0         1\n",
       "nullValuesND                        \n",
       "False             0.908193  0.065647\n",
       "True              0.024967  0.001193"
      ]
     },
     "execution_count": 12,
     "metadata": {},
     "output_type": "execute_result"
    }
   ],
   "source": [
    "df_training['nullValuesND'] = pd.isnull(df_training['NumberOfDependents'])\n",
    "df2 = pd.crosstab(index=df_training.nullValuesND, columns=df_training.SeriousDlqin2yrs, values=df_training.nullValuesND,aggfunc='count',normalize='all')\n",
    "df2"
   ]
  },
  {
   "cell_type": "markdown",
   "metadata": {},
   "source": [
    "NaN Value Handling akan dilakukan setelah Train Test Split untuk mencegah Data Leakage"
   ]
  },
  {
   "cell_type": "markdown",
   "metadata": {},
   "source": [
    "## Outlier Handling"
   ]
  },
  {
   "cell_type": "markdown",
   "metadata": {},
   "source": [
    "Outlier Handling yang akan dilakukan menggunakan upper fence dan lower fence sebagai batasannya dimana :<br> \n",
    "<b>IQR = Q3 - Q1<br>\n",
    "Upper Fence = Q3 + 1.5 X IQR<br>\n",
    "Lower Fence = Q1 - 1.5 x IQR</b><br>\n",
    "Dimana nilai feature yang diatas Upper Fence dan dibawah Lower Fence akan dianggap sebagai <b>Outlier</b><br>\n",
    "Jelas kondisinya akan disesuaikan dengan kondisi feature, dimana terdapat nilai outlier akan <b>dihapus / dibiarkan</b>."
   ]
  },
  {
   "cell_type": "markdown",
   "metadata": {},
   "source": [
    "### Outlier Handling for 'RevolvingUtilizationOfUnsecuredLines'"
   ]
  },
  {
   "cell_type": "markdown",
   "metadata": {},
   "source": [
    "- <b>IQR Calculation</b>"
   ]
  },
  {
   "cell_type": "code",
   "execution_count": 13,
   "metadata": {},
   "outputs": [
    {
     "name": "stdout",
     "output_type": "stream",
     "text": [
      "Lower Fence RUUL : -0.7639007662499999\n",
      "Upper Fence RUUL : 1.35281445575\n"
     ]
    }
   ],
   "source": [
    "IQR_RUUL = (df_training['RevolvingUtilizationOfUnsecuredLines'].quantile(0.75)) - (df_training['RevolvingUtilizationOfUnsecuredLines'].quantile(0.25)) # IQR\n",
    "lower_fence_RUUL = (df_training['RevolvingUtilizationOfUnsecuredLines'].quantile(0.25)) - (1.5 * IQR_RUUL) # Q1 - 1.5 X IQR\n",
    "upper_fence_RUUL = (df_training['RevolvingUtilizationOfUnsecuredLines'].quantile(0.75)) + (1.5 * IQR_RUUL) # Q3 + 1.5 X IQR\n",
    "print(f'Lower Fence RUUL : {lower_fence_RUUL}')\n",
    "print(f'Upper Fence RUUL : {upper_fence_RUUL}')"
   ]
  },
  {
   "cell_type": "markdown",
   "metadata": {},
   "source": [
    "- <b>Filter Outliers</b>"
   ]
  },
  {
   "cell_type": "code",
   "execution_count": 14,
   "metadata": {},
   "outputs": [
    {
     "name": "stdout",
     "output_type": "stream",
     "text": [
      "Jumlah Outlier yang akan dihandle adalah : 763 data (0.5086666666666666)%\n"
     ]
    }
   ],
   "source": [
    "jumlah_outlier_RUUL = len(df_training[df_training['RevolvingUtilizationOfUnsecuredLines'] < lower_fence_RUUL]) + len(df_training[df_training['RevolvingUtilizationOfUnsecuredLines'] > upper_fence_RUUL]) \n",
    "persen_RUUL = (jumlah_outlier_RUUL / len(df_training)) * 100\n",
    "print(f'Jumlah Outlier yang akan dihandle adalah : {jumlah_outlier_RUUL} data ({persen_RUUL})%')"
   ]
  },
  {
   "cell_type": "markdown",
   "metadata": {},
   "source": [
    "- <b>Drop Outliers</b>"
   ]
  },
  {
   "cell_type": "code",
   "execution_count": 15,
   "metadata": {},
   "outputs": [],
   "source": [
    "df_training.drop(df_training[df_training['RevolvingUtilizationOfUnsecuredLines']<lower_fence_RUUL].index,axis=0,inplace=True)\n",
    "df_training.drop(df_training[df_training['RevolvingUtilizationOfUnsecuredLines']>upper_fence_RUUL].index,axis=0,inplace=True)"
   ]
  },
  {
   "cell_type": "markdown",
   "metadata": {},
   "source": [
    "### Outlier Handling for 'age'"
   ]
  },
  {
   "cell_type": "markdown",
   "metadata": {},
   "source": [
    "- <b>IQR Calculation</b>"
   ]
  },
  {
   "cell_type": "code",
   "execution_count": 16,
   "metadata": {},
   "outputs": [
    {
     "name": "stdout",
     "output_type": "stream",
     "text": [
      "Lower Fence age : 8.0\n",
      "Upper Fence age : 96.0\n"
     ]
    }
   ],
   "source": [
    "IQR = (df_training['age'].quantile(0.75)) - (df_training['age'].quantile(0.25)) # IQR\n",
    "lower_fence_age = (df_training['age'].quantile(0.25)) - (1.5 * IQR) # Q1 - 1.5 X IQR\n",
    "upper_fence_age = (df_training['age'].quantile(0.75)) + (1.5 * IQR) # Q3 + 1.5 X IQR\n",
    "print(f'Lower Fence age : {lower_fence_age}')\n",
    "print(f'Upper Fence age : {upper_fence_age}')"
   ]
  },
  {
   "cell_type": "markdown",
   "metadata": {},
   "source": [
    "- <b>Filter Outliers</b>"
   ]
  },
  {
   "cell_type": "code",
   "execution_count": 17,
   "metadata": {},
   "outputs": [
    {
     "name": "stdout",
     "output_type": "stream",
     "text": [
      "Jumlah Outlier yang akan dihandle adalah : 1 data (0.0006700751154204386)%\n"
     ]
    }
   ],
   "source": [
    "jumlah_outlier_age = len(df_training[df_training['age'] < lower_fence_age]) \n",
    "persen_age = (jumlah_outlier_age / len(df_training)) * 100\n",
    "print(f'Jumlah Outlier yang akan dihandle adalah : {jumlah_outlier_age} data ({persen_age})%')"
   ]
  },
  {
   "cell_type": "markdown",
   "metadata": {},
   "source": [
    "- <b>Drop Outliers</b>"
   ]
  },
  {
   "cell_type": "code",
   "execution_count": 18,
   "metadata": {},
   "outputs": [],
   "source": [
    "df_training.drop(df_training[df_training['age']<lower_fence_age].index,axis=0,inplace=True)"
   ]
  },
  {
   "cell_type": "markdown",
   "metadata": {},
   "source": [
    "### Outlier Handling for 'NumberOfTime30-59DaysPastDueNotWorse'"
   ]
  },
  {
   "cell_type": "markdown",
   "metadata": {},
   "source": [
    "- <b>IQR Calculation</b>"
   ]
  },
  {
   "cell_type": "code",
   "execution_count": 19,
   "metadata": {},
   "outputs": [
    {
     "name": "stdout",
     "output_type": "stream",
     "text": [
      "Lower Fence NT3059 : 0.0\n",
      "Upper Fence NT3059 : 0.0\n"
     ]
    }
   ],
   "source": [
    "IQR_NT3059 = (df_training['NumberOfTime30-59DaysPastDueNotWorse'].quantile(0.75)) - (df_training['NumberOfTime30-59DaysPastDueNotWorse'].quantile(0.25)) # IQR\n",
    "lower_fence_NT3059 = (df_training['NumberOfTime30-59DaysPastDueNotWorse'].quantile(0.25)) - (1.5 * IQR_NT3059) # Q1 - 1.5 X IQR\n",
    "upper_fence_NT3059 = (df_training['NumberOfTime30-59DaysPastDueNotWorse'].quantile(0.75)) + (1.5 * IQR_NT3059) # Q3 + 1.5 X IQR\n",
    "print(f'Lower Fence NT3059 : {lower_fence_NT3059}')\n",
    "print(f'Upper Fence NT3059 : {upper_fence_NT3059}')"
   ]
  },
  {
   "cell_type": "markdown",
   "metadata": {},
   "source": [
    "Dapat dilihat bahwa Lower Fence dan Upper Fence adalah 0, hal ini disebabkan oleh nilai IQR yang 0. Nilai IQR ini disebabkan oleh banyaknya data bernilai 0 dalam features NumberOfTime30-59DaysPastDueNotWorse. Oleh karena itu outlier handling akan dilakukan secara manual."
   ]
  },
  {
   "cell_type": "markdown",
   "metadata": {},
   "source": [
    "- <b>Filter Outliers</b>"
   ]
  },
  {
   "cell_type": "code",
   "execution_count": 20,
   "metadata": {},
   "outputs": [
    {
     "data": {
      "text/plain": [
       "0     125562\n",
       "1      15857\n",
       "2       4521\n",
       "3       1720\n",
       "4        733\n",
       "5        338\n",
       "98       264\n",
       "6        138\n",
       "7         53\n",
       "8         25\n",
       "9         12\n",
       "96         5\n",
       "10         4\n",
       "12         2\n",
       "13         1\n",
       "11         1\n",
       "Name: NumberOfTime30-59DaysPastDueNotWorse, dtype: int64"
      ]
     },
     "execution_count": 20,
     "metadata": {},
     "output_type": "execute_result"
    }
   ],
   "source": [
    "df_training['NumberOfTime30-59DaysPastDueNotWorse'].value_counts()"
   ]
  },
  {
   "cell_type": "markdown",
   "metadata": {},
   "source": [
    "Dapat dilihat pada jumlah unik data (value_counts) pada features ini, bahwa terdapat value 96 dan 98. Kemungkinan besar ini merupakan typo (salah ketik) yang dilakukan oleh penyedia data. Features NumberOfTime30-59DaysPastDueNotWorse menunjukkan berapa kali pemilik kredit mengalami keterlambatan bayar dalam kurun waktu 30-59 hari, bila dihitung (96 * 50 hari) adalah 13 tahun yang mana mustahil, sehingga value features 96 dan 98 dihapus"
   ]
  },
  {
   "cell_type": "markdown",
   "metadata": {},
   "source": [
    "- <b>Drop Outliers</b>"
   ]
  },
  {
   "cell_type": "code",
   "execution_count": 21,
   "metadata": {},
   "outputs": [],
   "source": [
    "df_training.drop(df_training[df_training['NumberOfTime30-59DaysPastDueNotWorse']==96].index,axis=0,inplace=True)\n",
    "df_training.drop(df_training[df_training['NumberOfTime30-59DaysPastDueNotWorse']==98].index,axis=0,inplace=True)"
   ]
  },
  {
   "cell_type": "markdown",
   "metadata": {},
   "source": [
    "### Outlier Handling for 'DebtRatio'"
   ]
  },
  {
   "cell_type": "markdown",
   "metadata": {},
   "source": [
    "- <b>IQR Calculation</b>"
   ]
  },
  {
   "cell_type": "code",
   "execution_count": 22,
   "metadata": {},
   "outputs": [
    {
     "name": "stdout",
     "output_type": "stream",
     "text": [
      "Lower Fence DR : -0.862476942\n",
      "Upper Fence DR : 1.90703183\n"
     ]
    }
   ],
   "source": [
    "IQR_DR = (df_training['DebtRatio'].quantile(0.75)) - (df_training['DebtRatio'].quantile(0.25)) # IQR\n",
    "lower_fence_DR = (df_training['DebtRatio'].quantile(0.25)) - (1.5 * IQR_DR) # Q1 - 1.5 X IQR\n",
    "upper_fence_DR = (df_training['DebtRatio'].quantile(0.75)) + (1.5 * IQR_DR) # Q3 + 1.5 X IQR\n",
    "print(f'Lower Fence DR : {lower_fence_DR}')\n",
    "print(f'Upper Fence DR : {upper_fence_DR}')"
   ]
  },
  {
   "cell_type": "markdown",
   "metadata": {},
   "source": [
    "- <b>Filter Outliers</b>"
   ]
  },
  {
   "cell_type": "code",
   "execution_count": 23,
   "metadata": {},
   "outputs": [
    {
     "name": "stdout",
     "output_type": "stream",
     "text": [
      "Jumlah Outlier yang akan dihandle adalah : 31089 data (20.869722824518185)%\n"
     ]
    }
   ],
   "source": [
    "jumlah_outlier_DR = len(df_training[df_training['DebtRatio'] < lower_fence_DR]) + len(df_training[df_training['DebtRatio'] > upper_fence_DR])\n",
    "persen_DR = (jumlah_outlier_DR / len(df_training)) * 100\n",
    "print(f'Jumlah Outlier yang akan dihandle adalah : {jumlah_outlier_DR} data ({persen_DR})%')"
   ]
  },
  {
   "cell_type": "markdown",
   "metadata": {},
   "source": [
    "Jumlah data yang mejadi outlier adalah 31115 atau 20.85% dari keseluruhan data, karena jumlahnya yang banyak maka outlier <b>tidak akan di handling</b> karena dikhawatirkan akan mengubah data"
   ]
  },
  {
   "cell_type": "markdown",
   "metadata": {},
   "source": [
    "### Outlier Handling for 'MonthlyIncome'"
   ]
  },
  {
   "cell_type": "markdown",
   "metadata": {},
   "source": [
    "- <b>IQR Calculation</b>"
   ]
  },
  {
   "cell_type": "code",
   "execution_count": 24,
   "metadata": {},
   "outputs": [
    {
     "name": "stdout",
     "output_type": "stream",
     "text": [
      "Lower Fence MI : -3875.0\n",
      "Upper Fence MI : 15525.0\n"
     ]
    }
   ],
   "source": [
    "IQR_MI = (df_training['MonthlyIncome'].quantile(0.75)) - (df_training['MonthlyIncome'].quantile(0.25)) # IQR\n",
    "lower_fence_MI = (df_training['MonthlyIncome'].quantile(0.25)) - (1.5 * IQR_MI) # Q1 - 1.5 X IQR\n",
    "upper_fence_MI = (df_training['MonthlyIncome'].quantile(0.75)) + (1.5 * IQR_MI) # Q3 + 1.5 X IQR\n",
    "print(f'Lower Fence MI : {lower_fence_MI}')\n",
    "print(f'Upper Fence MI : {upper_fence_MI}')"
   ]
  },
  {
   "cell_type": "markdown",
   "metadata": {},
   "source": [
    "- <b>Filter Outliers</b>"
   ]
  },
  {
   "cell_type": "code",
   "execution_count": 25,
   "metadata": {},
   "outputs": [
    {
     "name": "stdout",
     "output_type": "stream",
     "text": [
      "Jumlah Outlier yang akan dihandle adalah : 4846 data (3.253069471762202)%\n"
     ]
    }
   ],
   "source": [
    "jumlah_outlier_MI = len(df_training[df_training['MonthlyIncome'] < lower_fence_MI]) + len(df_training[df_training['MonthlyIncome'] > upper_fence_MI])\n",
    "persen_MI = (jumlah_outlier_MI / len(df_training)) * 100\n",
    "print(f'Jumlah Outlier yang akan dihandle adalah : {jumlah_outlier_MI} data ({persen_MI})%')"
   ]
  },
  {
   "cell_type": "markdown",
   "metadata": {},
   "source": [
    "Pada data Monthly Income tidak ditemukan nilai dibawah negatif, juga ditemukan nilai diatas nilai upper fence sebanyak 4879 buah. Hal ini masuk akal karena MonthlyIncome sangat bervariasi tergantung jabatan, pendidikan dll. oleh karena itu data <b>tidak akan di handling</b> "
   ]
  },
  {
   "cell_type": "markdown",
   "metadata": {},
   "source": [
    "### Outlier Handling for 'NumberOfOpenCreditLinesAndLoans'"
   ]
  },
  {
   "cell_type": "markdown",
   "metadata": {},
   "source": [
    "- <b>IQR Calculation</b>"
   ]
  },
  {
   "cell_type": "code",
   "execution_count": 26,
   "metadata": {},
   "outputs": [
    {
     "name": "stdout",
     "output_type": "stream",
     "text": [
      "Lower Fence NOCLL : -4.0\n",
      "Upper Fence NOCLL : 20.0\n"
     ]
    }
   ],
   "source": [
    "IQR_NOCLL = (df_training['NumberOfOpenCreditLinesAndLoans'].quantile(0.75)) - (df_training['NumberOfOpenCreditLinesAndLoans'].quantile(0.25)) # IQR\n",
    "lower_fence_NOCLL = (df_training['NumberOfOpenCreditLinesAndLoans'].quantile(0.25)) - (1.5 * IQR_NOCLL) # Q1 - 1.5 X IQR\n",
    "upper_fence_NOCLL = (df_training['NumberOfOpenCreditLinesAndLoans'].quantile(0.75)) + (1.5 * IQR_NOCLL) # Q3 + 1.5 X IQR\n",
    "print(f'Lower Fence NOCLL : {lower_fence_NOCLL}')\n",
    "print(f'Upper Fence NOCLL : {upper_fence_NOCLL}')"
   ]
  },
  {
   "cell_type": "markdown",
   "metadata": {},
   "source": [
    "- <b>Filter Outliers</b>"
   ]
  },
  {
   "cell_type": "code",
   "execution_count": 27,
   "metadata": {},
   "outputs": [
    {
     "name": "stdout",
     "output_type": "stream",
     "text": [
      "Jumlah Outlier yang akan dihandle adalah : 3975 data (2.6683762175515384)%\n"
     ]
    }
   ],
   "source": [
    "jumlah_outlier_NOCLL = len(df_training[df_training['NumberOfOpenCreditLinesAndLoans'] < lower_fence_NOCLL]) + len(df_training[df_training['NumberOfOpenCreditLinesAndLoans'] > upper_fence_NOCLL])\n",
    "persen_NOCLL = (jumlah_outlier_NOCLL / len(df_training)) * 100\n",
    "print(f'Jumlah Outlier yang akan dihandle adalah : {jumlah_outlier_NOCLL} data ({persen_NOCLL})%')"
   ]
  },
  {
   "cell_type": "markdown",
   "metadata": {},
   "source": [
    "Pada NumberOfOpenCreditLinesAndLoans tidak terdapat nilai negatif dan memungkinkan apabila jumlahnya diatas 20 buah oleh karena itu outlier pada data ini <b>tidak akan dihapus</b>"
   ]
  },
  {
   "cell_type": "markdown",
   "metadata": {},
   "source": [
    "### Outlier Handling for 'NumberOfTimes90DaysLate'"
   ]
  },
  {
   "cell_type": "markdown",
   "metadata": {},
   "source": [
    "- <b>IQR Calculation</b>"
   ]
  },
  {
   "cell_type": "code",
   "execution_count": 28,
   "metadata": {},
   "outputs": [
    {
     "name": "stdout",
     "output_type": "stream",
     "text": [
      "Lower Fence NT90 : 0.0\n",
      "Upper Fence NT90 : 0.0\n"
     ]
    }
   ],
   "source": [
    "IQR_NT90 = (df_training['NumberOfTimes90DaysLate'].quantile(0.75)) - (df_training['NumberOfTimes90DaysLate'].quantile(0.25)) # IQR\n",
    "lower_fence_NT90 = (df_training['NumberOfTimes90DaysLate'].quantile(0.25)) - (1.5 * IQR_NT90) # Q1 - 1.5 X IQR\n",
    "upper_fence_NT90 = (df_training['NumberOfTimes90DaysLate'].quantile(0.75)) + (1.5 * IQR_NT90) # Q3 + 1.5 X IQR\n",
    "print(f'Lower Fence NT90 : {lower_fence_NT90}')\n",
    "print(f'Upper Fence NT90 : {upper_fence_NT90}')"
   ]
  },
  {
   "cell_type": "markdown",
   "metadata": {},
   "source": [
    "Nilai IQR yang 0 disebabkan oleh banyaknya data bernilai 0"
   ]
  },
  {
   "cell_type": "markdown",
   "metadata": {},
   "source": [
    "- <b>Filter Outliers</b>"
   ]
  },
  {
   "cell_type": "code",
   "execution_count": 29,
   "metadata": {},
   "outputs": [
    {
     "data": {
      "text/plain": [
       "0     141155\n",
       "1       5146\n",
       "2       1490\n",
       "3        628\n",
       "4        266\n",
       "5        120\n",
       "6         72\n",
       "7         34\n",
       "9         18\n",
       "8         17\n",
       "10         8\n",
       "11         5\n",
       "12         2\n",
       "13         2\n",
       "14         2\n",
       "15         1\n",
       "17         1\n",
       "Name: NumberOfTimes90DaysLate, dtype: int64"
      ]
     },
     "execution_count": 29,
     "metadata": {},
     "output_type": "execute_result"
    }
   ],
   "source": [
    "df_training['NumberOfTimes90DaysLate'].value_counts()"
   ]
  },
  {
   "cell_type": "markdown",
   "metadata": {},
   "source": [
    "### Outlier Handling for 'NumberRealEstateLoansOrLines'"
   ]
  },
  {
   "cell_type": "markdown",
   "metadata": {},
   "source": [
    "- <b>IQR Calculation</b>"
   ]
  },
  {
   "cell_type": "code",
   "execution_count": 30,
   "metadata": {},
   "outputs": [
    {
     "name": "stdout",
     "output_type": "stream",
     "text": [
      "Lower Fence NRELL : -3.0\n",
      "Upper Fence NRELL : 5.0\n"
     ]
    }
   ],
   "source": [
    "IQR_NRELL = (df_training['NumberRealEstateLoansOrLines'].quantile(0.75)) - (df_training['NumberRealEstateLoansOrLines'].quantile(0.25)) # IQR\n",
    "lower_fence_NRELL = (df_training['NumberRealEstateLoansOrLines'].quantile(0.25)) - (1.5 * IQR_NRELL) # Q1 - 1.5 X IQR\n",
    "upper_fence_NRELL = (df_training['NumberRealEstateLoansOrLines'].quantile(0.75)) + (1.5 * IQR_NRELL) # Q3 + 1.5 X IQR\n",
    "print(f'Lower Fence NRELL : {lower_fence_NRELL}')\n",
    "print(f'Upper Fence NRELL : {upper_fence_NRELL}')"
   ]
  },
  {
   "cell_type": "markdown",
   "metadata": {},
   "source": [
    "- <b>Filter Outliers</b>"
   ]
  },
  {
   "cell_type": "code",
   "execution_count": 31,
   "metadata": {},
   "outputs": [
    {
     "name": "stdout",
     "output_type": "stream",
     "text": [
      "Jumlah Outlier yang akan dihandle adalah : 790 data (0.5303187954379158)%\n"
     ]
    }
   ],
   "source": [
    "jumlah_outlier_NRELL = len(df_training[df_training['NumberRealEstateLoansOrLines'] < lower_fence_NRELL]) + len(df_training[df_training['NumberRealEstateLoansOrLines'] > upper_fence_NRELL])\n",
    "persen_NRELL = (jumlah_outlier_NRELL / len(df_training)) * 100\n",
    "print(f'Jumlah Outlier yang akan dihandle adalah : {jumlah_outlier_NRELL} data ({persen_NRELL})%')"
   ]
  },
  {
   "cell_type": "markdown",
   "metadata": {},
   "source": [
    "Pada data NumberRealEstateLoansOrLines sangat memungkingkan apabila terdapat data diatas nilai outlier, oleh karena itu data <b>tidak akan di handling</b> "
   ]
  },
  {
   "cell_type": "markdown",
   "metadata": {},
   "source": [
    "### Outlier Handling for 'NumberOfTime60-89DaysPastDueNotWorse'"
   ]
  },
  {
   "cell_type": "markdown",
   "metadata": {},
   "source": [
    "- <b>IQR Calculation</b>"
   ]
  },
  {
   "cell_type": "code",
   "execution_count": 32,
   "metadata": {},
   "outputs": [
    {
     "name": "stdout",
     "output_type": "stream",
     "text": [
      "Lower Fence NT6089 : 0.0\n",
      "Upper Fence NT6089 : 0.0\n"
     ]
    }
   ],
   "source": [
    "IQR_NT6089 = (df_training['NumberOfTime60-89DaysPastDueNotWorse'].quantile(0.75)) - (df_training['NumberOfTime60-89DaysPastDueNotWorse'].quantile(0.25)) # IQR\n",
    "lower_fence_NT6089 = (df_training['NumberOfTime60-89DaysPastDueNotWorse'].quantile(0.25)) - (1.5 * IQR_NT6089) # Q1 - 1.5 X IQR\n",
    "upper_fence_NT6089 = (df_training['NumberOfTime60-89DaysPastDueNotWorse'].quantile(0.75)) + (1.5 * IQR_NT6089) # Q3 + 1.5 X IQR\n",
    "print(f'Lower Fence NT6089 : {lower_fence_NT6089}')\n",
    "print(f'Upper Fence NT6089 : {upper_fence_NT6089}')"
   ]
  },
  {
   "cell_type": "markdown",
   "metadata": {},
   "source": [
    "Nilai IQR yang 0 disebabkan oleh banyaknya data bernilai 0"
   ]
  },
  {
   "cell_type": "markdown",
   "metadata": {},
   "source": [
    "- <b>Filter Outliers</b>"
   ]
  },
  {
   "cell_type": "code",
   "execution_count": 33,
   "metadata": {},
   "outputs": [
    {
     "data": {
      "text/plain": [
       "0     141845\n",
       "1       5605\n",
       "2       1060\n",
       "3        301\n",
       "4         98\n",
       "5         33\n",
       "6         15\n",
       "7          6\n",
       "8          2\n",
       "11         1\n",
       "9          1\n",
       "Name: NumberOfTime60-89DaysPastDueNotWorse, dtype: int64"
      ]
     },
     "execution_count": 33,
     "metadata": {},
     "output_type": "execute_result"
    }
   ],
   "source": [
    "df_training['NumberOfTime60-89DaysPastDueNotWorse'].value_counts()"
   ]
  },
  {
   "cell_type": "markdown",
   "metadata": {},
   "source": [
    "### Outlier Handling for 'NumberOfDependents'"
   ]
  },
  {
   "cell_type": "markdown",
   "metadata": {},
   "source": [
    "- <b>IQR Calculation</b>"
   ]
  },
  {
   "cell_type": "code",
   "execution_count": 34,
   "metadata": {},
   "outputs": [
    {
     "name": "stdout",
     "output_type": "stream",
     "text": [
      "Lower Fence ND : -1.5\n",
      "Upper Fence ND : 2.5\n"
     ]
    }
   ],
   "source": [
    "IQR_ND = (df_training['NumberOfDependents'].quantile(0.75)) - (df_training['NumberOfDependents'].quantile(0.25)) # IQR\n",
    "lower_fence_ND = (df_training['NumberOfDependents'].quantile(0.25)) - (1.5 * IQR_ND) # Q1 - 1.5 X IQR\n",
    "upper_fence_ND = (df_training['NumberOfDependents'].quantile(0.75)) + (1.5 * IQR_ND) # Q3 + 1.5 X IQR\n",
    "print(f'Lower Fence ND : {lower_fence_ND}')\n",
    "print(f'Upper Fence ND : {upper_fence_ND}')"
   ]
  },
  {
   "cell_type": "markdown",
   "metadata": {},
   "source": [
    "- <b>Filter Outliers</b>"
   ]
  },
  {
   "cell_type": "code",
   "execution_count": 35,
   "metadata": {},
   "outputs": [
    {
     "name": "stdout",
     "output_type": "stream",
     "text": [
      "Jumlah Outlier yang akan dihandle adalah : 13251 data (8.895258681452939)%\n"
     ]
    }
   ],
   "source": [
    "jumlah_outlier_ND = len(df_training[df_training['NumberOfDependents'] < lower_fence_ND]) + len(df_training[df_training['NumberOfDependents'] > upper_fence_ND])\n",
    "persen_ND = (jumlah_outlier_ND / len(df_training)) * 100\n",
    "print(f'Jumlah Outlier yang akan dihandle adalah : {jumlah_outlier_ND} data ({persen_ND})%')"
   ]
  },
  {
   "cell_type": "markdown",
   "metadata": {},
   "source": [
    "Jumlah data yang mejadi outlier adalah 13336 atau 8.89% dari keseluruhan data, karena jumlahnya yang banyak maka outlier <b>tidak akan di handling</b> karena dikhawatirkan akan mengubah data"
   ]
  },
  {
   "cell_type": "markdown",
   "metadata": {},
   "source": [
    "## Outlier Handling Summary"
   ]
  },
  {
   "cell_type": "code",
   "execution_count": 36,
   "metadata": {},
   "outputs": [],
   "source": [
    "data = [{\n",
    "    'Upper Fence':f'{lower_fence_RUUL}',\n",
    "    'Lower Fence':f'{upper_fence_RUUL}',\n",
    "    'Jumlah Outlier yang di Handle':f'{jumlah_outlier_RUUL}'\n",
    "},\n",
    "    \n",
    "{\n",
    "    'Upper Fence':f'{lower_fence_age}',\n",
    "    'Lower Fence':f'{upper_fence_age}',\n",
    "    'Jumlah Outlier yang di Handle':f'{jumlah_outlier_age}'  \n",
    "},\n",
    "{\n",
    "    'Upper Fence':f'{lower_fence_NT3059}',\n",
    "    'Lower Fence':f'{upper_fence_NT3059}',\n",
    "    'Jumlah Outlier yang di Handle': 2\n",
    "},\n",
    "{    \n",
    "    'Upper Fence':f'{lower_fence_DR}',\n",
    "    'Lower Fence':f'{upper_fence_DR}',\n",
    "    'Jumlah Outlier yang di Handle':0\n",
    "},\n",
    "{    \n",
    "     'Upper Fence':f'{lower_fence_MI}',\n",
    "    'Lower Fence':f'{upper_fence_MI}',\n",
    "    'Jumlah Outlier yang di Handle': 0\n",
    "},\n",
    "{    \n",
    "     'Upper Fence':f'{lower_fence_NOCLL}',\n",
    "    'Lower Fence':f'{upper_fence_NOCLL}',\n",
    "    'Jumlah Outlier yang di Handle': 0\n",
    "},\n",
    "{    \n",
    "     'Upper Fence':f'{lower_fence_NT90}',\n",
    "    'Lower Fence':f'{upper_fence_NT90}',\n",
    "    'Jumlah Outlier yang di Handle': 0\n",
    "},\n",
    "{    \n",
    "     'Upper Fence':f'{lower_fence_NRELL}',\n",
    "    'Lower Fence':f'{upper_fence_NRELL}',\n",
    "    'Jumlah Outlier yang di Handle': 0\n",
    "},\n",
    "{    \n",
    "     'Upper Fence':f'{lower_fence_NT6089}',\n",
    "    'Lower Fence':f'{upper_fence_NT6089}',\n",
    "    'Jumlah Outlier yang di Handle': 0\n",
    "}, \n",
    "{    \n",
    "  'Upper Fence':f'{lower_fence_ND}',\n",
    "    'Lower Fence':f'{upper_fence_ND}',\n",
    "    'Jumlah Outlier yang di Handle': 0\n",
    "    \n",
    "    }]"
   ]
  },
  {
   "cell_type": "code",
   "execution_count": 37,
   "metadata": {},
   "outputs": [
    {
     "data": {
      "text/html": [
       "<div>\n",
       "<style scoped>\n",
       "    .dataframe tbody tr th:only-of-type {\n",
       "        vertical-align: middle;\n",
       "    }\n",
       "\n",
       "    .dataframe tbody tr th {\n",
       "        vertical-align: top;\n",
       "    }\n",
       "\n",
       "    .dataframe thead th {\n",
       "        text-align: right;\n",
       "    }\n",
       "</style>\n",
       "<table border=\"1\" class=\"dataframe\">\n",
       "  <thead>\n",
       "    <tr style=\"text-align: right;\">\n",
       "      <th></th>\n",
       "      <th>Upper Fence</th>\n",
       "      <th>Lower Fence</th>\n",
       "      <th>Jumlah Outlier yang di Handle</th>\n",
       "    </tr>\n",
       "  </thead>\n",
       "  <tbody>\n",
       "    <tr>\n",
       "      <td>RevolvingUtilizationOfUnsecuredLines</td>\n",
       "      <td>-0.7639007662499999</td>\n",
       "      <td>1.35281445575</td>\n",
       "      <td>763</td>\n",
       "    </tr>\n",
       "    <tr>\n",
       "      <td>age</td>\n",
       "      <td>8.0</td>\n",
       "      <td>96.0</td>\n",
       "      <td>1</td>\n",
       "    </tr>\n",
       "    <tr>\n",
       "      <td>NumberOfTime30-59DaysPastDueNotWorse</td>\n",
       "      <td>0.0</td>\n",
       "      <td>0.0</td>\n",
       "      <td>2</td>\n",
       "    </tr>\n",
       "    <tr>\n",
       "      <td>DebtRatio</td>\n",
       "      <td>-0.862476942</td>\n",
       "      <td>1.90703183</td>\n",
       "      <td>0</td>\n",
       "    </tr>\n",
       "    <tr>\n",
       "      <td>MonthlyIncome</td>\n",
       "      <td>-3875.0</td>\n",
       "      <td>15525.0</td>\n",
       "      <td>0</td>\n",
       "    </tr>\n",
       "    <tr>\n",
       "      <td>NumberOfOpenCreditLinesAndLoans</td>\n",
       "      <td>-4.0</td>\n",
       "      <td>20.0</td>\n",
       "      <td>0</td>\n",
       "    </tr>\n",
       "    <tr>\n",
       "      <td>NumberOfTimes90DaysLate</td>\n",
       "      <td>0.0</td>\n",
       "      <td>0.0</td>\n",
       "      <td>0</td>\n",
       "    </tr>\n",
       "    <tr>\n",
       "      <td>NumberRealEstateLoansOrLines</td>\n",
       "      <td>-3.0</td>\n",
       "      <td>5.0</td>\n",
       "      <td>0</td>\n",
       "    </tr>\n",
       "    <tr>\n",
       "      <td>NumberOfTime60-89DaysPastDueNotWorse</td>\n",
       "      <td>0.0</td>\n",
       "      <td>0.0</td>\n",
       "      <td>0</td>\n",
       "    </tr>\n",
       "    <tr>\n",
       "      <td>NumberOfDependents</td>\n",
       "      <td>-1.5</td>\n",
       "      <td>2.5</td>\n",
       "      <td>0</td>\n",
       "    </tr>\n",
       "  </tbody>\n",
       "</table>\n",
       "</div>"
      ],
      "text/plain": [
       "                                              Upper Fence    Lower Fence  \\\n",
       "RevolvingUtilizationOfUnsecuredLines  -0.7639007662499999  1.35281445575   \n",
       "age                                                   8.0           96.0   \n",
       "NumberOfTime30-59DaysPastDueNotWorse                  0.0            0.0   \n",
       "DebtRatio                                    -0.862476942     1.90703183   \n",
       "MonthlyIncome                                     -3875.0        15525.0   \n",
       "NumberOfOpenCreditLinesAndLoans                      -4.0           20.0   \n",
       "NumberOfTimes90DaysLate                               0.0            0.0   \n",
       "NumberRealEstateLoansOrLines                         -3.0            5.0   \n",
       "NumberOfTime60-89DaysPastDueNotWorse                  0.0            0.0   \n",
       "NumberOfDependents                                   -1.5            2.5   \n",
       "\n",
       "                                     Jumlah Outlier yang di Handle  \n",
       "RevolvingUtilizationOfUnsecuredLines                           763  \n",
       "age                                                              1  \n",
       "NumberOfTime30-59DaysPastDueNotWorse                             2  \n",
       "DebtRatio                                                        0  \n",
       "MonthlyIncome                                                    0  \n",
       "NumberOfOpenCreditLinesAndLoans                                  0  \n",
       "NumberOfTimes90DaysLate                                          0  \n",
       "NumberRealEstateLoansOrLines                                     0  \n",
       "NumberOfTime60-89DaysPastDueNotWorse                             0  \n",
       "NumberOfDependents                                               0  "
      ]
     },
     "execution_count": 37,
     "metadata": {},
     "output_type": "execute_result"
    }
   ],
   "source": [
    "df_training2 = df_training.drop(['nullValuesMI','nullValuesND'],axis=1)\n",
    "pd.DataFrame(data,index=df_training2.columns[1:])"
   ]
  },
  {
   "cell_type": "markdown",
   "metadata": {},
   "source": [
    "## Feature Engineering - Binning Age"
   ]
  },
  {
   "cell_type": "code",
   "execution_count": 38,
   "metadata": {},
   "outputs": [
    {
     "data": {
      "text/html": [
       "<div>\n",
       "<style scoped>\n",
       "    .dataframe tbody tr th:only-of-type {\n",
       "        vertical-align: middle;\n",
       "    }\n",
       "\n",
       "    .dataframe tbody tr th {\n",
       "        vertical-align: top;\n",
       "    }\n",
       "\n",
       "    .dataframe thead th {\n",
       "        text-align: right;\n",
       "    }\n",
       "</style>\n",
       "<table border=\"1\" class=\"dataframe\">\n",
       "  <thead>\n",
       "    <tr style=\"text-align: right;\">\n",
       "      <th></th>\n",
       "      <th>age</th>\n",
       "      <th>MonthlyIncome</th>\n",
       "      <th>binned_age</th>\n",
       "    </tr>\n",
       "    <tr>\n",
       "      <th>index</th>\n",
       "      <th></th>\n",
       "      <th></th>\n",
       "      <th></th>\n",
       "    </tr>\n",
       "  </thead>\n",
       "  <tbody>\n",
       "    <tr>\n",
       "      <td>1</td>\n",
       "      <td>45</td>\n",
       "      <td>9120.0</td>\n",
       "      <td>(41-50)</td>\n",
       "    </tr>\n",
       "    <tr>\n",
       "      <td>2</td>\n",
       "      <td>40</td>\n",
       "      <td>2600.0</td>\n",
       "      <td>(31-40)</td>\n",
       "    </tr>\n",
       "    <tr>\n",
       "      <td>3</td>\n",
       "      <td>38</td>\n",
       "      <td>3042.0</td>\n",
       "      <td>(31-40)</td>\n",
       "    </tr>\n",
       "    <tr>\n",
       "      <td>4</td>\n",
       "      <td>30</td>\n",
       "      <td>3300.0</td>\n",
       "      <td>(21-30)</td>\n",
       "    </tr>\n",
       "    <tr>\n",
       "      <td>5</td>\n",
       "      <td>49</td>\n",
       "      <td>63588.0</td>\n",
       "      <td>(41-50)</td>\n",
       "    </tr>\n",
       "  </tbody>\n",
       "</table>\n",
       "</div>"
      ],
      "text/plain": [
       "       age  MonthlyIncome binned_age\n",
       "index                               \n",
       "1       45         9120.0    (41-50)\n",
       "2       40         2600.0    (31-40)\n",
       "3       38         3042.0    (31-40)\n",
       "4       30         3300.0    (21-30)\n",
       "5       49        63588.0    (41-50)"
      ]
     },
     "execution_count": 38,
     "metadata": {},
     "output_type": "execute_result"
    }
   ],
   "source": [
    "# Binning age by interval 10\n",
    "bins = [-1,21,31,41,51,61,71,81,91,101,111] # binning dengan interval 10 kecuali yang pertama karena hanya ditemukan 1 data dengan age 0 (outlier)\n",
    "label = ['(0-20)','(21-30)','(31-40)','(41-50)','(51-60)','(61-70)','(71-80)','(81-90)','(91-100)','(101-111)'] # label umur\n",
    "df_training['binned_age']=pd.cut(df_training['age'],bins=bins,labels=label)\n",
    "df_training[['age','MonthlyIncome','binned_age']].head()"
   ]
  },
  {
   "cell_type": "markdown",
   "metadata": {},
   "source": [
    "## Train Test Split"
   ]
  },
  {
   "cell_type": "code",
   "execution_count": 39,
   "metadata": {},
   "outputs": [],
   "source": [
    "X = df_training.drop(columns='SeriousDlqin2yrs')\n",
    "y = df_training['SeriousDlqin2yrs']\n",
    "X_train, X_test, y_train, y_test = train_test_split(X ,y ,stratify = y, train_size=.75, random_state=42) # data split"
   ]
  },
  {
   "cell_type": "markdown",
   "metadata": {},
   "source": [
    "## Data Imputation"
   ]
  },
  {
   "cell_type": "code",
   "execution_count": 40,
   "metadata": {},
   "outputs": [],
   "source": [
    "X_train['MonthlyIncome'] = X_train.groupby('binned_age')['MonthlyIncome'].apply(lambda x:x.fillna(x.median()))"
   ]
  },
  {
   "cell_type": "code",
   "execution_count": 41,
   "metadata": {},
   "outputs": [],
   "source": [
    "X_train['NumberOfDependents'] = X_train.groupby('binned_age')['NumberOfDependents'].apply(lambda x:x.fillna(x.median()))"
   ]
  },
  {
   "cell_type": "code",
   "execution_count": 42,
   "metadata": {},
   "outputs": [],
   "source": [
    "X_test['MonthlyIncome'] = X_test.groupby('binned_age')['MonthlyIncome'].apply(lambda x:x.fillna(x.median()))"
   ]
  },
  {
   "cell_type": "code",
   "execution_count": 43,
   "metadata": {},
   "outputs": [],
   "source": [
    "X_test['NumberOfDependents'] = X_test.groupby('binned_age')['NumberOfDependents'].apply(lambda x:x.fillna(x.median()))"
   ]
  },
  {
   "cell_type": "markdown",
   "metadata": {},
   "source": [
    "## Feature Selection"
   ]
  },
  {
   "cell_type": "code",
   "execution_count": 44,
   "metadata": {},
   "outputs": [
    {
     "data": {
      "text/plain": [
       "Index(['SeriousDlqin2yrs', 'RevolvingUtilizationOfUnsecuredLines', 'age',\n",
       "       'NumberOfTime30-59DaysPastDueNotWorse', 'DebtRatio', 'MonthlyIncome',\n",
       "       'NumberOfOpenCreditLinesAndLoans', 'NumberOfTimes90DaysLate',\n",
       "       'NumberRealEstateLoansOrLines', 'NumberOfTime60-89DaysPastDueNotWorse',\n",
       "       'NumberOfDependents', 'nullValuesMI', 'nullValuesND', 'binned_age'],\n",
       "      dtype='object')"
      ]
     },
     "execution_count": 44,
     "metadata": {},
     "output_type": "execute_result"
    }
   ],
   "source": [
    "df_training.columns"
   ]
  },
  {
   "cell_type": "code",
   "execution_count": 45,
   "metadata": {},
   "outputs": [],
   "source": [
    "X_train.drop(['nullValuesMI','nullValuesND','binned_age'],axis=1,inplace=True)"
   ]
  },
  {
   "cell_type": "code",
   "execution_count": 46,
   "metadata": {},
   "outputs": [],
   "source": [
    "X_test.drop(['nullValuesMI','nullValuesND','binned_age'],axis=1,inplace=True)"
   ]
  },
  {
   "cell_type": "markdown",
   "metadata": {},
   "source": [
    "## Data Imbalanced Handling"
   ]
  },
  {
   "cell_type": "markdown",
   "metadata": {},
   "source": [
    " _<b>SMOTE</b>_"
   ]
  },
  {
   "cell_type": "code",
   "execution_count": 47,
   "metadata": {},
   "outputs": [],
   "source": [
    "sm = SMOTE(random_state=42)\n",
    "X_train_sm,y_train_sm=sm.fit_sample(X_train,y_train)"
   ]
  },
  {
   "cell_type": "markdown",
   "metadata": {},
   "source": [
    "_<b>Oversampling<b>_"
   ]
  },
  {
   "cell_type": "code",
   "execution_count": 48,
   "metadata": {},
   "outputs": [],
   "source": [
    "X = pd.concat([X_train, y_train], axis=1)\n",
    "\n",
    "not_default = X[X.SeriousDlqin2yrs == 0]\n",
    "default = X[X.SeriousDlqin2yrs == 1]"
   ]
  },
  {
   "cell_type": "code",
   "execution_count": 49,
   "metadata": {},
   "outputs": [],
   "source": [
    "default_oversample = resample(default,\n",
    "                            replace = True,\n",
    "                            n_samples = len(not_default),\n",
    "                            random_state=42\n",
    ")"
   ]
  },
  {
   "cell_type": "code",
   "execution_count": 50,
   "metadata": {},
   "outputs": [],
   "source": [
    "oversampled = pd.concat([not_default,default_oversample])"
   ]
  },
  {
   "cell_type": "code",
   "execution_count": 51,
   "metadata": {},
   "outputs": [
    {
     "data": {
      "text/plain": [
       "1    104492\n",
       "0    104492\n",
       "Name: SeriousDlqin2yrs, dtype: int64"
      ]
     },
     "execution_count": 51,
     "metadata": {},
     "output_type": "execute_result"
    }
   ],
   "source": [
    "oversampled.SeriousDlqin2yrs.value_counts() # sudah sama jumlahnya"
   ]
  },
  {
   "cell_type": "code",
   "execution_count": 52,
   "metadata": {},
   "outputs": [],
   "source": [
    "X_train_os = oversampled.drop(columns='SeriousDlqin2yrs',axis=1)\n",
    "y_train_os = oversampled.SeriousDlqin2yrs"
   ]
  },
  {
   "cell_type": "markdown",
   "metadata": {},
   "source": [
    "_<b>Undersampling</b>_"
   ]
  },
  {
   "cell_type": "code",
   "execution_count": 53,
   "metadata": {},
   "outputs": [],
   "source": [
    "X2 = pd.concat([X_train, y_train], axis=1)\n",
    "\n",
    "not_default = X2[X2.SeriousDlqin2yrs == 0]\n",
    "default = X2[X2.SeriousDlqin2yrs == 1]"
   ]
  },
  {
   "cell_type": "code",
   "execution_count": 54,
   "metadata": {},
   "outputs": [],
   "source": [
    "not_default_undersample = resample(not_default,\n",
    "                            replace = False,\n",
    "                            n_samples = len(default),\n",
    "                            random_state=42\n",
    ")"
   ]
  },
  {
   "cell_type": "code",
   "execution_count": 55,
   "metadata": {},
   "outputs": [],
   "source": [
    "undersampled = pd.concat([not_default_undersample,default])"
   ]
  },
  {
   "cell_type": "code",
   "execution_count": 56,
   "metadata": {},
   "outputs": [
    {
     "data": {
      "text/plain": [
       "1    7233\n",
       "0    7233\n",
       "Name: SeriousDlqin2yrs, dtype: int64"
      ]
     },
     "execution_count": 56,
     "metadata": {},
     "output_type": "execute_result"
    }
   ],
   "source": [
    "undersampled.SeriousDlqin2yrs.value_counts() # datanya sudah dikurangi hingga jumlahnya sama"
   ]
  },
  {
   "cell_type": "code",
   "execution_count": 57,
   "metadata": {},
   "outputs": [],
   "source": [
    "X_train_us = undersampled.drop(columns='SeriousDlqin2yrs',axis=1)\n",
    "y_train_us = undersampled.SeriousDlqin2yrs"
   ]
  },
  {
   "cell_type": "markdown",
   "metadata": {},
   "source": [
    "Hyper Parameter Tuning merupakan proses yang sangat memakan waktu, oleh karena itu pencarian parameter terbaik tidak bisa dilakukan di 36 algoritma ini. Sehingga akan dipilih hasil terbaik dari masing-masing algoritma dan kemudian di tuning, algoritma yang akan dituning adalah :\n",
    "- XGBC Robust - SMOTE\n",
    "- Logres Robust - SMOTE\n",
    "- RFC Robust - SMOTE\n",
    "- KNC Robust - SMOTE"
   ]
  },
  {
   "cell_type": "markdown",
   "metadata": {},
   "source": [
    "## Pipeline Creation - Hyper Parameter Tuning"
   ]
  },
  {
   "cell_type": "code",
   "execution_count": 70,
   "metadata": {},
   "outputs": [],
   "source": [
    "pipeline1 = Pipeline([\n",
    "    (\"scaler\", RobustScaler()),\n",
    "    (\"xgbc\", XGBClassifier())\n",
    "])\n",
    "params1 = {\n",
    "    \"xgbc__max_depth\":[3,10], # semakin besar akan overfit, default 3\n",
    "    \"xgbc__learning_rate\":np.logspace(-3,-1,5), # semakin besar akan underfit, default 0.1\n",
    "    \"xgbc__n_estimators\":[100,500,1000], # semakin besar akan overfit, default 100\n",
    "    \"xgbc__min_child_weight\":[1,5], # berfungsi untuk regularisasi, default 1 \n",
    "}"
   ]
  },
  {
   "cell_type": "markdown",
   "metadata": {},
   "source": [
    "## Hyper Parameter Tuning Model 1"
   ]
  },
  {
   "cell_type": "code",
   "execution_count": 71,
   "metadata": {},
   "outputs": [],
   "source": [
    "model1 = RandomizedSearchCV(pipeline1, params1, n_iter=100, cv=3, n_jobs=-1, verbose=5, random_state=42)"
   ]
  },
  {
   "cell_type": "code",
   "execution_count": 72,
   "metadata": {},
   "outputs": [
    {
     "name": "stdout",
     "output_type": "stream",
     "text": [
      "Fitting 3 folds for each of 60 candidates, totalling 180 fits\n"
     ]
    },
    {
     "name": "stderr",
     "output_type": "stream",
     "text": [
      "[Parallel(n_jobs=-1)]: Using backend LokyBackend with 4 concurrent workers.\n",
      "[Parallel(n_jobs=-1)]: Done  10 tasks      | elapsed:  4.8min\n",
      "[Parallel(n_jobs=-1)]: Done  64 tasks      | elapsed: 66.1min\n",
      "[Parallel(n_jobs=-1)]: Done 154 tasks      | elapsed: 169.0min\n",
      "[Parallel(n_jobs=-1)]: Done 180 out of 180 | elapsed: 204.2min finished\n"
     ]
    },
    {
     "data": {
      "text/plain": [
       "RandomizedSearchCV(cv=3, error_score='raise-deprecating',\n",
       "                   estimator=Pipeline(memory=None,\n",
       "                                      steps=[('scaler',\n",
       "                                              RobustScaler(copy=True,\n",
       "                                                           quantile_range=(25.0,\n",
       "                                                                           75.0),\n",
       "                                                           with_centering=True,\n",
       "                                                           with_scaling=True)),\n",
       "                                             ('xgbc',\n",
       "                                              XGBClassifier(base_score=0.5,\n",
       "                                                            booster='gbtree',\n",
       "                                                            colsample_bylevel=1,\n",
       "                                                            colsample_bynode=1,\n",
       "                                                            colsample_bytree=1,\n",
       "                                                            gamma=0,\n",
       "                                                            learning_rate=0.1,\n",
       "                                                            max_delta_step=0,\n",
       "                                                            m...\n",
       "                                                            subsample=1,\n",
       "                                                            verbosity=1))],\n",
       "                                      verbose=False),\n",
       "                   iid='warn', n_iter=100, n_jobs=-1,\n",
       "                   param_distributions={'xgbc__learning_rate': array([0.001     , 0.00316228, 0.01      , 0.03162278, 0.1       ]),\n",
       "                                        'xgbc__max_depth': [3, 10],\n",
       "                                        'xgbc__min_child_weight': [1, 5],\n",
       "                                        'xgbc__n_estimators': [100, 500, 1000]},\n",
       "                   pre_dispatch='2*n_jobs', random_state=42, refit=True,\n",
       "                   return_train_score=False, scoring=None, verbose=5)"
      ]
     },
     "execution_count": 72,
     "metadata": {},
     "output_type": "execute_result"
    }
   ],
   "source": [
    "model1.fit(X_train_sm,y_train_sm)"
   ]
  },
  {
   "cell_type": "code",
   "execution_count": 74,
   "metadata": {},
   "outputs": [
    {
     "data": {
      "text/plain": [
       "{'xgbc__n_estimators': 1000,\n",
       " 'xgbc__min_child_weight': 1,\n",
       " 'xgbc__max_depth': 10,\n",
       " 'xgbc__learning_rate': 0.03162277660168379}"
      ]
     },
     "execution_count": 74,
     "metadata": {},
     "output_type": "execute_result"
    }
   ],
   "source": [
    "model1.best_params_"
   ]
  },
  {
   "cell_type": "code",
   "execution_count": 86,
   "metadata": {},
   "outputs": [
    {
     "data": {
      "text/plain": [
       "0.9371140110627786"
      ]
     },
     "execution_count": 86,
     "metadata": {},
     "output_type": "execute_result"
    }
   ],
   "source": [
    "model1.score(X_test,y_test)"
   ]
  },
  {
   "cell_type": "code",
   "execution_count": 87,
   "metadata": {},
   "outputs": [],
   "source": [
    "prediksi1 = model1.predict(X_test)"
   ]
  },
  {
   "cell_type": "code",
   "execution_count": 91,
   "metadata": {},
   "outputs": [
    {
     "name": "stdout",
     "output_type": "stream",
     "text": [
      "              precision    recall  f1-score   support\n",
      "\n",
      "           0       0.95      0.99      0.97     34831\n",
      "           1       0.54      0.19      0.28      2411\n",
      "\n",
      "    accuracy                           0.94     37242\n",
      "   macro avg       0.74      0.59      0.63     37242\n",
      "weighted avg       0.92      0.94      0.92     37242\n",
      "\n"
     ]
    }
   ],
   "source": [
    "print(classification_report(y_test,prediksi1))"
   ]
  },
  {
   "cell_type": "code",
   "execution_count": 90,
   "metadata": {},
   "outputs": [
    {
     "name": "stdout",
     "output_type": "stream",
     "text": [
      "[[  466  1945]\n",
      " [  397 34434]]\n"
     ]
    }
   ],
   "source": [
    "cm = confusion_matrix(y_test,prediksi1,labels=[1,0])\n",
    "print(cm)"
   ]
  },
  {
   "cell_type": "code",
   "execution_count": 102,
   "metadata": {},
   "outputs": [],
   "source": [
    "TP1,FN1,FP1,TN1 = cm[0,0],cm[0,1],cm[1,0],cm[1,1]"
   ]
  },
  {
   "cell_type": "code",
   "execution_count": 103,
   "metadata": {},
   "outputs": [
    {
     "data": {
      "image/png": "[encoded data removed]",
      "text/plain": [
       "<Figure size 504x360 with 2 Axes>"
      ]
     },
     "metadata": {
      "needs_background": "light"
     },
     "output_type": "display_data"
    }
   ],
   "source": [
    "df_cm = pd.DataFrame(cm,columns=['Pred 1', 'Pred 0'],index=['Act 1', 'Act 0'])\n",
    "\n",
    "plt.figure(figsize=(7,5))\n",
    "x = sns.heatmap(df_cm, annot=True,annot_kws={'size':10},fmt='d',linewidths=0.2,cmap='rainbow')\n",
    "x.set_ylim(2,0)\n",
    "plt.show()"
   ]
  },
  {
   "cell_type": "markdown",
   "metadata": {},
   "source": [
    "## ROC-AUC Curve"
   ]
  },
  {
   "cell_type": "code",
   "execution_count": 75,
   "metadata": {},
   "outputs": [],
   "source": [
    "proba1 = model1.predict_proba(X_test)"
   ]
  },
  {
   "cell_type": "code",
   "execution_count": 76,
   "metadata": {},
   "outputs": [],
   "source": [
    "pred1 = proba1[:,1] \n",
    "fpr1, tpr1, threshold1 = roc_curve(y_test, pred1)"
   ]
  },
  {
   "cell_type": "code",
   "execution_count": 78,
   "metadata": {},
   "outputs": [],
   "source": [
    "sc1 = round(auc(fpr1,tpr1),3)"
   ]
  },
  {
   "cell_type": "code",
   "execution_count": 82,
   "metadata": {},
   "outputs": [
    {
     "data": {
      "image/png": "[encoded data removed]",
      "text/plain": [
       "<Figure size 720x504 with 1 Axes>"
      ]
     },
     "metadata": {
      "needs_background": "light"
     },
     "output_type": "display_data"
    }
   ],
   "source": [
    "plt.figure(figsize=(10,7))\n",
    "plt.title('Receiver Operator Characteristic')\n",
    "plt.plot(fpr1, tpr1, 'b:', label=f'AUC XGBC Robust - SMOTE - Tuning={sc1} ')\n",
    "\n",
    "plt.plot([0,1],[0,1],'r-.')\n",
    "\n",
    "plt.ylim([0,1]) # dizoom grafiknya dari 0.1\n",
    "plt.xlim([0,1])\n",
    "plt.legend()\n",
    "plt.xlabel('False Positive Rates')\n",
    "plt.ylabel('True Positive Rates')\n",
    "plt.show()"
   ]
  },
  {
   "cell_type": "code",
   "execution_count": 92,
   "metadata": {},
   "outputs": [],
   "source": [
    "list_of_sc=[sc1]"
   ]
  },
  {
   "cell_type": "code",
   "execution_count": 93,
   "metadata": {},
   "outputs": [],
   "source": [
    "list_of_algo=[\n",
    "    'AUC XGBC Robust - SMOTE'\n",
    "]"
   ]
  },
  {
   "cell_type": "code",
   "execution_count": 104,
   "metadata": {},
   "outputs": [],
   "source": [
    "list_of_TP=[TP1]\n",
    "list_of_FP=[FP1]\n",
    "list_of_TN=[TN1]\n",
    "list_of_FN=[FN1]"
   ]
  },
  {
   "cell_type": "code",
   "execution_count": 123,
   "metadata": {},
   "outputs": [],
   "source": [
    "accuracy = [round(accuracy_score(y_test,prediksi1),2)]\n",
    "precision = [round(precision_score(y_test,prediksi1),2)]\n",
    "recall = [round(recall_score(y_test,prediksi1),2)]"
   ]
  },
  {
   "cell_type": "code",
   "execution_count": 124,
   "metadata": {},
   "outputs": [],
   "source": [
    "zipped = list(zip(list_of_algo,list_of_sc,list_of_TP,list_of_FP,list_of_TN,list_of_FN,accuracy,precision,recall))\n",
    "df_AUC = pd.DataFrame(zipped,columns=['Nama Algoritma & Metoda Imbalance Handling','Nilai AUC','True Positive','False Positive','True Negative','False Negative','Akurasi','Precision','Recall'])"
   ]
  },
  {
   "cell_type": "code",
   "execution_count": 125,
   "metadata": {},
   "outputs": [
    {
     "data": {
      "text/html": [
       "<div>\n",
       "<style scoped>\n",
       "    .dataframe tbody tr th:only-of-type {\n",
       "        vertical-align: middle;\n",
       "    }\n",
       "\n",
       "    .dataframe tbody tr th {\n",
       "        vertical-align: top;\n",
       "    }\n",
       "\n",
       "    .dataframe thead th {\n",
       "        text-align: right;\n",
       "    }\n",
       "</style>\n",
       "<table border=\"1\" class=\"dataframe\">\n",
       "  <thead>\n",
       "    <tr style=\"text-align: right;\">\n",
       "      <th></th>\n",
       "      <th>Nama Algoritma &amp; Metoda Imbalance Handling</th>\n",
       "      <th>Nilai AUC</th>\n",
       "      <th>True Positive</th>\n",
       "      <th>False Positive</th>\n",
       "      <th>True Negative</th>\n",
       "      <th>False Negative</th>\n",
       "      <th>Akurasi</th>\n",
       "      <th>Precision</th>\n",
       "      <th>Recall</th>\n",
       "    </tr>\n",
       "  </thead>\n",
       "  <tbody>\n",
       "    <tr>\n",
       "      <td>0</td>\n",
       "      <td>AUC XGBC Robust - SMOTE</td>\n",
       "      <td>0.854</td>\n",
       "      <td>466</td>\n",
       "      <td>397</td>\n",
       "      <td>34434</td>\n",
       "      <td>1945</td>\n",
       "      <td>0.94</td>\n",
       "      <td>0.54</td>\n",
       "      <td>0.19</td>\n",
       "    </tr>\n",
       "  </tbody>\n",
       "</table>\n",
       "</div>"
      ],
      "text/plain": [
       "  Nama Algoritma & Metoda Imbalance Handling  Nilai AUC  True Positive  \\\n",
       "0                    AUC XGBC Robust - SMOTE      0.854            466   \n",
       "\n",
       "   False Positive  True Negative  False Negative  Akurasi  Precision  Recall  \n",
       "0             397          34434            1945     0.94       0.54    0.19  "
      ]
     },
     "execution_count": 125,
     "metadata": {},
     "output_type": "execute_result"
    }
   ],
   "source": [
    "df_AUC.sort_values(by='Nilai AUC',ascending=False)"
   ]
  }
 ],
 "metadata": {
  "kernelspec": {
   "display_name": "Python 3",
   "language": "python",
   "name": "python3"
  },
  "language_info": {
   "codemirror_mode": {
    "name": "ipython",
    "version": 3
   },
   "file_extension": ".py",
   "mimetype": "text/x-python",
   "name": "python",
   "nbconvert_exporter": "python",
   "pygments_lexer": "ipython3",
   "version": "3.7.4"
  }
 },
 "nbformat": 4,
 "nbformat_minor": 4
}
