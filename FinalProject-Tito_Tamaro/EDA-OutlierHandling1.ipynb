{
 "cells": [
  {
   "cell_type": "markdown",
   "metadata": {},
   "source": [
    "# Import Package\n",
    "\n",
    "source : https://www.kaggle.com/c/GiveMeSomeCredit <br>\n",
    "by Tito Tamaro<br>\n",
    "sebagai _Final Project_ JCDS Purwadhika 2020"
   ]
  },
  {
   "cell_type": "code",
   "execution_count": 1,
   "metadata": {},
   "outputs": [],
   "source": [
    "import numpy as py\n",
    "import pandas as pd\n",
    "import matplotlib.pyplot as plt\n",
    "import seaborn as sns\n",
    "import warnings\n",
    "import pickle\n",
    "from sklearn.model_selection import train_test_split\n",
    "from sklearn.metrics import mean_squared_error, mean_absolute_error, r2_score, roc_curve, auc, roc_auc_score, accuracy_score, balanced_accuracy_score,f1_score,recall_score,precision_score,classification_report, confusion_matrix\n",
    "from sklearn.preprocessing import RobustScaler,StandardScaler,MinMaxScaler\n",
    "from sklearn.impute import SimpleImputer\n",
    "from sklearn.linear_model import LogisticRegression\n",
    "from imblearn.over_sampling import SMOTE \n",
    "from sklearn.utils import resample\n",
    "from sklearn.neighbors import KNeighborsClassifier\n",
    "from sklearn.ensemble import RandomForestClassifier\n",
    "from xgboost import XGBClassifier\n",
    "from sklearn.pipeline import Pipeline\n",
    "\n",
    "warnings.filterwarnings('ignore')\n",
    "%matplotlib inline"
   ]
  },
  {
   "cell_type": "markdown",
   "metadata": {},
   "source": [
    "# Functions"
   ]
  },
  {
   "cell_type": "code",
   "execution_count": 2,
   "metadata": {},
   "outputs": [],
   "source": [
    "def dataframe_description(dataframe,samples=2): \n",
    "    bsDESC=[]\n",
    "    for i in dataframe.columns:\n",
    "        bsDESC.append([\n",
    "            i, \n",
    "            dataframe[i].dtypes, \n",
    "            dataframe[i].isnull().sum(), \n",
    "            round((((dataframe[i].isnull().sum()) / (len(dataframe))) * 100),2),\n",
    "            dataframe[i].nunique(), \n",
    "            dataframe[i].drop_duplicates().sample(samples).values,\n",
    "            round(dataframe[i].mean(),2),\n",
    "            round(dataframe[i].max(),2),\n",
    "            round(dataframe[i].min(),2)\n",
    "        ])\n",
    "    dfDesc = pd.DataFrame(bsDESC,columns=['dataFeatures','dataType','nullValues','nullPercentage','unique','sample','mean','maxValues','minValues'])\n",
    "    return dfDesc "
   ]
  },
  {
   "cell_type": "markdown",
   "metadata": {},
   "source": [
    "# Attributes Information\n",
    "\n",
    "| Variable Name | Description | Type |\n",
    "| --- | --- | --- |\n",
    "|SeriousDlqin2yrs|Person experienced 90 days past due delinquency or worse|Y/N|\n",
    "|RevolvingUtilizationOfUnsecuredLines|Total balance on credit cards and personal lines of credit except real estate and no installment debt like car loans divided by the sum of credit limits|percentage|\n",
    "|age|Age of borrower in years|integer|\n",
    "|NumberOfTime30-59DaysPastDueNotWorse|Number of times borrower has been 30-59 days past due but no worse in the last 2 years.|integer|\n",
    "|DebtRatio|Monthly debt payments| percentage|living costs divided by monthy gross income|percentage|\n",
    "|MonthlyIncome|Monthly income|integer|\n",
    "|NumberOfOpenCreditLinesAndLoans|Number of Open loans (installment like car loan or mortgage) and Lines of credit (e.g. credit cards)|integer|\n",
    "|NumberOfTimes90DaysLate|Number of times borrower has been 90 days or more past due.|integer|\n",
    "|NumberRealEstateLoansOrLines|Number of mortgage and real estate loans including home equity lines of credit|integer|\n",
    "|NumberOfTime60-89DaysPastDueNotWorse|Number of times borrower has been 60-89 days past due but no worse in the last 2 years.|integer|\n",
    "|NumberOfDependents|Number of dependents in family excluding themselves (spouse or children etc.)|integer|"
   ]
  },
  {
   "cell_type": "markdown",
   "metadata": {},
   "source": [
    "Data merupakan kompetisi dari kaggle pada tahun 2011 (source: https://www.kaggle.com/c/GiveMeSomeCredit) dimana peserta diminta untuk memprediksi apakah peminjam uang akan mengalami _default_ (gagal bayar)."
   ]
  },
  {
   "cell_type": "code",
   "execution_count": 3,
   "metadata": {},
   "outputs": [],
   "source": [
    "df_training = pd.read_csv('cs-training.csv')\n",
    "df_training.rename(columns={'Unnamed: 0':'index'},inplace=True) # mengubah Unnamed features menjadi index\n",
    "df_training = df_training.set_index('index')\n",
    "\n",
    "df_test = pd.read_csv('cs-test.csv')\n",
    "df_test.rename(columns={'Unnamed: 0':'index'},inplace=True) # mengubah Unnamed features menjadi index\n",
    "df_test = df_test.set_index('index')\n",
    "\n",
    "df_sample = pd.read_csv('sampleEntry.csv')"
   ]
  },
  {
   "cell_type": "code",
   "execution_count": 4,
   "metadata": {},
   "outputs": [
    {
     "name": "stdout",
     "output_type": "stream",
     "text": [
      "(150000, 11)\n",
      "(101503, 11)\n",
      "(101503, 2)\n"
     ]
    }
   ],
   "source": [
    "print(df_training.shape)\n",
    "print(df_test.shape)\n",
    "print(df_sample.shape)"
   ]
  },
  {
   "cell_type": "markdown",
   "metadata": {},
   "source": [
    "## Data Description"
   ]
  },
  {
   "cell_type": "code",
   "execution_count": 5,
   "metadata": {},
   "outputs": [
    {
     "data": {
      "text/html": [
       "<div>\n",
       "<style scoped>\n",
       "    .dataframe tbody tr th:only-of-type {\n",
       "        vertical-align: middle;\n",
       "    }\n",
       "\n",
       "    .dataframe tbody tr th {\n",
       "        vertical-align: top;\n",
       "    }\n",
       "\n",
       "    .dataframe thead th {\n",
       "        text-align: right;\n",
       "    }\n",
       "</style>\n",
       "<table border=\"1\" class=\"dataframe\">\n",
       "  <thead>\n",
       "    <tr style=\"text-align: right;\">\n",
       "      <th></th>\n",
       "      <th>dataFeatures</th>\n",
       "      <th>dataType</th>\n",
       "      <th>nullValues</th>\n",
       "      <th>nullPercentage</th>\n",
       "      <th>unique</th>\n",
       "      <th>sample</th>\n",
       "      <th>mean</th>\n",
       "      <th>maxValues</th>\n",
       "      <th>minValues</th>\n",
       "    </tr>\n",
       "  </thead>\n",
       "  <tbody>\n",
       "    <tr>\n",
       "      <td>0</td>\n",
       "      <td>SeriousDlqin2yrs</td>\n",
       "      <td>int64</td>\n",
       "      <td>0</td>\n",
       "      <td>0.00</td>\n",
       "      <td>2</td>\n",
       "      <td>[1, 0]</td>\n",
       "      <td>0.07</td>\n",
       "      <td>1.0</td>\n",
       "      <td>0.0</td>\n",
       "    </tr>\n",
       "    <tr>\n",
       "      <td>1</td>\n",
       "      <td>RevolvingUtilizationOfUnsecuredLines</td>\n",
       "      <td>float64</td>\n",
       "      <td>0</td>\n",
       "      <td>0.00</td>\n",
       "      <td>125728</td>\n",
       "      <td>[0.023630609, 0.009633911]</td>\n",
       "      <td>6.05</td>\n",
       "      <td>50708.0</td>\n",
       "      <td>0.0</td>\n",
       "    </tr>\n",
       "    <tr>\n",
       "      <td>2</td>\n",
       "      <td>age</td>\n",
       "      <td>int64</td>\n",
       "      <td>0</td>\n",
       "      <td>0.00</td>\n",
       "      <td>86</td>\n",
       "      <td>[38, 56]</td>\n",
       "      <td>52.30</td>\n",
       "      <td>109.0</td>\n",
       "      <td>0.0</td>\n",
       "    </tr>\n",
       "    <tr>\n",
       "      <td>3</td>\n",
       "      <td>NumberOfTime30-59DaysPastDueNotWorse</td>\n",
       "      <td>int64</td>\n",
       "      <td>0</td>\n",
       "      <td>0.00</td>\n",
       "      <td>16</td>\n",
       "      <td>[8, 1]</td>\n",
       "      <td>0.42</td>\n",
       "      <td>98.0</td>\n",
       "      <td>0.0</td>\n",
       "    </tr>\n",
       "    <tr>\n",
       "      <td>4</td>\n",
       "      <td>DebtRatio</td>\n",
       "      <td>float64</td>\n",
       "      <td>0</td>\n",
       "      <td>0.00</td>\n",
       "      <td>114194</td>\n",
       "      <td>[0.238855386, 0.267748028]</td>\n",
       "      <td>353.01</td>\n",
       "      <td>329664.0</td>\n",
       "      <td>0.0</td>\n",
       "    </tr>\n",
       "    <tr>\n",
       "      <td>5</td>\n",
       "      <td>MonthlyIncome</td>\n",
       "      <td>float64</td>\n",
       "      <td>29731</td>\n",
       "      <td>19.82</td>\n",
       "      <td>13594</td>\n",
       "      <td>[21064.0, 14766.0]</td>\n",
       "      <td>6670.22</td>\n",
       "      <td>3008750.0</td>\n",
       "      <td>0.0</td>\n",
       "    </tr>\n",
       "    <tr>\n",
       "      <td>6</td>\n",
       "      <td>NumberOfOpenCreditLinesAndLoans</td>\n",
       "      <td>int64</td>\n",
       "      <td>0</td>\n",
       "      <td>0.00</td>\n",
       "      <td>58</td>\n",
       "      <td>[19, 26]</td>\n",
       "      <td>8.45</td>\n",
       "      <td>58.0</td>\n",
       "      <td>0.0</td>\n",
       "    </tr>\n",
       "    <tr>\n",
       "      <td>7</td>\n",
       "      <td>NumberOfTimes90DaysLate</td>\n",
       "      <td>int64</td>\n",
       "      <td>0</td>\n",
       "      <td>0.00</td>\n",
       "      <td>19</td>\n",
       "      <td>[3, 1]</td>\n",
       "      <td>0.27</td>\n",
       "      <td>98.0</td>\n",
       "      <td>0.0</td>\n",
       "    </tr>\n",
       "    <tr>\n",
       "      <td>8</td>\n",
       "      <td>NumberRealEstateLoansOrLines</td>\n",
       "      <td>int64</td>\n",
       "      <td>0</td>\n",
       "      <td>0.00</td>\n",
       "      <td>28</td>\n",
       "      <td>[14, 25]</td>\n",
       "      <td>1.02</td>\n",
       "      <td>54.0</td>\n",
       "      <td>0.0</td>\n",
       "    </tr>\n",
       "    <tr>\n",
       "      <td>9</td>\n",
       "      <td>NumberOfTime60-89DaysPastDueNotWorse</td>\n",
       "      <td>int64</td>\n",
       "      <td>0</td>\n",
       "      <td>0.00</td>\n",
       "      <td>13</td>\n",
       "      <td>[6, 4]</td>\n",
       "      <td>0.24</td>\n",
       "      <td>98.0</td>\n",
       "      <td>0.0</td>\n",
       "    </tr>\n",
       "    <tr>\n",
       "      <td>10</td>\n",
       "      <td>NumberOfDependents</td>\n",
       "      <td>float64</td>\n",
       "      <td>3924</td>\n",
       "      <td>2.62</td>\n",
       "      <td>13</td>\n",
       "      <td>[6.0, 2.0]</td>\n",
       "      <td>0.76</td>\n",
       "      <td>20.0</td>\n",
       "      <td>0.0</td>\n",
       "    </tr>\n",
       "  </tbody>\n",
       "</table>\n",
       "</div>"
      ],
      "text/plain": [
       "                            dataFeatures dataType  nullValues  nullPercentage  \\\n",
       "0                       SeriousDlqin2yrs    int64           0            0.00   \n",
       "1   RevolvingUtilizationOfUnsecuredLines  float64           0            0.00   \n",
       "2                                    age    int64           0            0.00   \n",
       "3   NumberOfTime30-59DaysPastDueNotWorse    int64           0            0.00   \n",
       "4                              DebtRatio  float64           0            0.00   \n",
       "5                          MonthlyIncome  float64       29731           19.82   \n",
       "6        NumberOfOpenCreditLinesAndLoans    int64           0            0.00   \n",
       "7                NumberOfTimes90DaysLate    int64           0            0.00   \n",
       "8           NumberRealEstateLoansOrLines    int64           0            0.00   \n",
       "9   NumberOfTime60-89DaysPastDueNotWorse    int64           0            0.00   \n",
       "10                    NumberOfDependents  float64        3924            2.62   \n",
       "\n",
       "    unique                      sample     mean  maxValues  minValues  \n",
       "0        2                      [1, 0]     0.07        1.0        0.0  \n",
       "1   125728  [0.023630609, 0.009633911]     6.05    50708.0        0.0  \n",
       "2       86                    [38, 56]    52.30      109.0        0.0  \n",
       "3       16                      [8, 1]     0.42       98.0        0.0  \n",
       "4   114194  [0.238855386, 0.267748028]   353.01   329664.0        0.0  \n",
       "5    13594          [21064.0, 14766.0]  6670.22  3008750.0        0.0  \n",
       "6       58                    [19, 26]     8.45       58.0        0.0  \n",
       "7       19                      [3, 1]     0.27       98.0        0.0  \n",
       "8       28                    [14, 25]     1.02       54.0        0.0  \n",
       "9       13                      [6, 4]     0.24       98.0        0.0  \n",
       "10      13                  [6.0, 2.0]     0.76       20.0        0.0  "
      ]
     },
     "execution_count": 5,
     "metadata": {},
     "output_type": "execute_result"
    }
   ],
   "source": [
    "dataframe_description(df_training)"
   ]
  },
  {
   "cell_type": "markdown",
   "metadata": {},
   "source": [
    "Dari deskripsi di atas, features dapat dikelompokkan menjadi :\n",
    "\n",
    "- <b>Numerical Values</b>\n",
    "\n",
    "    - RevolvingUtilizationOfUnsecuredLines\n",
    "    - age\n",
    "    - NumberOfTime30-59DaysPastDueNotWorse\n",
    "    - DebtRatio\n",
    "    - MonthlyIncome\n",
    "    - NumberOfOpenCreditLinesAndLoans\n",
    "    - NumberOfTimes90DaysLate\n",
    "    - NumberRealEstateLoansOrLines\n",
    "    - NumberOfTime60-89DaysPastDueNotWorse\n",
    "    - NumberOfDependents\n",
    "    \n",
    "    \n",
    "- <b>Categorical Values</b>\n",
    "\n",
    "    - SeriousDlqin2yrs ==> <b>Target</b>"
   ]
  },
  {
   "cell_type": "markdown",
   "metadata": {},
   "source": [
    "## Data Distribution"
   ]
  },
  {
   "cell_type": "code",
   "execution_count": 6,
   "metadata": {},
   "outputs": [
    {
     "data": {
      "image/png": "[encoded data removed]",
      "text/plain": [
       "<Figure size 1440x1440 with 10 Axes>"
      ]
     },
     "metadata": {
      "needs_background": "light"
     },
     "output_type": "display_data"
    }
   ],
   "source": [
    "col = df_training.drop(['SeriousDlqin2yrs'],axis=1)\n",
    "columnList = list(col)\n",
    "columnList\n",
    "\n",
    "fig = plt.figure(figsize=[20,20])\n",
    "for j,i in zip(columnList,range(1,11)):\n",
    "    axes = fig.add_subplot(4,3,i)\n",
    "    sns.distplot(df_training[j],bins=20,ax=axes, color='blue') # jumlah bins 1/10 jumlah data\n",
    "plt.show()"
   ]
  },
  {
   "cell_type": "code",
   "execution_count": 7,
   "metadata": {},
   "outputs": [
    {
     "data": {
      "image/png": "[encoded data removed]",
      "text/plain": [
       "<Figure size 1440x1440 with 10 Axes>"
      ]
     },
     "metadata": {
      "needs_background": "light"
     },
     "output_type": "display_data"
    }
   ],
   "source": [
    "col = df_training.drop(['SeriousDlqin2yrs'],axis=1)\n",
    "columnList = list(col)\n",
    "columnList\n",
    "\n",
    "fig = plt.figure(figsize=[20,20])\n",
    "for j,i in zip(columnList,range(1,11)):\n",
    "    axes = fig.add_subplot(4,3,i)\n",
    "    sns.boxplot(df_training[j],ax=axes, color='red')\n",
    "plt.show()"
   ]
  },
  {
   "cell_type": "code",
   "execution_count": 8,
   "metadata": {},
   "outputs": [
    {
     "data": {
      "image/png": "[encoded data removed]",
      "text/plain": [
       "<Figure size 432x288 with 1 Axes>"
      ]
     },
     "metadata": {
      "needs_background": "light"
     },
     "output_type": "display_data"
    }
   ],
   "source": [
    "ax = sns.countplot(df_training['SeriousDlqin2yrs'])\n",
    "total = len(df_training)\n",
    "for p in ax.patches:\n",
    "    height = p.get_height()\n",
    "    ax.text(p.get_x()+p.get_width()/2.,\n",
    "            height + 3,\n",
    "            '{:1.2f}'.format(height/total),\n",
    "            ha=\"center\")\n",
    "plt.show()"
   ]
  },
  {
   "cell_type": "markdown",
   "metadata": {},
   "source": [
    "Imbalanced Target"
   ]
  },
  {
   "cell_type": "markdown",
   "metadata": {},
   "source": [
    "# NaN Values"
   ]
  },
  {
   "cell_type": "code",
   "execution_count": 9,
   "metadata": {},
   "outputs": [
    {
     "data": {
      "image/png": "[encoded data removed]",
      "text/plain": [
       "<Figure size 1080x576 with 1 Axes>"
      ]
     },
     "metadata": {
      "needs_background": "light"
     },
     "output_type": "display_data"
    }
   ],
   "source": [
    "plt.figure(figsize=(15,8))\n",
    "\n",
    "sns.heatmap(df_training.isna(), yticklabels=False, cmap='cividis', cbar=False)\n",
    "plt.show()"
   ]
  },
  {
   "cell_type": "code",
   "execution_count": 10,
   "metadata": {},
   "outputs": [
    {
     "data": {
      "text/plain": [
       "SeriousDlqin2yrs                            0\n",
       "RevolvingUtilizationOfUnsecuredLines        0\n",
       "age                                         0\n",
       "NumberOfTime30-59DaysPastDueNotWorse        0\n",
       "DebtRatio                                   0\n",
       "MonthlyIncome                           29731\n",
       "NumberOfOpenCreditLinesAndLoans             0\n",
       "NumberOfTimes90DaysLate                     0\n",
       "NumberRealEstateLoansOrLines                0\n",
       "NumberOfTime60-89DaysPastDueNotWorse        0\n",
       "NumberOfDependents                       3924\n",
       "dtype: int64"
      ]
     },
     "execution_count": 10,
     "metadata": {},
     "output_type": "execute_result"
    }
   ],
   "source": [
    "df_training.isna().sum()"
   ]
  },
  {
   "cell_type": "markdown",
   "metadata": {},
   "source": [
    "Sebelum dilakukan NaN values handling, akan dilakukan pengecekan terhadap data dan dilihat bagaimana pengaruhnya terhadap kolom target yaitu <b>SeriousDlqin2yrs</b>"
   ]
  },
  {
   "cell_type": "code",
   "execution_count": 11,
   "metadata": {},
   "outputs": [
    {
     "data": {
      "text/html": [
       "<div>\n",
       "<style scoped>\n",
       "    .dataframe tbody tr th:only-of-type {\n",
       "        vertical-align: middle;\n",
       "    }\n",
       "\n",
       "    .dataframe tbody tr th {\n",
       "        vertical-align: top;\n",
       "    }\n",
       "\n",
       "    .dataframe thead th {\n",
       "        text-align: right;\n",
       "    }\n",
       "</style>\n",
       "<table border=\"1\" class=\"dataframe\">\n",
       "  <thead>\n",
       "    <tr style=\"text-align: right;\">\n",
       "      <th>SeriousDlqin2yrs</th>\n",
       "      <th>0</th>\n",
       "      <th>1</th>\n",
       "    </tr>\n",
       "    <tr>\n",
       "      <th>nullValuesMI</th>\n",
       "      <th></th>\n",
       "      <th></th>\n",
       "    </tr>\n",
       "  </thead>\n",
       "  <tbody>\n",
       "    <tr>\n",
       "      <td>False</td>\n",
       "      <td>0.74608</td>\n",
       "      <td>0.055713</td>\n",
       "    </tr>\n",
       "    <tr>\n",
       "      <td>True</td>\n",
       "      <td>0.18708</td>\n",
       "      <td>0.011127</td>\n",
       "    </tr>\n",
       "  </tbody>\n",
       "</table>\n",
       "</div>"
      ],
      "text/plain": [
       "SeriousDlqin2yrs        0         1\n",
       "nullValuesMI                       \n",
       "False             0.74608  0.055713\n",
       "True              0.18708  0.011127"
      ]
     },
     "execution_count": 11,
     "metadata": {},
     "output_type": "execute_result"
    }
   ],
   "source": [
    "df_training['nullValuesMI'] = pd.isnull(df_training['MonthlyIncome'])\n",
    "df1 = pd.crosstab(index=df_training.nullValuesMI, columns=df_training.SeriousDlqin2yrs, values=df_training.nullValuesMI,aggfunc='count',normalize='all')\n",
    "df1"
   ]
  },
  {
   "cell_type": "code",
   "execution_count": 12,
   "metadata": {},
   "outputs": [
    {
     "data": {
      "text/html": [
       "<div>\n",
       "<style scoped>\n",
       "    .dataframe tbody tr th:only-of-type {\n",
       "        vertical-align: middle;\n",
       "    }\n",
       "\n",
       "    .dataframe tbody tr th {\n",
       "        vertical-align: top;\n",
       "    }\n",
       "\n",
       "    .dataframe thead th {\n",
       "        text-align: right;\n",
       "    }\n",
       "</style>\n",
       "<table border=\"1\" class=\"dataframe\">\n",
       "  <thead>\n",
       "    <tr style=\"text-align: right;\">\n",
       "      <th>SeriousDlqin2yrs</th>\n",
       "      <th>0</th>\n",
       "      <th>1</th>\n",
       "    </tr>\n",
       "    <tr>\n",
       "      <th>nullValuesND</th>\n",
       "      <th></th>\n",
       "      <th></th>\n",
       "    </tr>\n",
       "  </thead>\n",
       "  <tbody>\n",
       "    <tr>\n",
       "      <td>False</td>\n",
       "      <td>0.908193</td>\n",
       "      <td>0.065647</td>\n",
       "    </tr>\n",
       "    <tr>\n",
       "      <td>True</td>\n",
       "      <td>0.024967</td>\n",
       "      <td>0.001193</td>\n",
       "    </tr>\n",
       "  </tbody>\n",
       "</table>\n",
       "</div>"
      ],
      "text/plain": [
       "SeriousDlqin2yrs         0         1\n",
       "nullValuesND                        \n",
       "False             0.908193  0.065647\n",
       "True              0.024967  0.001193"
      ]
     },
     "execution_count": 12,
     "metadata": {},
     "output_type": "execute_result"
    }
   ],
   "source": [
    "df_training['nullValuesND'] = pd.isnull(df_training['NumberOfDependents'])\n",
    "df2 = pd.crosstab(index=df_training.nullValuesND, columns=df_training.SeriousDlqin2yrs, values=df_training.nullValuesND,aggfunc='count',normalize='all')\n",
    "df2"
   ]
  },
  {
   "cell_type": "markdown",
   "metadata": {},
   "source": [
    "NaN Value Handling akan dilakukan setelah Train Test Split untuk mencegah Data Leakage"
   ]
  },
  {
   "cell_type": "markdown",
   "metadata": {},
   "source": [
    "## Outlier Handling"
   ]
  },
  {
   "cell_type": "markdown",
   "metadata": {},
   "source": [
    "Outlier Handling yang akan dilakukan menggunakan upper fence dan lower fence sebagai batasannya dimana :<br> \n",
    "<b>IQR = Q3 - Q1<br>\n",
    "Upper Fence = Q3 + 1.5 X IQR<br>\n",
    "Lower Fence = Q1 - 1.5 x IQR</b><br>\n",
    "Dimana nilai feature yang diatas Upper Fence dan dibawah Lower Fence akan dianggap sebagai <b>Outlier</b><br>\n",
    "Jelas kondisinya akan disesuaikan dengan kondisi feature, dimana terdapat nilai outlier akan <b>dihapus / dibiarkan</b>."
   ]
  },
  {
   "cell_type": "markdown",
   "metadata": {},
   "source": [
    "### Outlier Handling for 'RevolvingUtilizationOfUnsecuredLines'"
   ]
  },
  {
   "cell_type": "markdown",
   "metadata": {},
   "source": [
    "- <b>IQR Calculation</b>"
   ]
  },
  {
   "cell_type": "code",
   "execution_count": 13,
   "metadata": {},
   "outputs": [
    {
     "name": "stdout",
     "output_type": "stream",
     "text": [
      "Lower Fence RUUL : -0.7639007662499999\n",
      "Upper Fence RUUL : 1.35281445575\n"
     ]
    }
   ],
   "source": [
    "IQR_RUUL = (df_training['RevolvingUtilizationOfUnsecuredLines'].quantile(0.75)) - (df_training['RevolvingUtilizationOfUnsecuredLines'].quantile(0.25)) # IQR\n",
    "lower_fence_RUUL = (df_training['RevolvingUtilizationOfUnsecuredLines'].quantile(0.25)) - (1.5 * IQR_RUUL) # Q1 - 1.5 X IQR\n",
    "upper_fence_RUUL = (df_training['RevolvingUtilizationOfUnsecuredLines'].quantile(0.75)) + (1.5 * IQR_RUUL) # Q3 + 1.5 X IQR\n",
    "print(f'Lower Fence RUUL : {lower_fence_RUUL}')\n",
    "print(f'Upper Fence RUUL : {upper_fence_RUUL}')"
   ]
  },
  {
   "cell_type": "markdown",
   "metadata": {},
   "source": [
    "- <b>Filter Outliers</b>"
   ]
  },
  {
   "cell_type": "code",
   "execution_count": 14,
   "metadata": {},
   "outputs": [
    {
     "name": "stdout",
     "output_type": "stream",
     "text": [
      "Jumlah Outlier yang akan dihandle adalah : 763 data (0.5086666666666666)%\n"
     ]
    }
   ],
   "source": [
    "jumlah_outlier_RUUL = len(df_training[df_training['RevolvingUtilizationOfUnsecuredLines'] < lower_fence_RUUL]) + len(df_training[df_training['RevolvingUtilizationOfUnsecuredLines'] > upper_fence_RUUL]) \n",
    "persen_RUUL = (jumlah_outlier_RUUL / len(df_training)) * 100\n",
    "print(f'Jumlah Outlier yang akan dihandle adalah : {jumlah_outlier_RUUL} data ({persen_RUUL})%')"
   ]
  },
  {
   "cell_type": "markdown",
   "metadata": {},
   "source": [
    "- <b>Drop Outliers</b>"
   ]
  },
  {
   "cell_type": "code",
   "execution_count": 15,
   "metadata": {},
   "outputs": [],
   "source": [
    "df_training.drop(df_training[df_training['RevolvingUtilizationOfUnsecuredLines']<lower_fence_RUUL].index,axis=0,inplace=True)\n",
    "df_training.drop(df_training[df_training['RevolvingUtilizationOfUnsecuredLines']>upper_fence_RUUL].index,axis=0,inplace=True)"
   ]
  },
  {
   "cell_type": "markdown",
   "metadata": {},
   "source": [
    "### Outlier Handling for 'age'"
   ]
  },
  {
   "cell_type": "markdown",
   "metadata": {},
   "source": [
    "- <b>IQR Calculation</b>"
   ]
  },
  {
   "cell_type": "code",
   "execution_count": 16,
   "metadata": {},
   "outputs": [
    {
     "name": "stdout",
     "output_type": "stream",
     "text": [
      "Lower Fence age : 8.0\n",
      "Upper Fence age : 96.0\n"
     ]
    }
   ],
   "source": [
    "IQR = (df_training['age'].quantile(0.75)) - (df_training['age'].quantile(0.25)) # IQR\n",
    "lower_fence_age = (df_training['age'].quantile(0.25)) - (1.5 * IQR) # Q1 - 1.5 X IQR\n",
    "upper_fence_age = (df_training['age'].quantile(0.75)) + (1.5 * IQR) # Q3 + 1.5 X IQR\n",
    "print(f'Lower Fence age : {lower_fence_age}')\n",
    "print(f'Upper Fence age : {upper_fence_age}')"
   ]
  },
  {
   "cell_type": "markdown",
   "metadata": {},
   "source": [
    "- <b>Filter Outliers</b>"
   ]
  },
  {
   "cell_type": "code",
   "execution_count": 17,
   "metadata": {},
   "outputs": [
    {
     "name": "stdout",
     "output_type": "stream",
     "text": [
      "Jumlah Outlier yang akan dihandle adalah : 1 data (0.0006700751154204386)%\n"
     ]
    }
   ],
   "source": [
    "jumlah_outlier_age = len(df_training[df_training['age'] < lower_fence_age]) \n",
    "persen_age = (jumlah_outlier_age / len(df_training)) * 100\n",
    "print(f'Jumlah Outlier yang akan dihandle adalah : {jumlah_outlier_age} data ({persen_age})%')"
   ]
  },
  {
   "cell_type": "markdown",
   "metadata": {},
   "source": [
    "- <b>Drop Outliers</b>"
   ]
  },
  {
   "cell_type": "code",
   "execution_count": 18,
   "metadata": {},
   "outputs": [],
   "source": [
    "df_training.drop(df_training[df_training['age']<lower_fence_age].index,axis=0,inplace=True)"
   ]
  },
  {
   "cell_type": "markdown",
   "metadata": {},
   "source": [
    "### Outlier Handling for 'NumberOfTime30-59DaysPastDueNotWorse'"
   ]
  },
  {
   "cell_type": "markdown",
   "metadata": {},
   "source": [
    "- <b>IQR Calculation</b>"
   ]
  },
  {
   "cell_type": "code",
   "execution_count": 19,
   "metadata": {},
   "outputs": [
    {
     "name": "stdout",
     "output_type": "stream",
     "text": [
      "Lower Fence NT3059 : 0.0\n",
      "Upper Fence NT3059 : 0.0\n"
     ]
    }
   ],
   "source": [
    "IQR_NT3059 = (df_training['NumberOfTime30-59DaysPastDueNotWorse'].quantile(0.75)) - (df_training['NumberOfTime30-59DaysPastDueNotWorse'].quantile(0.25)) # IQR\n",
    "lower_fence_NT3059 = (df_training['NumberOfTime30-59DaysPastDueNotWorse'].quantile(0.25)) - (1.5 * IQR_NT3059) # Q1 - 1.5 X IQR\n",
    "upper_fence_NT3059 = (df_training['NumberOfTime30-59DaysPastDueNotWorse'].quantile(0.75)) + (1.5 * IQR_NT3059) # Q3 + 1.5 X IQR\n",
    "print(f'Lower Fence NT3059 : {lower_fence_NT3059}')\n",
    "print(f'Upper Fence NT3059 : {upper_fence_NT3059}')"
   ]
  },
  {
   "cell_type": "markdown",
   "metadata": {},
   "source": [
    "Dapat dilihat bahwa Lower Fence dan Upper Fence adalah 0, hal ini disebabkan oleh nilai IQR yang 0. Nilai IQR ini disebabkan oleh banyaknya data bernilai 0 dalam features NumberOfTime30-59DaysPastDueNotWorse. Oleh karena itu outlier handling akan dilakukan secara manual."
   ]
  },
  {
   "cell_type": "markdown",
   "metadata": {},
   "source": [
    "- <b>Filter Outliers</b>"
   ]
  },
  {
   "cell_type": "code",
   "execution_count": 20,
   "metadata": {},
   "outputs": [
    {
     "data": {
      "text/plain": [
       "0     125562\n",
       "1      15857\n",
       "2       4521\n",
       "3       1720\n",
       "4        733\n",
       "5        338\n",
       "98       264\n",
       "6        138\n",
       "7         53\n",
       "8         25\n",
       "9         12\n",
       "96         5\n",
       "10         4\n",
       "12         2\n",
       "13         1\n",
       "11         1\n",
       "Name: NumberOfTime30-59DaysPastDueNotWorse, dtype: int64"
      ]
     },
     "execution_count": 20,
     "metadata": {},
     "output_type": "execute_result"
    }
   ],
   "source": [
    "df_training['NumberOfTime30-59DaysPastDueNotWorse'].value_counts()"
   ]
  },
  {
   "cell_type": "markdown",
   "metadata": {},
   "source": [
    "Dapat dilihat pada jumlah unik data (value_counts) pada features ini, bahwa terdapat value 96 dan 98. Kemungkinan besar ini merupakan typo (salah ketik) yang dilakukan oleh penyedia data. Features NumberOfTime30-59DaysPastDueNotWorse menunjukkan berapa kali pemilik kredit mengalami keterlambatan bayar dalam kurun waktu 30-59 hari, bila dihitung (96 * 50 hari) adalah 13 tahun yang mana mustahil, sehingga value features 96 dan 98 dihapus"
   ]
  },
  {
   "cell_type": "markdown",
   "metadata": {},
   "source": [
    "- <b>Drop Outliers</b>"
   ]
  },
  {
   "cell_type": "code",
   "execution_count": 21,
   "metadata": {},
   "outputs": [],
   "source": [
    "df_training.drop(df_training[df_training['NumberOfTime30-59DaysPastDueNotWorse']==96].index,axis=0,inplace=True)\n",
    "df_training.drop(df_training[df_training['NumberOfTime30-59DaysPastDueNotWorse']==98].index,axis=0,inplace=True)"
   ]
  },
  {
   "cell_type": "markdown",
   "metadata": {},
   "source": [
    "### Outlier Handling for 'DebtRatio'"
   ]
  },
  {
   "cell_type": "markdown",
   "metadata": {},
   "source": [
    "- <b>IQR Calculation</b>"
   ]
  },
  {
   "cell_type": "code",
   "execution_count": 22,
   "metadata": {},
   "outputs": [
    {
     "name": "stdout",
     "output_type": "stream",
     "text": [
      "Lower Fence DR : -0.862476942\n",
      "Upper Fence DR : 1.90703183\n"
     ]
    }
   ],
   "source": [
    "IQR_DR = (df_training['DebtRatio'].quantile(0.75)) - (df_training['DebtRatio'].quantile(0.25)) # IQR\n",
    "lower_fence_DR = (df_training['DebtRatio'].quantile(0.25)) - (1.5 * IQR_DR) # Q1 - 1.5 X IQR\n",
    "upper_fence_DR = (df_training['DebtRatio'].quantile(0.75)) + (1.5 * IQR_DR) # Q3 + 1.5 X IQR\n",
    "print(f'Lower Fence DR : {lower_fence_DR}')\n",
    "print(f'Upper Fence DR : {upper_fence_DR}')"
   ]
  },
  {
   "cell_type": "markdown",
   "metadata": {},
   "source": [
    "- <b>Filter Outliers</b>"
   ]
  },
  {
   "cell_type": "code",
   "execution_count": 23,
   "metadata": {},
   "outputs": [
    {
     "name": "stdout",
     "output_type": "stream",
     "text": [
      "Jumlah Outlier yang akan dihandle adalah : 31089 data (20.869722824518185)%\n"
     ]
    }
   ],
   "source": [
    "jumlah_outlier_DR = len(df_training[df_training['DebtRatio'] < lower_fence_DR]) + len(df_training[df_training['DebtRatio'] > upper_fence_DR])\n",
    "persen_DR = (jumlah_outlier_DR / len(df_training)) * 100\n",
    "print(f'Jumlah Outlier yang akan dihandle adalah : {jumlah_outlier_DR} data ({persen_DR})%')"
   ]
  },
  {
   "cell_type": "markdown",
   "metadata": {},
   "source": [
    "Jumlah data yang mejadi outlier adalah 31115 atau 20.85% dari keseluruhan data, karena jumlahnya yang banyak maka outlier <b>tidak akan di handling</b> karena dikhawatirkan akan mengubah data"
   ]
  },
  {
   "cell_type": "markdown",
   "metadata": {},
   "source": [
    "### Outlier Handling for 'MonthlyIncome'"
   ]
  },
  {
   "cell_type": "markdown",
   "metadata": {},
   "source": [
    "- <b>IQR Calculation</b>"
   ]
  },
  {
   "cell_type": "code",
   "execution_count": 24,
   "metadata": {},
   "outputs": [
    {
     "name": "stdout",
     "output_type": "stream",
     "text": [
      "Lower Fence MI : -3875.0\n",
      "Upper Fence MI : 15525.0\n"
     ]
    }
   ],
   "source": [
    "IQR_MI = (df_training['MonthlyIncome'].quantile(0.75)) - (df_training['MonthlyIncome'].quantile(0.25)) # IQR\n",
    "lower_fence_MI = (df_training['MonthlyIncome'].quantile(0.25)) - (1.5 * IQR_MI) # Q1 - 1.5 X IQR\n",
    "upper_fence_MI = (df_training['MonthlyIncome'].quantile(0.75)) + (1.5 * IQR_MI) # Q3 + 1.5 X IQR\n",
    "print(f'Lower Fence MI : {lower_fence_MI}')\n",
    "print(f'Upper Fence MI : {upper_fence_MI}')"
   ]
  },
  {
   "cell_type": "markdown",
   "metadata": {},
   "source": [
    "- <b>Filter Outliers</b>"
   ]
  },
  {
   "cell_type": "code",
   "execution_count": 25,
   "metadata": {},
   "outputs": [
    {
     "name": "stdout",
     "output_type": "stream",
     "text": [
      "Jumlah Outlier yang akan dihandle adalah : 4846 data (3.253069471762202)%\n"
     ]
    }
   ],
   "source": [
    "jumlah_outlier_MI = len(df_training[df_training['MonthlyIncome'] < lower_fence_MI]) + len(df_training[df_training['MonthlyIncome'] > upper_fence_MI])\n",
    "persen_MI = (jumlah_outlier_MI / len(df_training)) * 100\n",
    "print(f'Jumlah Outlier yang akan dihandle adalah : {jumlah_outlier_MI} data ({persen_MI})%')"
   ]
  },
  {
   "cell_type": "markdown",
   "metadata": {},
   "source": [
    "Pada data Monthly Income tidak ditemukan nilai dibawah negatif, juga ditemukan nilai diatas nilai upper fence sebanyak 4879 buah. Hal ini masuk akal karena MonthlyIncome sangat bervariasi tergantung jabatan, pendidikan dll. oleh karena itu data <b>tidak akan di handling</b> "
   ]
  },
  {
   "cell_type": "markdown",
   "metadata": {},
   "source": [
    "### Outlier Handling for 'NumberOfOpenCreditLinesAndLoans'"
   ]
  },
  {
   "cell_type": "markdown",
   "metadata": {},
   "source": [
    "- <b>IQR Calculation</b>"
   ]
  },
  {
   "cell_type": "code",
   "execution_count": 26,
   "metadata": {},
   "outputs": [
    {
     "name": "stdout",
     "output_type": "stream",
     "text": [
      "Lower Fence NOCLL : -4.0\n",
      "Upper Fence NOCLL : 20.0\n"
     ]
    }
   ],
   "source": [
    "IQR_NOCLL = (df_training['NumberOfOpenCreditLinesAndLoans'].quantile(0.75)) - (df_training['NumberOfOpenCreditLinesAndLoans'].quantile(0.25)) # IQR\n",
    "lower_fence_NOCLL = (df_training['NumberOfOpenCreditLinesAndLoans'].quantile(0.25)) - (1.5 * IQR_NOCLL) # Q1 - 1.5 X IQR\n",
    "upper_fence_NOCLL = (df_training['NumberOfOpenCreditLinesAndLoans'].quantile(0.75)) + (1.5 * IQR_NOCLL) # Q3 + 1.5 X IQR\n",
    "print(f'Lower Fence NOCLL : {lower_fence_NOCLL}')\n",
    "print(f'Upper Fence NOCLL : {upper_fence_NOCLL}')"
   ]
  },
  {
   "cell_type": "markdown",
   "metadata": {},
   "source": [
    "- <b>Filter Outliers</b>"
   ]
  },
  {
   "cell_type": "code",
   "execution_count": 27,
   "metadata": {},
   "outputs": [
    {
     "name": "stdout",
     "output_type": "stream",
     "text": [
      "Jumlah Outlier yang akan dihandle adalah : 3975 data (2.6683762175515384)%\n"
     ]
    }
   ],
   "source": [
    "jumlah_outlier_NOCLL = len(df_training[df_training['NumberOfOpenCreditLinesAndLoans'] < lower_fence_NOCLL]) + len(df_training[df_training['NumberOfOpenCreditLinesAndLoans'] > upper_fence_NOCLL])\n",
    "persen_NOCLL = (jumlah_outlier_NOCLL / len(df_training)) * 100\n",
    "print(f'Jumlah Outlier yang akan dihandle adalah : {jumlah_outlier_NOCLL} data ({persen_NOCLL})%')"
   ]
  },
  {
   "cell_type": "markdown",
   "metadata": {},
   "source": [
    "Pada NumberOfOpenCreditLinesAndLoans tidak terdapat nilai negatif dan memungkinkan apabila jumlahnya diatas 20 buah oleh karena itu outlier pada data ini <b>tidak akan dihapus</b>"
   ]
  },
  {
   "cell_type": "markdown",
   "metadata": {},
   "source": [
    "### Outlier Handling for 'NumberOfTimes90DaysLate'"
   ]
  },
  {
   "cell_type": "markdown",
   "metadata": {},
   "source": [
    "- <b>IQR Calculation</b>"
   ]
  },
  {
   "cell_type": "code",
   "execution_count": 28,
   "metadata": {},
   "outputs": [
    {
     "name": "stdout",
     "output_type": "stream",
     "text": [
      "Lower Fence NT90 : 0.0\n",
      "Upper Fence NT90 : 0.0\n"
     ]
    }
   ],
   "source": [
    "IQR_NT90 = (df_training['NumberOfTimes90DaysLate'].quantile(0.75)) - (df_training['NumberOfTimes90DaysLate'].quantile(0.25)) # IQR\n",
    "lower_fence_NT90 = (df_training['NumberOfTimes90DaysLate'].quantile(0.25)) - (1.5 * IQR_NT90) # Q1 - 1.5 X IQR\n",
    "upper_fence_NT90 = (df_training['NumberOfTimes90DaysLate'].quantile(0.75)) + (1.5 * IQR_NT90) # Q3 + 1.5 X IQR\n",
    "print(f'Lower Fence NT90 : {lower_fence_NT90}')\n",
    "print(f'Upper Fence NT90 : {upper_fence_NT90}')"
   ]
  },
  {
   "cell_type": "markdown",
   "metadata": {},
   "source": [
    "Nilai IQR yang 0 disebabkan oleh banyaknya data bernilai 0"
   ]
  },
  {
   "cell_type": "markdown",
   "metadata": {},
   "source": [
    "- <b>Filter Outliers</b>"
   ]
  },
  {
   "cell_type": "code",
   "execution_count": 29,
   "metadata": {},
   "outputs": [
    {
     "data": {
      "text/plain": [
       "0     141155\n",
       "1       5146\n",
       "2       1490\n",
       "3        628\n",
       "4        266\n",
       "5        120\n",
       "6         72\n",
       "7         34\n",
       "9         18\n",
       "8         17\n",
       "10         8\n",
       "11         5\n",
       "12         2\n",
       "13         2\n",
       "14         2\n",
       "15         1\n",
       "17         1\n",
       "Name: NumberOfTimes90DaysLate, dtype: int64"
      ]
     },
     "execution_count": 29,
     "metadata": {},
     "output_type": "execute_result"
    }
   ],
   "source": [
    "df_training['NumberOfTimes90DaysLate'].value_counts()"
   ]
  },
  {
   "cell_type": "markdown",
   "metadata": {},
   "source": [
    "### Outlier Handling for 'NumberRealEstateLoansOrLines'"
   ]
  },
  {
   "cell_type": "markdown",
   "metadata": {},
   "source": [
    "- <b>IQR Calculation</b>"
   ]
  },
  {
   "cell_type": "code",
   "execution_count": 30,
   "metadata": {},
   "outputs": [
    {
     "name": "stdout",
     "output_type": "stream",
     "text": [
      "Lower Fence NRELL : -3.0\n",
      "Upper Fence NRELL : 5.0\n"
     ]
    }
   ],
   "source": [
    "IQR_NRELL = (df_training['NumberRealEstateLoansOrLines'].quantile(0.75)) - (df_training['NumberRealEstateLoansOrLines'].quantile(0.25)) # IQR\n",
    "lower_fence_NRELL = (df_training['NumberRealEstateLoansOrLines'].quantile(0.25)) - (1.5 * IQR_NRELL) # Q1 - 1.5 X IQR\n",
    "upper_fence_NRELL = (df_training['NumberRealEstateLoansOrLines'].quantile(0.75)) + (1.5 * IQR_NRELL) # Q3 + 1.5 X IQR\n",
    "print(f'Lower Fence NRELL : {lower_fence_NRELL}')\n",
    "print(f'Upper Fence NRELL : {upper_fence_NRELL}')"
   ]
  },
  {
   "cell_type": "markdown",
   "metadata": {},
   "source": [
    "- <b>Filter Outliers</b>"
   ]
  },
  {
   "cell_type": "code",
   "execution_count": 31,
   "metadata": {},
   "outputs": [
    {
     "name": "stdout",
     "output_type": "stream",
     "text": [
      "Jumlah Outlier yang akan dihandle adalah : 790 data (0.5303187954379158)%\n"
     ]
    }
   ],
   "source": [
    "jumlah_outlier_NRELL = len(df_training[df_training['NumberRealEstateLoansOrLines'] < lower_fence_NRELL]) + len(df_training[df_training['NumberRealEstateLoansOrLines'] > upper_fence_NRELL])\n",
    "persen_NRELL = (jumlah_outlier_NRELL / len(df_training)) * 100\n",
    "print(f'Jumlah Outlier yang akan dihandle adalah : {jumlah_outlier_NRELL} data ({persen_NRELL})%')"
   ]
  },
  {
   "cell_type": "markdown",
   "metadata": {},
   "source": [
    "Pada data NumberRealEstateLoansOrLines sangat memungkingkan apabila terdapat data diatas nilai outlier, oleh karena itu data <b>tidak akan di handling</b> "
   ]
  },
  {
   "cell_type": "markdown",
   "metadata": {},
   "source": [
    "### Outlier Handling for 'NumberOfTime60-89DaysPastDueNotWorse'"
   ]
  },
  {
   "cell_type": "markdown",
   "metadata": {},
   "source": [
    "- <b>IQR Calculation</b>"
   ]
  },
  {
   "cell_type": "code",
   "execution_count": 32,
   "metadata": {},
   "outputs": [
    {
     "name": "stdout",
     "output_type": "stream",
     "text": [
      "Lower Fence NT6089 : 0.0\n",
      "Upper Fence NT6089 : 0.0\n"
     ]
    }
   ],
   "source": [
    "IQR_NT6089 = (df_training['NumberOfTime60-89DaysPastDueNotWorse'].quantile(0.75)) - (df_training['NumberOfTime60-89DaysPastDueNotWorse'].quantile(0.25)) # IQR\n",
    "lower_fence_NT6089 = (df_training['NumberOfTime60-89DaysPastDueNotWorse'].quantile(0.25)) - (1.5 * IQR_NT6089) # Q1 - 1.5 X IQR\n",
    "upper_fence_NT6089 = (df_training['NumberOfTime60-89DaysPastDueNotWorse'].quantile(0.75)) + (1.5 * IQR_NT6089) # Q3 + 1.5 X IQR\n",
    "print(f'Lower Fence NT6089 : {lower_fence_NT6089}')\n",
    "print(f'Upper Fence NT6089 : {upper_fence_NT6089}')"
   ]
  },
  {
   "cell_type": "markdown",
   "metadata": {},
   "source": [
    "Nilai IQR yang 0 disebabkan oleh banyaknya data bernilai 0"
   ]
  },
  {
   "cell_type": "markdown",
   "metadata": {},
   "source": [
    "- <b>Filter Outliers</b>"
   ]
  },
  {
   "cell_type": "code",
   "execution_count": 33,
   "metadata": {},
   "outputs": [
    {
     "data": {
      "text/plain": [
       "0     141845\n",
       "1       5605\n",
       "2       1060\n",
       "3        301\n",
       "4         98\n",
       "5         33\n",
       "6         15\n",
       "7          6\n",
       "8          2\n",
       "11         1\n",
       "9          1\n",
       "Name: NumberOfTime60-89DaysPastDueNotWorse, dtype: int64"
      ]
     },
     "execution_count": 33,
     "metadata": {},
     "output_type": "execute_result"
    }
   ],
   "source": [
    "df_training['NumberOfTime60-89DaysPastDueNotWorse'].value_counts()"
   ]
  },
  {
   "cell_type": "markdown",
   "metadata": {},
   "source": [
    "### Outlier Handling for 'NumberOfDependents'"
   ]
  },
  {
   "cell_type": "markdown",
   "metadata": {},
   "source": [
    "- <b>IQR Calculation</b>"
   ]
  },
  {
   "cell_type": "code",
   "execution_count": 34,
   "metadata": {},
   "outputs": [
    {
     "name": "stdout",
     "output_type": "stream",
     "text": [
      "Lower Fence ND : -1.5\n",
      "Upper Fence ND : 2.5\n"
     ]
    }
   ],
   "source": [
    "IQR_ND = (df_training['NumberOfDependents'].quantile(0.75)) - (df_training['NumberOfDependents'].quantile(0.25)) # IQR\n",
    "lower_fence_ND = (df_training['NumberOfDependents'].quantile(0.25)) - (1.5 * IQR_ND) # Q1 - 1.5 X IQR\n",
    "upper_fence_ND = (df_training['NumberOfDependents'].quantile(0.75)) + (1.5 * IQR_ND) # Q3 + 1.5 X IQR\n",
    "print(f'Lower Fence ND : {lower_fence_ND}')\n",
    "print(f'Upper Fence ND : {upper_fence_ND}')"
   ]
  },
  {
   "cell_type": "markdown",
   "metadata": {},
   "source": [
    "- <b>Filter Outliers</b>"
   ]
  },
  {
   "cell_type": "code",
   "execution_count": 35,
   "metadata": {},
   "outputs": [
    {
     "name": "stdout",
     "output_type": "stream",
     "text": [
      "Jumlah Outlier yang akan dihandle adalah : 13251 data (8.895258681452939)%\n"
     ]
    }
   ],
   "source": [
    "jumlah_outlier_ND = len(df_training[df_training['NumberOfDependents'] < lower_fence_ND]) + len(df_training[df_training['NumberOfDependents'] > upper_fence_ND])\n",
    "persen_ND = (jumlah_outlier_ND / len(df_training)) * 100\n",
    "print(f'Jumlah Outlier yang akan dihandle adalah : {jumlah_outlier_ND} data ({persen_ND})%')"
   ]
  },
  {
   "cell_type": "markdown",
   "metadata": {},
   "source": [
    "Jumlah data yang mejadi outlier adalah 13336 atau 8.89% dari keseluruhan data, karena jumlahnya yang banyak maka outlier <b>tidak akan di handling</b> karena dikhawatirkan akan mengubah data"
   ]
  },
  {
   "cell_type": "markdown",
   "metadata": {},
   "source": [
    "## Outlier Handling Summary"
   ]
  },
  {
   "cell_type": "code",
   "execution_count": 36,
   "metadata": {},
   "outputs": [],
   "source": [
    "data = [{\n",
    "    'Upper Fence':f'{lower_fence_RUUL}',\n",
    "    'Lower Fence':f'{upper_fence_RUUL}',\n",
    "    'Jumlah Outlier yang di Handle':f'{jumlah_outlier_RUUL}'\n",
    "},\n",
    "    \n",
    "{\n",
    "    'Upper Fence':f'{lower_fence_age}',\n",
    "    'Lower Fence':f'{upper_fence_age}',\n",
    "    'Jumlah Outlier yang di Handle':f'{jumlah_outlier_age}'  \n",
    "},\n",
    "{\n",
    "    'Upper Fence':f'{lower_fence_NT3059}',\n",
    "    'Lower Fence':f'{upper_fence_NT3059}',\n",
    "    'Jumlah Outlier yang di Handle': 2\n",
    "},\n",
    "{    \n",
    "    'Upper Fence':f'{lower_fence_DR}',\n",
    "    'Lower Fence':f'{upper_fence_DR}',\n",
    "    'Jumlah Outlier yang di Handle':0\n",
    "},\n",
    "{    \n",
    "     'Upper Fence':f'{lower_fence_MI}',\n",
    "    'Lower Fence':f'{upper_fence_MI}',\n",
    "    'Jumlah Outlier yang di Handle': 0\n",
    "},\n",
    "{    \n",
    "     'Upper Fence':f'{lower_fence_NOCLL}',\n",
    "    'Lower Fence':f'{upper_fence_NOCLL}',\n",
    "    'Jumlah Outlier yang di Handle': 0\n",
    "},\n",
    "{    \n",
    "     'Upper Fence':f'{lower_fence_NT90}',\n",
    "    'Lower Fence':f'{upper_fence_NT90}',\n",
    "    'Jumlah Outlier yang di Handle': 0\n",
    "},\n",
    "{    \n",
    "     'Upper Fence':f'{lower_fence_NRELL}',\n",
    "    'Lower Fence':f'{upper_fence_NRELL}',\n",
    "    'Jumlah Outlier yang di Handle': 0\n",
    "},\n",
    "{    \n",
    "     'Upper Fence':f'{lower_fence_NT6089}',\n",
    "    'Lower Fence':f'{upper_fence_NT6089}',\n",
    "    'Jumlah Outlier yang di Handle': 0\n",
    "}, \n",
    "{    \n",
    "  'Upper Fence':f'{lower_fence_ND}',\n",
    "    'Lower Fence':f'{upper_fence_ND}',\n",
    "    'Jumlah Outlier yang di Handle': 0\n",
    "    \n",
    "    }]"
   ]
  },
  {
   "cell_type": "code",
   "execution_count": 37,
   "metadata": {},
   "outputs": [
    {
     "data": {
      "text/html": [
       "<div>\n",
       "<style scoped>\n",
       "    .dataframe tbody tr th:only-of-type {\n",
       "        vertical-align: middle;\n",
       "    }\n",
       "\n",
       "    .dataframe tbody tr th {\n",
       "        vertical-align: top;\n",
       "    }\n",
       "\n",
       "    .dataframe thead th {\n",
       "        text-align: right;\n",
       "    }\n",
       "</style>\n",
       "<table border=\"1\" class=\"dataframe\">\n",
       "  <thead>\n",
       "    <tr style=\"text-align: right;\">\n",
       "      <th></th>\n",
       "      <th>Upper Fence</th>\n",
       "      <th>Lower Fence</th>\n",
       "      <th>Jumlah Outlier yang di Handle</th>\n",
       "    </tr>\n",
       "  </thead>\n",
       "  <tbody>\n",
       "    <tr>\n",
       "      <td>RevolvingUtilizationOfUnsecuredLines</td>\n",
       "      <td>-0.7639007662499999</td>\n",
       "      <td>1.35281445575</td>\n",
       "      <td>763</td>\n",
       "    </tr>\n",
       "    <tr>\n",
       "      <td>age</td>\n",
       "      <td>8.0</td>\n",
       "      <td>96.0</td>\n",
       "      <td>1</td>\n",
       "    </tr>\n",
       "    <tr>\n",
       "      <td>NumberOfTime30-59DaysPastDueNotWorse</td>\n",
       "      <td>0.0</td>\n",
       "      <td>0.0</td>\n",
       "      <td>2</td>\n",
       "    </tr>\n",
       "    <tr>\n",
       "      <td>DebtRatio</td>\n",
       "      <td>-0.862476942</td>\n",
       "      <td>1.90703183</td>\n",
       "      <td>0</td>\n",
       "    </tr>\n",
       "    <tr>\n",
       "      <td>MonthlyIncome</td>\n",
       "      <td>-3875.0</td>\n",
       "      <td>15525.0</td>\n",
       "      <td>0</td>\n",
       "    </tr>\n",
       "    <tr>\n",
       "      <td>NumberOfOpenCreditLinesAndLoans</td>\n",
       "      <td>-4.0</td>\n",
       "      <td>20.0</td>\n",
       "      <td>0</td>\n",
       "    </tr>\n",
       "    <tr>\n",
       "      <td>NumberOfTimes90DaysLate</td>\n",
       "      <td>0.0</td>\n",
       "      <td>0.0</td>\n",
       "      <td>0</td>\n",
       "    </tr>\n",
       "    <tr>\n",
       "      <td>NumberRealEstateLoansOrLines</td>\n",
       "      <td>-3.0</td>\n",
       "      <td>5.0</td>\n",
       "      <td>0</td>\n",
       "    </tr>\n",
       "    <tr>\n",
       "      <td>NumberOfTime60-89DaysPastDueNotWorse</td>\n",
       "      <td>0.0</td>\n",
       "      <td>0.0</td>\n",
       "      <td>0</td>\n",
       "    </tr>\n",
       "    <tr>\n",
       "      <td>NumberOfDependents</td>\n",
       "      <td>-1.5</td>\n",
       "      <td>2.5</td>\n",
       "      <td>0</td>\n",
       "    </tr>\n",
       "  </tbody>\n",
       "</table>\n",
       "</div>"
      ],
      "text/plain": [
       "                                              Upper Fence    Lower Fence  \\\n",
       "RevolvingUtilizationOfUnsecuredLines  -0.7639007662499999  1.35281445575   \n",
       "age                                                   8.0           96.0   \n",
       "NumberOfTime30-59DaysPastDueNotWorse                  0.0            0.0   \n",
       "DebtRatio                                    -0.862476942     1.90703183   \n",
       "MonthlyIncome                                     -3875.0        15525.0   \n",
       "NumberOfOpenCreditLinesAndLoans                      -4.0           20.0   \n",
       "NumberOfTimes90DaysLate                               0.0            0.0   \n",
       "NumberRealEstateLoansOrLines                         -3.0            5.0   \n",
       "NumberOfTime60-89DaysPastDueNotWorse                  0.0            0.0   \n",
       "NumberOfDependents                                   -1.5            2.5   \n",
       "\n",
       "                                     Jumlah Outlier yang di Handle  \n",
       "RevolvingUtilizationOfUnsecuredLines                           763  \n",
       "age                                                              1  \n",
       "NumberOfTime30-59DaysPastDueNotWorse                             2  \n",
       "DebtRatio                                                        0  \n",
       "MonthlyIncome                                                    0  \n",
       "NumberOfOpenCreditLinesAndLoans                                  0  \n",
       "NumberOfTimes90DaysLate                                          0  \n",
       "NumberRealEstateLoansOrLines                                     0  \n",
       "NumberOfTime60-89DaysPastDueNotWorse                             0  \n",
       "NumberOfDependents                                               0  "
      ]
     },
     "execution_count": 37,
     "metadata": {},
     "output_type": "execute_result"
    }
   ],
   "source": [
    "df_training2 = df_training.drop(['nullValuesMI','nullValuesND'],axis=1)\n",
    "pd.DataFrame(data,index=df_training2.columns[1:])"
   ]
  },
  {
   "cell_type": "markdown",
   "metadata": {},
   "source": [
    "## Feature Engineering - Binning Age"
   ]
  },
  {
   "cell_type": "code",
   "execution_count": 38,
   "metadata": {},
   "outputs": [
    {
     "data": {
      "text/html": [
       "<div>\n",
       "<style scoped>\n",
       "    .dataframe tbody tr th:only-of-type {\n",
       "        vertical-align: middle;\n",
       "    }\n",
       "\n",
       "    .dataframe tbody tr th {\n",
       "        vertical-align: top;\n",
       "    }\n",
       "\n",
       "    .dataframe thead th {\n",
       "        text-align: right;\n",
       "    }\n",
       "</style>\n",
       "<table border=\"1\" class=\"dataframe\">\n",
       "  <thead>\n",
       "    <tr style=\"text-align: right;\">\n",
       "      <th></th>\n",
       "      <th>age</th>\n",
       "      <th>MonthlyIncome</th>\n",
       "      <th>binned_age</th>\n",
       "    </tr>\n",
       "    <tr>\n",
       "      <th>index</th>\n",
       "      <th></th>\n",
       "      <th></th>\n",
       "      <th></th>\n",
       "    </tr>\n",
       "  </thead>\n",
       "  <tbody>\n",
       "    <tr>\n",
       "      <td>1</td>\n",
       "      <td>45</td>\n",
       "      <td>9120.0</td>\n",
       "      <td>(41-50)</td>\n",
       "    </tr>\n",
       "    <tr>\n",
       "      <td>2</td>\n",
       "      <td>40</td>\n",
       "      <td>2600.0</td>\n",
       "      <td>(31-40)</td>\n",
       "    </tr>\n",
       "    <tr>\n",
       "      <td>3</td>\n",
       "      <td>38</td>\n",
       "      <td>3042.0</td>\n",
       "      <td>(31-40)</td>\n",
       "    </tr>\n",
       "    <tr>\n",
       "      <td>4</td>\n",
       "      <td>30</td>\n",
       "      <td>3300.0</td>\n",
       "      <td>(21-30)</td>\n",
       "    </tr>\n",
       "    <tr>\n",
       "      <td>5</td>\n",
       "      <td>49</td>\n",
       "      <td>63588.0</td>\n",
       "      <td>(41-50)</td>\n",
       "    </tr>\n",
       "  </tbody>\n",
       "</table>\n",
       "</div>"
      ],
      "text/plain": [
       "       age  MonthlyIncome binned_age\n",
       "index                               \n",
       "1       45         9120.0    (41-50)\n",
       "2       40         2600.0    (31-40)\n",
       "3       38         3042.0    (31-40)\n",
       "4       30         3300.0    (21-30)\n",
       "5       49        63588.0    (41-50)"
      ]
     },
     "execution_count": 38,
     "metadata": {},
     "output_type": "execute_result"
    }
   ],
   "source": [
    "# Binning age by interval 10\n",
    "bins = [-1,21,31,41,51,61,71,81,91,101,111] # binning dengan interval 10 kecuali yang pertama karena hanya ditemukan 1 data dengan age 0 (outlier)\n",
    "label = ['(0-20)','(21-30)','(31-40)','(41-50)','(51-60)','(61-70)','(71-80)','(81-90)','(91-100)','(101-111)'] # label umur\n",
    "df_training['binned_age']=pd.cut(df_training['age'],bins=bins,labels=label)\n",
    "df_training[['age','MonthlyIncome','binned_age']].head()"
   ]
  },
  {
   "cell_type": "markdown",
   "metadata": {},
   "source": [
    "## Train Test Split"
   ]
  },
  {
   "cell_type": "code",
   "execution_count": 39,
   "metadata": {},
   "outputs": [],
   "source": [
    "X = df_training.drop(columns='SeriousDlqin2yrs')\n",
    "y = df_training['SeriousDlqin2yrs']\n",
    "X_train, X_test, y_train, y_test = train_test_split(X ,y ,stratify = y, train_size=.75, random_state=42) # data split"
   ]
  },
  {
   "cell_type": "markdown",
   "metadata": {},
   "source": [
    "## Data Imputation"
   ]
  },
  {
   "cell_type": "code",
   "execution_count": 40,
   "metadata": {},
   "outputs": [],
   "source": [
    "X_train['MonthlyIncome'] = X_train.groupby('binned_age')['MonthlyIncome'].apply(lambda x:x.fillna(x.median()))"
   ]
  },
  {
   "cell_type": "code",
   "execution_count": 41,
   "metadata": {},
   "outputs": [],
   "source": [
    "X_train['NumberOfDependents'] = X_train.groupby('binned_age')['NumberOfDependents'].apply(lambda x:x.fillna(x.median()))"
   ]
  },
  {
   "cell_type": "code",
   "execution_count": 42,
   "metadata": {},
   "outputs": [],
   "source": [
    "X_test['MonthlyIncome'] = X_test.groupby('binned_age')['MonthlyIncome'].apply(lambda x:x.fillna(x.median()))"
   ]
  },
  {
   "cell_type": "code",
   "execution_count": 43,
   "metadata": {},
   "outputs": [],
   "source": [
    "X_test['NumberOfDependents'] = X_test.groupby('binned_age')['NumberOfDependents'].apply(lambda x:x.fillna(x.median()))"
   ]
  },
  {
   "cell_type": "markdown",
   "metadata": {},
   "source": [
    "## Feature Selection"
   ]
  },
  {
   "cell_type": "code",
   "execution_count": 44,
   "metadata": {},
   "outputs": [
    {
     "data": {
      "text/plain": [
       "Index(['SeriousDlqin2yrs', 'RevolvingUtilizationOfUnsecuredLines', 'age',\n",
       "       'NumberOfTime30-59DaysPastDueNotWorse', 'DebtRatio', 'MonthlyIncome',\n",
       "       'NumberOfOpenCreditLinesAndLoans', 'NumberOfTimes90DaysLate',\n",
       "       'NumberRealEstateLoansOrLines', 'NumberOfTime60-89DaysPastDueNotWorse',\n",
       "       'NumberOfDependents', 'nullValuesMI', 'nullValuesND', 'binned_age'],\n",
       "      dtype='object')"
      ]
     },
     "execution_count": 44,
     "metadata": {},
     "output_type": "execute_result"
    }
   ],
   "source": [
    "df_training.columns"
   ]
  },
  {
   "cell_type": "code",
   "execution_count": 45,
   "metadata": {},
   "outputs": [],
   "source": [
    "X_train.drop(['nullValuesMI','nullValuesND','binned_age'],axis=1,inplace=True)"
   ]
  },
  {
   "cell_type": "code",
   "execution_count": 46,
   "metadata": {},
   "outputs": [],
   "source": [
    "X_test.drop(['nullValuesMI','nullValuesND','binned_age'],axis=1,inplace=True)"
   ]
  },
  {
   "cell_type": "markdown",
   "metadata": {},
   "source": [
    "## Data Imbalanced Handling"
   ]
  },
  {
   "cell_type": "markdown",
   "metadata": {},
   "source": [
    " _<b>SMOTE</b>_"
   ]
  },
  {
   "cell_type": "code",
   "execution_count": 47,
   "metadata": {},
   "outputs": [],
   "source": [
    "sm = SMOTE(random_state=42)\n",
    "X_train_sm,y_train_sm=sm.fit_sample(X_train,y_train)"
   ]
  },
  {
   "cell_type": "markdown",
   "metadata": {},
   "source": [
    "_<b>Oversampling<b>_"
   ]
  },
  {
   "cell_type": "code",
   "execution_count": 48,
   "metadata": {},
   "outputs": [],
   "source": [
    "X = pd.concat([X_train, y_train], axis=1)\n",
    "\n",
    "not_default = X[X.SeriousDlqin2yrs == 0]\n",
    "default = X[X.SeriousDlqin2yrs == 1]"
   ]
  },
  {
   "cell_type": "code",
   "execution_count": 49,
   "metadata": {},
   "outputs": [],
   "source": [
    "default_oversample = resample(default,\n",
    "                            replace = True,\n",
    "                            n_samples = len(not_default),\n",
    "                            random_state=42\n",
    ")"
   ]
  },
  {
   "cell_type": "code",
   "execution_count": 50,
   "metadata": {},
   "outputs": [],
   "source": [
    "oversampled = pd.concat([not_default,default_oversample])"
   ]
  },
  {
   "cell_type": "code",
   "execution_count": 51,
   "metadata": {},
   "outputs": [
    {
     "data": {
      "text/plain": [
       "1    104492\n",
       "0    104492\n",
       "Name: SeriousDlqin2yrs, dtype: int64"
      ]
     },
     "execution_count": 51,
     "metadata": {},
     "output_type": "execute_result"
    }
   ],
   "source": [
    "oversampled.SeriousDlqin2yrs.value_counts() # sudah sama jumlahnya"
   ]
  },
  {
   "cell_type": "code",
   "execution_count": 52,
   "metadata": {},
   "outputs": [],
   "source": [
    "X_train_os = oversampled.drop(columns='SeriousDlqin2yrs',axis=1)\n",
    "y_train_os = oversampled.SeriousDlqin2yrs"
   ]
  },
  {
   "cell_type": "markdown",
   "metadata": {},
   "source": [
    "_<b>Undersampling</b>_"
   ]
  },
  {
   "cell_type": "code",
   "execution_count": 53,
   "metadata": {},
   "outputs": [],
   "source": [
    "X2 = pd.concat([X_train, y_train], axis=1)\n",
    "\n",
    "not_default = X2[X2.SeriousDlqin2yrs == 0]\n",
    "default = X2[X2.SeriousDlqin2yrs == 1]"
   ]
  },
  {
   "cell_type": "code",
   "execution_count": 54,
   "metadata": {},
   "outputs": [],
   "source": [
    "not_default_undersample = resample(not_default,\n",
    "                            replace = False,\n",
    "                            n_samples = len(default),\n",
    "                            random_state=42\n",
    ")"
   ]
  },
  {
   "cell_type": "code",
   "execution_count": 55,
   "metadata": {},
   "outputs": [],
   "source": [
    "undersampled = pd.concat([not_default_undersample,default])"
   ]
  },
  {
   "cell_type": "code",
   "execution_count": 56,
   "metadata": {},
   "outputs": [
    {
     "data": {
      "text/plain": [
       "1    7233\n",
       "0    7233\n",
       "Name: SeriousDlqin2yrs, dtype: int64"
      ]
     },
     "execution_count": 56,
     "metadata": {},
     "output_type": "execute_result"
    }
   ],
   "source": [
    "undersampled.SeriousDlqin2yrs.value_counts() # datanya sudah dikurangi hingga jumlahnya sama"
   ]
  },
  {
   "cell_type": "code",
   "execution_count": 57,
   "metadata": {},
   "outputs": [],
   "source": [
    "X_train_us = undersampled.drop(columns='SeriousDlqin2yrs',axis=1)\n",
    "y_train_us = undersampled.SeriousDlqin2yrs"
   ]
  },
  {
   "cell_type": "markdown",
   "metadata": {},
   "source": [
    "## Pipeline Creation"
   ]
  },
  {
   "cell_type": "code",
   "execution_count": 58,
   "metadata": {},
   "outputs": [],
   "source": [
    "pipeline1 = Pipeline([\n",
    "    (\"scaler\", RobustScaler()),\n",
    "    (\"logres\", LogisticRegression())\n",
    "])\n",
    "\n",
    "pipeline2 = Pipeline([\n",
    "    (\"scaler\", RobustScaler()),\n",
    "    (\"knc\", KNeighborsClassifier())\n",
    "])\n",
    "\n",
    "pipeline3 = Pipeline([\n",
    "    (\"scaler\", RobustScaler()),\n",
    "    (\"rfc\", RandomForestClassifier())\n",
    "])\n",
    "\n",
    "pipeline4 = Pipeline([\n",
    "    (\"scaler\", RobustScaler()),\n",
    "    (\"kxgb\", XGBClassifier())\n",
    "])\n",
    "\n",
    "pipeline5 = Pipeline([\n",
    "    (\"scaler\", StandardScaler()),\n",
    "    (\"logres\", LogisticRegression())\n",
    "])\n",
    "\n",
    "pipeline6 = Pipeline([\n",
    "    (\"scaler\", StandardScaler()),\n",
    "    (\"knc\", KNeighborsClassifier())\n",
    "])\n",
    "\n",
    "pipeline7 = Pipeline([\n",
    "    (\"scaler\", StandardScaler()),\n",
    "    (\"rfc\", RandomForestClassifier())\n",
    "])\n",
    "\n",
    "pipeline8 = Pipeline([\n",
    "    (\"scaler\", StandardScaler()),\n",
    "    (\"kxgb\", XGBClassifier())\n",
    "])\n",
    "\n",
    "pipeline9 = Pipeline([\n",
    "    (\"scaler\", MinMaxScaler()),\n",
    "    (\"logres\", LogisticRegression())\n",
    "])\n",
    "\n",
    "pipeline10 = Pipeline([\n",
    "    (\"scaler\", MinMaxScaler()),\n",
    "    (\"knc\", KNeighborsClassifier())\n",
    "])\n",
    "\n",
    "pipeline11 = Pipeline([\n",
    "    (\"scaler\", MinMaxScaler()),\n",
    "    (\"rfc\", RandomForestClassifier())\n",
    "])\n",
    "\n",
    "pipeline12 = Pipeline([\n",
    "    (\"scaler\", MinMaxScaler()),\n",
    "    (\"kxgb\", XGBClassifier())\n",
    "])"
   ]
  },
  {
   "cell_type": "markdown",
   "metadata": {},
   "source": [
    "## Fitting - SMOTE"
   ]
  },
  {
   "cell_type": "code",
   "execution_count": 59,
   "metadata": {},
   "outputs": [],
   "source": [
    "model1 = pipeline1.fit(X_train_sm,y_train_sm)"
   ]
  },
  {
   "cell_type": "code",
   "execution_count": 60,
   "metadata": {},
   "outputs": [],
   "source": [
    "model2 = pipeline2.fit(X_train_sm,y_train_sm)"
   ]
  },
  {
   "cell_type": "code",
   "execution_count": 61,
   "metadata": {},
   "outputs": [],
   "source": [
    "model3 = pipeline3.fit(X_train_sm,y_train_sm)"
   ]
  },
  {
   "cell_type": "code",
   "execution_count": 62,
   "metadata": {},
   "outputs": [],
   "source": [
    "model4 = pipeline4.fit(X_train_sm,y_train_sm)"
   ]
  },
  {
   "cell_type": "code",
   "execution_count": 63,
   "metadata": {},
   "outputs": [],
   "source": [
    "model5 = pipeline5.fit(X_train_sm,y_train_sm)"
   ]
  },
  {
   "cell_type": "code",
   "execution_count": 64,
   "metadata": {},
   "outputs": [],
   "source": [
    "model6 = pipeline6.fit(X_train_sm,y_train_sm)"
   ]
  },
  {
   "cell_type": "code",
   "execution_count": 65,
   "metadata": {},
   "outputs": [],
   "source": [
    "model7 = pipeline7.fit(X_train_sm,y_train_sm)"
   ]
  },
  {
   "cell_type": "code",
   "execution_count": 66,
   "metadata": {},
   "outputs": [],
   "source": [
    "model8 = pipeline8.fit(X_train_sm,y_train_sm)"
   ]
  },
  {
   "cell_type": "code",
   "execution_count": 67,
   "metadata": {},
   "outputs": [],
   "source": [
    "model9 = pipeline9.fit(X_train_sm,y_train_sm)"
   ]
  },
  {
   "cell_type": "code",
   "execution_count": 68,
   "metadata": {},
   "outputs": [],
   "source": [
    "model10 = pipeline10.fit(X_train_sm,y_train_sm)"
   ]
  },
  {
   "cell_type": "code",
   "execution_count": 69,
   "metadata": {},
   "outputs": [],
   "source": [
    "model11 = pipeline11.fit(X_train_sm,y_train_sm)"
   ]
  },
  {
   "cell_type": "code",
   "execution_count": 70,
   "metadata": {},
   "outputs": [],
   "source": [
    "model12 = pipeline12.fit(X_train_sm,y_train_sm)"
   ]
  },
  {
   "cell_type": "markdown",
   "metadata": {},
   "source": [
    "## Fitting Oversampling"
   ]
  },
  {
   "cell_type": "code",
   "execution_count": 71,
   "metadata": {},
   "outputs": [],
   "source": [
    "model13 = pipeline1.fit(X_train_os,y_train_os)"
   ]
  },
  {
   "cell_type": "code",
   "execution_count": 72,
   "metadata": {},
   "outputs": [],
   "source": [
    "model14 = pipeline2.fit(X_train_os,y_train_os)"
   ]
  },
  {
   "cell_type": "code",
   "execution_count": 73,
   "metadata": {},
   "outputs": [],
   "source": [
    "model15 = pipeline3.fit(X_train_os,y_train_os)"
   ]
  },
  {
   "cell_type": "code",
   "execution_count": 74,
   "metadata": {},
   "outputs": [],
   "source": [
    "model16 = pipeline4.fit(X_train_os,y_train_os)"
   ]
  },
  {
   "cell_type": "code",
   "execution_count": 75,
   "metadata": {},
   "outputs": [],
   "source": [
    "model17 = pipeline5.fit(X_train_os,y_train_os)"
   ]
  },
  {
   "cell_type": "code",
   "execution_count": 76,
   "metadata": {},
   "outputs": [],
   "source": [
    "model18 = pipeline6.fit(X_train_os,y_train_os)"
   ]
  },
  {
   "cell_type": "code",
   "execution_count": 77,
   "metadata": {},
   "outputs": [],
   "source": [
    "model19 = pipeline7.fit(X_train_os,y_train_os)"
   ]
  },
  {
   "cell_type": "code",
   "execution_count": 78,
   "metadata": {},
   "outputs": [],
   "source": [
    "model20 = pipeline8.fit(X_train_os,y_train_os)"
   ]
  },
  {
   "cell_type": "code",
   "execution_count": 79,
   "metadata": {},
   "outputs": [],
   "source": [
    "model21 = pipeline9.fit(X_train_os,y_train_os)"
   ]
  },
  {
   "cell_type": "code",
   "execution_count": 80,
   "metadata": {},
   "outputs": [],
   "source": [
    "model22 = pipeline10.fit(X_train_os,y_train_os)"
   ]
  },
  {
   "cell_type": "code",
   "execution_count": 81,
   "metadata": {},
   "outputs": [],
   "source": [
    "model23 = pipeline11.fit(X_train_os,y_train_os)"
   ]
  },
  {
   "cell_type": "code",
   "execution_count": 82,
   "metadata": {},
   "outputs": [],
   "source": [
    "model24 = pipeline12.fit(X_train_os,y_train_os)"
   ]
  },
  {
   "cell_type": "markdown",
   "metadata": {},
   "source": [
    "## Fitting Undersampling"
   ]
  },
  {
   "cell_type": "code",
   "execution_count": 83,
   "metadata": {},
   "outputs": [],
   "source": [
    "model25 = pipeline1.fit(X_train_us,y_train_us)"
   ]
  },
  {
   "cell_type": "code",
   "execution_count": 84,
   "metadata": {},
   "outputs": [],
   "source": [
    "model26 = pipeline2.fit(X_train_us,y_train_us)"
   ]
  },
  {
   "cell_type": "code",
   "execution_count": 85,
   "metadata": {},
   "outputs": [],
   "source": [
    "model27 = pipeline3.fit(X_train_us,y_train_us)"
   ]
  },
  {
   "cell_type": "code",
   "execution_count": 86,
   "metadata": {},
   "outputs": [],
   "source": [
    "model28 = pipeline4.fit(X_train_us,y_train_us)"
   ]
  },
  {
   "cell_type": "code",
   "execution_count": 87,
   "metadata": {},
   "outputs": [],
   "source": [
    "model29 = pipeline5.fit(X_train_us,y_train_us)"
   ]
  },
  {
   "cell_type": "code",
   "execution_count": 88,
   "metadata": {},
   "outputs": [],
   "source": [
    "model30 = pipeline6.fit(X_train_us,y_train_us)"
   ]
  },
  {
   "cell_type": "code",
   "execution_count": 89,
   "metadata": {},
   "outputs": [],
   "source": [
    "model31 = pipeline7.fit(X_train_us,y_train_us)"
   ]
  },
  {
   "cell_type": "code",
   "execution_count": 90,
   "metadata": {},
   "outputs": [],
   "source": [
    "model32 = pipeline8.fit(X_train_us,y_train_us)"
   ]
  },
  {
   "cell_type": "code",
   "execution_count": 91,
   "metadata": {},
   "outputs": [],
   "source": [
    "model33 = pipeline9.fit(X_train_us,y_train_us)"
   ]
  },
  {
   "cell_type": "code",
   "execution_count": 92,
   "metadata": {},
   "outputs": [],
   "source": [
    "model34 = pipeline10.fit(X_train_us,y_train_us)"
   ]
  },
  {
   "cell_type": "code",
   "execution_count": 93,
   "metadata": {},
   "outputs": [],
   "source": [
    "model35 = pipeline11.fit(X_train_us,y_train_us)"
   ]
  },
  {
   "cell_type": "code",
   "execution_count": 94,
   "metadata": {},
   "outputs": [],
   "source": [
    "model36 = pipeline12.fit(X_train_us,y_train_us)"
   ]
  },
  {
   "cell_type": "markdown",
   "metadata": {},
   "source": [
    "## ROC-AUC Curve"
   ]
  },
  {
   "cell_type": "code",
   "execution_count": 95,
   "metadata": {},
   "outputs": [],
   "source": [
    "proba1 = model1.predict_proba(X_test)\n",
    "proba2 = model2.predict_proba(X_test)\n",
    "proba3 = model3.predict_proba(X_test)\n",
    "proba4 = model4.predict_proba(X_test)\n",
    "proba5 = model5.predict_proba(X_test)\n",
    "proba6 = model6.predict_proba(X_test)\n",
    "proba7 = model7.predict_proba(X_test)\n",
    "proba8 = model8.predict_proba(X_test)\n",
    "proba9 = model9.predict_proba(X_test)\n",
    "proba10 = model10.predict_proba(X_test)\n",
    "proba11 = model11.predict_proba(X_test)\n",
    "proba12 = model12.predict_proba(X_test)\n",
    "proba13 = model13.predict_proba(X_test)\n",
    "proba14 = model14.predict_proba(X_test)\n",
    "proba15 = model15.predict_proba(X_test)\n",
    "proba16 = model16.predict_proba(X_test)\n",
    "proba17 = model17.predict_proba(X_test)\n",
    "proba18 = model18.predict_proba(X_test)\n",
    "proba19 = model19.predict_proba(X_test)\n",
    "proba20 = model20.predict_proba(X_test)\n",
    "proba21 = model21.predict_proba(X_test)\n",
    "proba22 = model22.predict_proba(X_test)\n",
    "proba23 = model23.predict_proba(X_test)\n",
    "proba24 = model24.predict_proba(X_test)\n",
    "proba25 = model25.predict_proba(X_test)\n",
    "proba26 = model26.predict_proba(X_test)\n",
    "proba27 = model27.predict_proba(X_test)\n",
    "proba28 = model28.predict_proba(X_test)\n",
    "proba29 = model29.predict_proba(X_test)\n",
    "proba30 = model30.predict_proba(X_test)\n",
    "proba31 = model31.predict_proba(X_test)\n",
    "proba32 = model32.predict_proba(X_test)\n",
    "proba33 = model33.predict_proba(X_test)\n",
    "proba34 = model34.predict_proba(X_test)\n",
    "proba35 = model35.predict_proba(X_test)\n",
    "proba36 = model36.predict_proba(X_test)"
   ]
  },
  {
   "cell_type": "code",
   "execution_count": 96,
   "metadata": {},
   "outputs": [],
   "source": [
    "# Performa Test\n",
    "prediksi1 = model1.predict(X_test)\n",
    "prediksi2 = model2.predict(X_test)\n",
    "prediksi3 = model3.predict(X_test)\n",
    "prediksi4 = model4.predict(X_test)\n",
    "prediksi5 = model5.predict(X_test)\n",
    "prediksi6 = model6.predict(X_test)\n",
    "prediksi7 = model7.predict(X_test)\n",
    "prediksi8 = model8.predict(X_test)\n",
    "prediksi9 = model9.predict(X_test)\n",
    "prediksi10 = model10.predict(X_test)\n",
    "prediksi11 = model11.predict(X_test)\n",
    "prediksi12 = model12.predict(X_test)\n",
    "prediksi13 = model13.predict(X_test)\n",
    "prediksi14 = model14.predict(X_test)\n",
    "prediksi15 = model15.predict(X_test)\n",
    "prediksi16 = model16.predict(X_test)\n",
    "prediksi17 = model17.predict(X_test)\n",
    "prediksi18 = model18.predict(X_test)\n",
    "prediksi19 = model19.predict(X_test)\n",
    "prediksi20 = model20.predict(X_test)\n",
    "prediksi21 = model21.predict(X_test)\n",
    "prediksi22 = model22.predict(X_test)\n",
    "prediksi23 = model23.predict(X_test)\n",
    "prediksi24 = model24.predict(X_test)\n",
    "prediksi25 = model25.predict(X_test)\n",
    "prediksi26 = model26.predict(X_test)\n",
    "prediksi27 = model27.predict(X_test)\n",
    "prediksi28 = model28.predict(X_test)\n",
    "prediksi29 = model29.predict(X_test)\n",
    "prediksi30 = model30.predict(X_test)\n",
    "prediksi31 = model31.predict(X_test)\n",
    "prediksi32 = model32.predict(X_test)\n",
    "prediksi33 = model33.predict(X_test)\n",
    "prediksi34 = model34.predict(X_test)\n",
    "prediksi35 = model35.predict(X_test)\n",
    "prediksi36 = model36.predict(X_test)\n",
    "\n",
    "# Performa Training\n",
    "prediksi_train1 = model1.predict(X_train_sm)\n",
    "prediksi_train2 = model2.predict(X_train_sm)\n",
    "prediksi_train3 = model3.predict(X_train_sm)\n",
    "prediksi_train4 = model4.predict(X_train_sm)\n",
    "prediksi_train5 = model5.predict(X_train_sm)\n",
    "prediksi_train6 = model6.predict(X_train_sm)\n",
    "prediksi_train7 = model7.predict(X_train_sm)\n",
    "prediksi_train8 = model8.predict(X_train_sm)\n",
    "prediksi_train9 = model9.predict(X_train_sm)\n",
    "prediksi_train10 = model10.predict(X_train_sm)\n",
    "prediksi_train11 = model11.predict(X_train_sm)\n",
    "prediksi_train12 = model12.predict(X_train_sm)\n",
    "prediksi_train13 = model13.predict(X_train_os)\n",
    "prediksi_train14 = model14.predict(X_train_os)\n",
    "prediksi_train15 = model15.predict(X_train_os)\n",
    "prediksi_train16 = model16.predict(X_train_os)\n",
    "prediksi_train17 = model17.predict(X_train_os)\n",
    "prediksi_train18 = model18.predict(X_train_os)\n",
    "prediksi_train19 = model19.predict(X_train_os)\n",
    "prediksi_train20 = model20.predict(X_train_os)\n",
    "prediksi_train21 = model21.predict(X_train_os)\n",
    "prediksi_train22 = model22.predict(X_train_os)\n",
    "prediksi_train23 = model23.predict(X_train_os)\n",
    "prediksi_train24 = model24.predict(X_train_os)\n",
    "prediksi_train25 = model25.predict(X_train_us)\n",
    "prediksi_train26 = model26.predict(X_train_us)\n",
    "prediksi_train27 = model27.predict(X_train_us)\n",
    "prediksi_train28 = model28.predict(X_train_us)\n",
    "prediksi_train29 = model29.predict(X_train_us)\n",
    "prediksi_train30 = model30.predict(X_train_us)\n",
    "prediksi_train31 = model31.predict(X_train_us)\n",
    "prediksi_train32 = model32.predict(X_train_us)\n",
    "prediksi_train33 = model33.predict(X_train_us)\n",
    "prediksi_train34 = model34.predict(X_train_us)\n",
    "prediksi_train35 = model35.predict(X_train_us)\n",
    "prediksi_train36 = model36.predict(X_train_us)"
   ]
  },
  {
   "cell_type": "code",
   "execution_count": 97,
   "metadata": {},
   "outputs": [],
   "source": [
    "# Perbandingan akurasi test dan train \n",
    "\n",
    "akurasi_train1 = accuracy_score(y_test,prediksi1)\n",
    "akurasi_train2 = accuracy_score(y_test,prediksi2)\n",
    "akurasi_train3 = accuracy_score(y_test,prediksi3)\n",
    "akurasi_train4 = accuracy_score(y_test,prediksi4)\n",
    "akurasi_train5 = accuracy_score(y_test,prediksi5)\n",
    "akurasi_train6 = accuracy_score(y_test,prediksi6)\n",
    "akurasi_train7 = accuracy_score(y_test,prediksi7)\n",
    "akurasi_train8 = accuracy_score(y_test,prediksi8)\n",
    "akurasi_train9 = accuracy_score(y_test,prediksi9)\n",
    "akurasi_train10 = accuracy_score(y_test,prediksi10)\n",
    "akurasi_train11 = accuracy_score(y_test,prediksi11)\n",
    "akurasi_train12 = accuracy_score(y_test,prediksi12)\n",
    "akurasi_train13 = accuracy_score(y_test,prediksi13)\n",
    "akurasi_train14 = accuracy_score(y_test,prediksi14)\n",
    "akurasi_train15 = accuracy_score(y_test,prediksi15)\n",
    "akurasi_train16 = accuracy_score(y_test,prediksi16)\n",
    "akurasi_train17 = accuracy_score(y_test,prediksi17)\n",
    "akurasi_train18 = accuracy_score(y_test,prediksi18)\n",
    "akurasi_train19 = accuracy_score(y_test,prediksi19)\n",
    "akurasi_train20 = accuracy_score(y_test,prediksi20)\n",
    "akurasi_train21 = accuracy_score(y_test,prediksi21)\n",
    "akurasi_train22 = accuracy_score(y_test,prediksi22)\n",
    "akurasi_train23 = accuracy_score(y_test,prediksi23)\n",
    "akurasi_train24 = accuracy_score(y_test,prediksi24)\n",
    "akurasi_train25 = accuracy_score(y_test,prediksi25)\n",
    "akurasi_train26 = accuracy_score(y_test,prediksi26)\n",
    "akurasi_train27 = accuracy_score(y_test,prediksi27)\n",
    "akurasi_train28 = accuracy_score(y_test,prediksi28)\n",
    "akurasi_train29 = accuracy_score(y_test,prediksi29)\n",
    "akurasi_train30 = accuracy_score(y_test,prediksi30)\n",
    "akurasi_train31 = accuracy_score(y_test,prediksi31)\n",
    "akurasi_train32 = accuracy_score(y_test,prediksi32)\n",
    "akurasi_train33 = accuracy_score(y_test,prediksi33)\n",
    "akurasi_train34 = accuracy_score(y_test,prediksi34)\n",
    "akurasi_train35 = accuracy_score(y_test,prediksi35)\n",
    "akurasi_train36 = accuracy_score(y_test,prediksi36)"
   ]
  },
  {
   "cell_type": "code",
   "execution_count": 98,
   "metadata": {},
   "outputs": [
    {
     "name": "stdout",
     "output_type": "stream",
     "text": [
      "              precision    recall  f1-score   support\n",
      "\n",
      "           0       0.98      0.80      0.88     34831\n",
      "           1       0.21      0.75      0.33      2411\n",
      "\n",
      "    accuracy                           0.80     37242\n",
      "   macro avg       0.59      0.78      0.60     37242\n",
      "weighted avg       0.93      0.80      0.85     37242\n",
      "\n"
     ]
    }
   ],
   "source": [
    "print(classification_report(y_test,prediksi1))"
   ]
  },
  {
   "cell_type": "code",
   "execution_count": 99,
   "metadata": {},
   "outputs": [
    {
     "name": "stdout",
     "output_type": "stream",
     "text": [
      "0.978906797477225\n"
     ]
    }
   ],
   "source": [
    "print(precision_score(y_test,prediksi1,pos_label=0))"
   ]
  },
  {
   "cell_type": "code",
   "execution_count": 100,
   "metadata": {},
   "outputs": [
    {
     "name": "stdout",
     "output_type": "stream",
     "text": [
      "[[ 1809   602]\n",
      " [ 6893 27938]]\n"
     ]
    }
   ],
   "source": [
    "print(confusion_matrix(y_test,prediksi1,labels=[1,0]))"
   ]
  },
  {
   "cell_type": "code",
   "execution_count": 101,
   "metadata": {},
   "outputs": [],
   "source": [
    "# Confusion Matrix\n",
    "\n",
    "TN1,FP1,FN1,TP1 = confusion_matrix(y_test,prediksi1)[0,0],confusion_matrix(y_test,prediksi1)[0,1],confusion_matrix(y_test,prediksi1)[1,0],confusion_matrix(y_test,prediksi1)[1,1]\n",
    "TN2,FP2,FN2,TP2 = confusion_matrix(y_test,prediksi2)[0,0],confusion_matrix(y_test,prediksi2)[0,1],confusion_matrix(y_test,prediksi2)[1,0],confusion_matrix(y_test,prediksi2)[1,1]\n",
    "TN3,FP3,FN3,TP3 = confusion_matrix(y_test,prediksi3)[0,0],confusion_matrix(y_test,prediksi3)[0,1],confusion_matrix(y_test,prediksi3)[1,0],confusion_matrix(y_test,prediksi3)[1,1]\n",
    "TN4,FP4,FN4,TP4 = confusion_matrix(y_test,prediksi4)[0,0],confusion_matrix(y_test,prediksi4)[0,1],confusion_matrix(y_test,prediksi4)[1,0],confusion_matrix(y_test,prediksi4)[1,1]\n",
    "TN5,FP5,FN5,TP5 = confusion_matrix(y_test,prediksi5)[0,0],confusion_matrix(y_test,prediksi5)[0,1],confusion_matrix(y_test,prediksi5)[1,0],confusion_matrix(y_test,prediksi5)[1,1]\n",
    "TN6,FP6,FN6,TP6 = confusion_matrix(y_test,prediksi6)[0,0],confusion_matrix(y_test,prediksi6)[0,1],confusion_matrix(y_test,prediksi6)[1,0],confusion_matrix(y_test,prediksi6)[1,1]\n",
    "TN7,FP7,FN7,TP7 = confusion_matrix(y_test,prediksi7)[0,0],confusion_matrix(y_test,prediksi7)[0,1],confusion_matrix(y_test,prediksi7)[1,0],confusion_matrix(y_test,prediksi7)[1,1]\n",
    "TN8,FP8,FN8,TP8 = confusion_matrix(y_test,prediksi8)[0,0],confusion_matrix(y_test,prediksi8)[0,1],confusion_matrix(y_test,prediksi8)[1,0],confusion_matrix(y_test,prediksi8)[1,1]\n",
    "TN9,FP9,FN9,TP9 = confusion_matrix(y_test,prediksi9)[0,0],confusion_matrix(y_test,prediksi9)[0,1],confusion_matrix(y_test,prediksi9)[1,0],confusion_matrix(y_test,prediksi9)[1,1]\n",
    "TN10,FP10,FN10,TP10 = confusion_matrix(y_test,prediksi10)[0,0],confusion_matrix(y_test,prediksi10)[0,1],confusion_matrix(y_test,prediksi10)[1,0],confusion_matrix(y_test,prediksi10)[1,1]\n",
    "TN11,FP11,FN11,TP11 = confusion_matrix(y_test,prediksi11)[0,0],confusion_matrix(y_test,prediksi11)[0,1],confusion_matrix(y_test,prediksi11)[1,0],confusion_matrix(y_test,prediksi11)[1,1]\n",
    "TN12,FP12,FN12,TP12 = confusion_matrix(y_test,prediksi12)[0,0],confusion_matrix(y_test,prediksi12)[0,1],confusion_matrix(y_test,prediksi12)[1,0],confusion_matrix(y_test,prediksi12)[1,1]\n",
    "TN13,FP13,FN13,TP13 = confusion_matrix(y_test,prediksi13)[0,0],confusion_matrix(y_test,prediksi13)[0,1],confusion_matrix(y_test,prediksi13)[1,0],confusion_matrix(y_test,prediksi13)[1,1]\n",
    "TN14,FP14,FN14,TP14 = confusion_matrix(y_test,prediksi14)[0,0],confusion_matrix(y_test,prediksi14)[0,1],confusion_matrix(y_test,prediksi14)[1,0],confusion_matrix(y_test,prediksi14)[1,1]\n",
    "TN15,FP15,FN15,TP15 = confusion_matrix(y_test,prediksi15)[0,0],confusion_matrix(y_test,prediksi15)[0,1],confusion_matrix(y_test,prediksi15)[1,0],confusion_matrix(y_test,prediksi15)[1,1]\n",
    "TN16,FP16,FN16,TP16 = confusion_matrix(y_test,prediksi16)[0,0],confusion_matrix(y_test,prediksi16)[0,1],confusion_matrix(y_test,prediksi16)[1,0],confusion_matrix(y_test,prediksi16)[1,1]\n",
    "TN17,FP17,FN17,TP17 = confusion_matrix(y_test,prediksi17)[0,0],confusion_matrix(y_test,prediksi17)[0,1],confusion_matrix(y_test,prediksi17)[1,0],confusion_matrix(y_test,prediksi17)[1,1]\n",
    "TN18,FP18,FN18,TP18 = confusion_matrix(y_test,prediksi18)[0,0],confusion_matrix(y_test,prediksi18)[0,1],confusion_matrix(y_test,prediksi18)[1,0],confusion_matrix(y_test,prediksi18)[1,1]\n",
    "TN19,FP19,FN19,TP19 = confusion_matrix(y_test,prediksi19)[0,0],confusion_matrix(y_test,prediksi19)[0,1],confusion_matrix(y_test,prediksi19)[1,0],confusion_matrix(y_test,prediksi19)[1,1]\n",
    "TN20,FP20,FN20,TP20 = confusion_matrix(y_test,prediksi20)[0,0],confusion_matrix(y_test,prediksi20)[0,1],confusion_matrix(y_test,prediksi20)[1,0],confusion_matrix(y_test,prediksi20)[1,1]\n",
    "TN21,FP21,FN21,TP21 = confusion_matrix(y_test,prediksi21)[0,0],confusion_matrix(y_test,prediksi21)[0,1],confusion_matrix(y_test,prediksi21)[1,0],confusion_matrix(y_test,prediksi21)[1,1]\n",
    "TN22,FP22,FN22,TP22 = confusion_matrix(y_test,prediksi22)[0,0],confusion_matrix(y_test,prediksi22)[0,1],confusion_matrix(y_test,prediksi22)[1,0],confusion_matrix(y_test,prediksi22)[1,1]\n",
    "TN23,FP23,FN23,TP23 = confusion_matrix(y_test,prediksi23)[0,0],confusion_matrix(y_test,prediksi23)[0,1],confusion_matrix(y_test,prediksi23)[1,0],confusion_matrix(y_test,prediksi23)[1,1]\n",
    "TN24,FP24,FN24,TP24 = confusion_matrix(y_test,prediksi24)[0,0],confusion_matrix(y_test,prediksi24)[0,1],confusion_matrix(y_test,prediksi24)[1,0],confusion_matrix(y_test,prediksi24)[1,1]\n",
    "TN25,FP25,FN25,TP25 = confusion_matrix(y_test,prediksi25)[0,0],confusion_matrix(y_test,prediksi25)[0,1],confusion_matrix(y_test,prediksi25)[1,0],confusion_matrix(y_test,prediksi25)[1,1]\n",
    "TN26,FP26,FN26,TP26 = confusion_matrix(y_test,prediksi26)[0,0],confusion_matrix(y_test,prediksi26)[0,1],confusion_matrix(y_test,prediksi26)[1,0],confusion_matrix(y_test,prediksi26)[1,1]\n",
    "TN27,FP27,FN27,TP27 = confusion_matrix(y_test,prediksi27)[0,0],confusion_matrix(y_test,prediksi27)[0,1],confusion_matrix(y_test,prediksi27)[1,0],confusion_matrix(y_test,prediksi27)[1,1]\n",
    "TN28,FP28,FN28,TP28 = confusion_matrix(y_test,prediksi28)[0,0],confusion_matrix(y_test,prediksi28)[0,1],confusion_matrix(y_test,prediksi28)[1,0],confusion_matrix(y_test,prediksi28)[1,1]\n",
    "TN29,FP29,FN29,TP29 = confusion_matrix(y_test,prediksi29)[0,0],confusion_matrix(y_test,prediksi29)[0,1],confusion_matrix(y_test,prediksi29)[1,0],confusion_matrix(y_test,prediksi29)[1,1]\n",
    "TN30,FP30,FN30,TP30 = confusion_matrix(y_test,prediksi30)[0,0],confusion_matrix(y_test,prediksi30)[0,1],confusion_matrix(y_test,prediksi30)[1,0],confusion_matrix(y_test,prediksi30)[1,1]\n",
    "TN31,FP31,FN31,TP31 = confusion_matrix(y_test,prediksi31)[0,0],confusion_matrix(y_test,prediksi31)[0,1],confusion_matrix(y_test,prediksi31)[1,0],confusion_matrix(y_test,prediksi31)[1,1]\n",
    "TN32,FP32,FN32,TP32 = confusion_matrix(y_test,prediksi32)[0,0],confusion_matrix(y_test,prediksi32)[0,1],confusion_matrix(y_test,prediksi32)[1,0],confusion_matrix(y_test,prediksi32)[1,1]\n",
    "TN33,FP33,FN33,TP33 = confusion_matrix(y_test,prediksi33)[0,0],confusion_matrix(y_test,prediksi33)[0,1],confusion_matrix(y_test,prediksi33)[1,0],confusion_matrix(y_test,prediksi33)[1,1]\n",
    "TN34,FP34,FN34,TP34 = confusion_matrix(y_test,prediksi34)[0,0],confusion_matrix(y_test,prediksi34)[0,1],confusion_matrix(y_test,prediksi34)[1,0],confusion_matrix(y_test,prediksi34)[1,1]\n",
    "TN35,FP35,FN35,TP35 = confusion_matrix(y_test,prediksi35)[0,0],confusion_matrix(y_test,prediksi35)[0,1],confusion_matrix(y_test,prediksi35)[1,0],confusion_matrix(y_test,prediksi35)[1,1]\n",
    "TN36,FP36,FN36,TP36 = confusion_matrix(y_test,prediksi36)[0,0],confusion_matrix(y_test,prediksi36)[0,1],confusion_matrix(y_test,prediksi36)[1,0],confusion_matrix(y_test,prediksi36)[1,1]\n"
   ]
  },
  {
   "cell_type": "code",
   "execution_count": 102,
   "metadata": {},
   "outputs": [],
   "source": [
    "# Prediksi probability\n",
    "\n",
    "pred1 = proba1[:,1] \n",
    "fpr1, tpr1, threshold1 = roc_curve(y_test, pred1)\n",
    "\n",
    "pred2 = proba2[:,1] \n",
    "fpr2, tpr2, threshold2 = roc_curve(y_test, pred2)\n",
    "\n",
    "pred3 = proba3[:,1] \n",
    "fpr3, tpr3, threshold3 = roc_curve(y_test, pred3)\n",
    "\n",
    "pred4 = proba4[:,1] \n",
    "fpr4, tpr4, threshold4 = roc_curve(y_test, pred4)\n",
    "\n",
    "pred5 = proba5[:,1] \n",
    "fpr5, tpr5, threshold5 = roc_curve(y_test, pred5)\n",
    "\n",
    "pred6 = proba6[:,1] \n",
    "fpr6, tpr6, threshold6 = roc_curve(y_test, pred6)\n",
    "\n",
    "pred7 = proba7[:,1] \n",
    "fpr7, tpr7, threshold7 = roc_curve(y_test, pred7)\n",
    "\n",
    "pred8 = proba8[:,1] \n",
    "fpr8, tpr8, threshold8 = roc_curve(y_test, pred8)\n",
    "\n",
    "pred9 = proba9[:,1] \n",
    "fpr9, tpr9, threshold9 = roc_curve(y_test, pred9)\n",
    "\n",
    "pred10 = proba10[:,1] \n",
    "fpr10, tpr10, threshold10 = roc_curve(y_test, pred10)\n",
    "\n",
    "pred11 = proba11[:,1] \n",
    "fpr11, tpr11, threshold11 = roc_curve(y_test, pred11)\n",
    "\n",
    "pred12 = proba12[:,1] \n",
    "fpr12, tpr12, threshold12 = roc_curve(y_test, pred12)\n",
    "\n",
    "pred13 = proba13[:,1] \n",
    "fpr13, tpr13, threshold13 = roc_curve(y_test, pred13)\n",
    "\n",
    "pred14 = proba14[:,1] \n",
    "fpr14, tpr14, threshold14 = roc_curve(y_test, pred14)\n",
    "\n",
    "pred15 = proba15[:,1] \n",
    "fpr15, tpr15, threshold15 = roc_curve(y_test, pred15)\n",
    "\n",
    "pred16 = proba16[:,1] \n",
    "fpr16, tpr16, threshold16 = roc_curve(y_test, pred16)\n",
    "\n",
    "pred17 = proba17[:,1] \n",
    "fpr17, tpr17, threshold17 = roc_curve(y_test, pred17)\n",
    "\n",
    "pred18 = proba18[:,1] \n",
    "fpr18, tpr18, threshold18 = roc_curve(y_test, pred18)\n",
    "\n",
    "pred19 = proba19[:,1] \n",
    "fpr19, tpr19, threshold19 = roc_curve(y_test, pred19)\n",
    "\n",
    "pred20 = proba20[:,1] \n",
    "fpr20, tpr20, threshold20 = roc_curve(y_test, pred20)\n",
    "\n",
    "pred21 = proba21[:,1] \n",
    "fpr21, tpr21, threshold21 = roc_curve(y_test, pred21)\n",
    "\n",
    "pred22 = proba22[:,1] \n",
    "fpr22, tpr22, threshold22 = roc_curve(y_test, pred22)\n",
    "\n",
    "pred23 = proba23[:,1] \n",
    "fpr23, tpr23, threshold23 = roc_curve(y_test, pred23)\n",
    "\n",
    "pred24 = proba24[:,1] \n",
    "fpr24, tpr24, threshold24 = roc_curve(y_test, pred24)\n",
    "\n",
    "pred25 = proba25[:,1] \n",
    "fpr25, tpr25, threshold25 = roc_curve(y_test, pred25)\n",
    "\n",
    "pred26 = proba26[:,1] \n",
    "fpr26, tpr26, threshold26 = roc_curve(y_test, pred26)\n",
    "\n",
    "pred27 = proba27[:,1] \n",
    "fpr27, tpr27, threshold27 = roc_curve(y_test, pred27)\n",
    "\n",
    "pred28 = proba28[:,1] \n",
    "fpr28, tpr28, threshold28 = roc_curve(y_test, pred28)\n",
    "\n",
    "pred29 = proba29[:,1] \n",
    "fpr29, tpr29, threshold29 = roc_curve(y_test, pred29)\n",
    "\n",
    "pred30 = proba30[:,1] \n",
    "fpr30, tpr30, threshold30 = roc_curve(y_test, pred30)\n",
    "\n",
    "pred31 = proba31[:,1] \n",
    "fpr31, tpr31, threshold31 = roc_curve(y_test, pred31)\n",
    "\n",
    "pred32 = proba32[:,1] \n",
    "fpr32, tpr32, threshold32 = roc_curve(y_test, pred32)\n",
    "\n",
    "pred33 = proba33[:,1] \n",
    "fpr33, tpr33, threshold33 = roc_curve(y_test, pred33)\n",
    "\n",
    "pred34 = proba34[:,1] \n",
    "fpr34, tpr34, threshold34 = roc_curve(y_test, pred34)\n",
    "\n",
    "pred35 = proba35[:,1] \n",
    "fpr35, tpr35, threshold35 = roc_curve(y_test, pred35)\n",
    "\n",
    "pred36 = proba36[:,1] \n",
    "fpr36, tpr36, threshold36 = roc_curve(y_test, pred36)"
   ]
  },
  {
   "cell_type": "code",
   "execution_count": 103,
   "metadata": {},
   "outputs": [],
   "source": [
    "sc1 = round(auc(fpr1,tpr1),3)\n",
    "sc2 = round(auc(fpr2,tpr2),3)\n",
    "sc3 = round(auc(fpr3,tpr3),3)\n",
    "sc4 = round(auc(fpr4,tpr4),3)\n",
    "sc5 = round(auc(fpr5,tpr5),3)\n",
    "sc6 = round(auc(fpr6,tpr6),3)\n",
    "sc7 = round(auc(fpr7,tpr7),3)\n",
    "sc8 = round(auc(fpr8,tpr8),3)\n",
    "sc9 = round(auc(fpr9,tpr9),3)\n",
    "sc10 = round(auc(fpr10,tpr10),3)\n",
    "sc11 = round(auc(fpr11,tpr11),3)\n",
    "sc12 = round(auc(fpr12,tpr12),3)\n",
    "sc13 = round(auc(fpr13,tpr13),3)\n",
    "sc14 = round(auc(fpr14,tpr14),3)\n",
    "sc15 = round(auc(fpr15,tpr15),3)\n",
    "sc16 = round(auc(fpr16,tpr16),3)\n",
    "sc17 = round(auc(fpr17,tpr17),3)\n",
    "sc18 = round(auc(fpr18,tpr18),3)\n",
    "sc19 = round(auc(fpr19,tpr19),3)\n",
    "sc20 = round(auc(fpr20,tpr20),3)\n",
    "sc21 = round(auc(fpr21,tpr21),3)\n",
    "sc22 = round(auc(fpr22,tpr22),3)\n",
    "sc23 = round(auc(fpr23,tpr23),3)\n",
    "sc24 = round(auc(fpr24,tpr24),3)\n",
    "sc25 = round(auc(fpr25,tpr25),3)\n",
    "sc26 = round(auc(fpr26,tpr26),3)\n",
    "sc27 = round(auc(fpr27,tpr27),3)\n",
    "sc28 = round(auc(fpr28,tpr28),3)\n",
    "sc29 = round(auc(fpr29,tpr29),3)\n",
    "sc30 = round(auc(fpr30,tpr30),3)\n",
    "sc31 = round(auc(fpr31,tpr31),3)\n",
    "sc32 = round(auc(fpr32,tpr32),3)\n",
    "sc33 = round(auc(fpr33,tpr33),3)\n",
    "sc34 = round(auc(fpr34,tpr34),3)\n",
    "sc35 = round(auc(fpr35,tpr35),3)\n",
    "sc36 = round(auc(fpr36,tpr36),3)"
   ]
  },
  {
   "cell_type": "code",
   "execution_count": 104,
   "metadata": {},
   "outputs": [
    {
     "data": {
      "image/png": "[encoded data removed]",
      "text/plain": [
       "<Figure size 1296x720 with 1 Axes>"
      ]
     },
     "metadata": {
      "needs_background": "light"
     },
     "output_type": "display_data"
    }
   ],
   "source": [
    "plt.figure(figsize=(18,10))\n",
    "plt.title('Receiver Operator Characteristic')\n",
    "plt.plot(fpr1, tpr1, 'b:', label=f'AUC LogRes Robust - SMOTE={sc1} ')\n",
    "plt.plot(fpr2, tpr2, 'g:', label=f'AUC KNC Robust - SMOTE={sc2} ')\n",
    "plt.plot(fpr3, tpr3, 'y:', label=f'AUC RFC Robust - SMOTE={sc3} ')\n",
    "plt.plot(fpr4, tpr4, 'r:', label=f'AUC XGBC Robust - SMOTE={sc4} ')\n",
    "plt.plot(fpr5, tpr5, 'b:', label=f'AUC LogRes Standard - SMOTE={sc5} ')\n",
    "plt.plot(fpr6, tpr6, 'g:', label=f'AUC KNC Standard - SMOTE={sc6} ')\n",
    "plt.plot(fpr7, tpr7, 'y:', label=f'AUC RFC Standard - SMOTE={sc7} ')\n",
    "plt.plot(fpr8, tpr8, 'r:', label=f'AUC XGBC Standard - SMOTE={sc8} ')\n",
    "plt.plot(fpr9, tpr9, 'b:', label=f'AUC LogRes MinMax - SMOTE={sc9} ')\n",
    "plt.plot(fpr10, tpr10, 'g:', label=f'AUC KNC MinMax - SMOTE={sc10} ')\n",
    "plt.plot(fpr11, tpr11, 'y:', label=f'AUC RFC MinMax - SMOTE={sc11} ')\n",
    "plt.plot(fpr12, tpr12, 'r:', label=f'AUC XGBC MinMax - SMOTE={sc12} ')\n",
    "plt.plot(fpr13, tpr13, 'b--', label=f'AUC LogRes Robust - Oversampling={sc13} ')\n",
    "plt.plot(fpr14, tpr14, 'g--', label=f'AUC KNC Robust - Oversampling={sc14} ')\n",
    "plt.plot(fpr15, tpr15, 'y--', label=f'AUC RFC Robust - Oversampling={sc15} ')\n",
    "plt.plot(fpr16, tpr16, 'r--', label=f'AUC XGBC Robust - Oversampling={sc16} ')\n",
    "plt.plot(fpr17, tpr17, 'b--', label=f'AUC LogRes Standard - Oversampling={sc17} ')\n",
    "plt.plot(fpr18, tpr18, 'g--', label=f'AUC KNC Standard - Oversampling={sc18} ')\n",
    "plt.plot(fpr19, tpr19, 'y--', label=f'AUC RFC Standard - Oversampling={sc19} ')\n",
    "plt.plot(fpr20, tpr20, 'r--', label=f'AUC XGBC Standard - Oversampling={sc20} ')\n",
    "plt.plot(fpr21, tpr21, 'b--', label=f'AUC LogRes MinMax - Oversampling={sc21} ')\n",
    "plt.plot(fpr22, tpr22, 'g--', label=f'AUC KNC MinMax - Oversampling={sc22} ')\n",
    "plt.plot(fpr23, tpr23, 'y--', label=f'AUC RFC MinMax - Oversampling={sc23} ')\n",
    "plt.plot(fpr24, tpr24, 'r--', label=f'AUC XGBC MinMax - Oversampling={sc24} ')\n",
    "plt.plot(fpr25, tpr25, 'b', label=f'AUC LogRes Robust - Undersampling={sc25} ')\n",
    "plt.plot(fpr26, tpr26, 'g', label=f'AUC KNC Robust - Undersampling={sc26} ')\n",
    "plt.plot(fpr27, tpr27, 'y', label=f'AUC RFC Robust - Undersampling={sc27} ')\n",
    "plt.plot(fpr28, tpr28, 'r', label=f'AUC XGBC Robust - Undersampling={sc28} ')\n",
    "plt.plot(fpr29, tpr29, 'b', label=f'AUC LogRes Standard - Undersampling={sc29} ')\n",
    "plt.plot(fpr30, tpr30, 'g', label=f'AUC KNC Standard - Undersampling={sc30} ')\n",
    "plt.plot(fpr31, tpr31, 'y', label=f'AUC RFC Standard - Undersampling={sc31} ')\n",
    "plt.plot(fpr32, tpr32, 'r', label=f'AUC XGBC Standard - Undersampling={sc32} ')\n",
    "plt.plot(fpr33, tpr33, 'b', label=f'AUC LogRes MinMax - Undersampling={sc33} ')\n",
    "plt.plot(fpr34, tpr34, 'g', label=f'AUC KNC MinMax - Undersampling={sc34} ')\n",
    "plt.plot(fpr35, tpr35, 'y', label=f'AUC RFC MinMax - Undersampling={sc35} ')\n",
    "plt.plot(fpr36, tpr36, 'r', label=f'AUC XGBC MinMax - Undersampling={sc36} ')\n",
    "\n",
    "\n",
    "plt.plot([0,1],[0,1],'r-.')\n",
    "\n",
    "plt.ylim([0,1]) # dizoom grafiknya dari 0.1\n",
    "plt.xlim([0,1])\n",
    "plt.legend(bbox_to_anchor=(0.3,0.,1,1),loc=5)\n",
    "plt.xlabel('False Positive Rates')\n",
    "plt.ylabel('True Positive Rates')\n",
    "plt.show()"
   ]
  },
  {
   "cell_type": "code",
   "execution_count": 105,
   "metadata": {},
   "outputs": [],
   "source": [
    "list_of_sc=[sc1,sc2,sc3,sc4,sc5,sc6,sc7,sc8,sc9,sc10,sc11,sc12,sc13,sc14,sc15,sc16,sc17,sc18,sc19,sc20,sc21,sc22,sc23,sc24,sc25,sc26,sc27,sc28,sc29,sc30,sc31,sc32,sc33,sc34,sc35,sc36]"
   ]
  },
  {
   "cell_type": "code",
   "execution_count": 106,
   "metadata": {},
   "outputs": [],
   "source": [
    "list_of_algo=[\n",
    "    'AUC LogRes Robust - SMOTE','AUC KNC Robust - SMOTE','AUC RFC Robust - SMOTE','AUC XGBC Robust - SMOTE','AUC LogRes Standard - SMOTE','AUC KNC Standard - SMOTE','AUC RFC Standard - SMOTE','AUC XGBC Standard - SMOTE','AUC LogRes MinMax - SMOTE','AUC KNC MinMax - SMOTE','AUC RFC MinMax - SMOTE','AUC XGBC MinMax - SMOTE',\n",
    "    'AUC LogRes Robust - Oversampling','AUC KNC Robust - Oversampling','AUC RFC Robust - Oversampling','AUC XGBC Robust - Oversampling','AUC LogRes Standard - Oversampling','AUC KNC Standard - Oversampling','AUC RFC Standard - Oversampling','AUC XGBC Standard - Oversampling','AUC LogRes MinMax - Oversampling','AUC KNC MinMax - Oversampling','AUC RFC MinMax - Oversampling','AUC XGBC MinMax - Oversampling',\n",
    "    'AUC LogRes Robust - Undersampling','AUC KNC Robust - Undersampling','AUC RFC Robust - Undersampling','AUC XGBC Robust - Undersampling','AUC LogRes Standard - Undersampling','AUC KNC Standard - Undersampling','AUC RFC Standard - Undersampling','AUC XGBC Standard - Undersampling','AUC LogRes MinMax - Undersampling','AUC KNC MinMax - Undersampling','AUC RFC MinMax - Undersampling','AUC XGBC MinMax - Undersampling',\n",
    "]"
   ]
  },
  {
   "cell_type": "code",
   "execution_count": 107,
   "metadata": {},
   "outputs": [],
   "source": [
    "list_of_accuracy=[akurasi_train1,akurasi_train2,akurasi_train3,akurasi_train4,akurasi_train5,akurasi_train6,akurasi_train7,akurasi_train8,akurasi_train9,akurasi_train10,akurasi_train11,akurasi_train12,akurasi_train13,akurasi_train14,akurasi_train15,akurasi_train16,akurasi_train17,akurasi_train18,akurasi_train19,akurasi_train20,akurasi_train21,akurasi_train22,akurasi_train23,akurasi_train24,akurasi_train25,akurasi_train26,akurasi_train27,akurasi_train28,akurasi_train29,akurasi_train30,akurasi_train31,akurasi_train32,akurasi_train33,akurasi_train34,akurasi_train35,akurasi_train36]"
   ]
  },
  {
   "cell_type": "code",
   "execution_count": 108,
   "metadata": {},
   "outputs": [],
   "source": [
    "list_of_TP=[TP1,TP2,TP3,TP4,TP5,TP6,TP7,TP8,TP9,TP10,TP11,TP12,TP13,TP14,TP15,TP16,TP17,TP18,TP19,TP20,TP21,TP22,TP23,TP24,TP25,TP26,TP27,TP28,TP29,TP30,TP31,TP32,TP33,TP34,TP35,TP36]\n",
    "list_of_FP=[FP1,FP2,FP3,FP4,FP5,FP6,FP7,FP8,FP9,FP10,FP11,FP12,FP13,FP14,FP15,FP16,FP17,FP18,FP19,FP20,FP21,FP22,FP23,FP24,FP25,FP26,FP27,FP28,FP29,FP30,FP31,FP32,FP33,FP34,FP35,FP36]\n",
    "list_of_TN=[TN1,TN2,TN3,TN4,TN5,TN6,TN7,TN8,TN9,TN10,TN11,TN12,TN13,TN14,TN15,TN16,TN17,TN18,TN19,TN20,TN21,TN22,TN23,TN24,TN25,TN26,TN27,TN28,TN29,TN30,TN31,TN32,TN33,TN34,TN35,TN36]\n",
    "list_of_FN=[FN1,FN2,FN3,FN4,FN5,FN6,FN7,FN8,FN9,FN10,FN11,FN12,FN13,FN14,FN15,FN16,FN17,FN18,FN19,FN20,FN21,FN22,FN23,FN24,FN25,FN26,FN27,FN28,FN29,FN30,FN31,FN32,FN33,FN34,FN35,FN36]"
   ]
  },
  {
   "cell_type": "code",
   "execution_count": 109,
   "metadata": {},
   "outputs": [],
   "source": [
    "list_of_accuracy = [\n",
    "    round(accuracy_score(y_test,prediksi1),2),round(accuracy_score(y_test,prediksi2),2),round(accuracy_score(y_test,prediksi3),2),round(accuracy_score(y_test,prediksi4),2),round(accuracy_score(y_test,prediksi5),2),round(accuracy_score(y_test,prediksi6),2),round(accuracy_score(y_test,prediksi7),2),round(accuracy_score(y_test,prediksi8),2),round(accuracy_score(y_test,prediksi9),2),round(accuracy_score(y_test,prediksi10),2),round(accuracy_score(y_test,prediksi11),2),\n",
    "    round(accuracy_score(y_test,prediksi12),2),round(accuracy_score(y_test,prediksi13),2),round(accuracy_score(y_test,prediksi14),2),round(accuracy_score(y_test,prediksi15),2),round(accuracy_score(y_test,prediksi16),2),round(accuracy_score(y_test,prediksi17),2),round(accuracy_score(y_test,prediksi18),2),round(accuracy_score(y_test,prediksi19),2),round(accuracy_score(y_test,prediksi20),2),round(accuracy_score(y_test,prediksi21),2),round(accuracy_score(y_test,prediksi22),2),\n",
    "    round(accuracy_score(y_test,prediksi23),2),round(accuracy_score(y_test,prediksi24),2),round(accuracy_score(y_test,prediksi25),2),round(accuracy_score(y_test,prediksi26),2),round(accuracy_score(y_test,prediksi27),2),round(accuracy_score(y_test,prediksi28),2),round(accuracy_score(y_test,prediksi29),2),round(accuracy_score(y_test,prediksi30),2),round(accuracy_score(y_test,prediksi31),2),round(accuracy_score(y_test,prediksi32),2),round(accuracy_score(y_test,prediksi33),2),\n",
    "    round(accuracy_score(y_test,prediksi34),2),round(accuracy_score(y_test,prediksi35),2),round(accuracy_score(y_test,prediksi36),2)\n",
    "]\n",
    "\n",
    "list_of_precision = [\n",
    "    round(precision_score(y_test,prediksi1),2),round(precision_score(y_test,prediksi2),2),round(precision_score(y_test,prediksi3),2),round(precision_score(y_test,prediksi4),2),round(precision_score(y_test,prediksi5),2),round(precision_score(y_test,prediksi6),2),round(precision_score(y_test,prediksi7),2),round(precision_score(y_test,prediksi8),2),round(precision_score(y_test,prediksi9),2),round(precision_score(y_test,prediksi10),2),round(precision_score(y_test,prediksi11),2),\n",
    "    round(precision_score(y_test,prediksi12),2),round(precision_score(y_test,prediksi13),2),round(precision_score(y_test,prediksi14),2),round(precision_score(y_test,prediksi15),2),round(precision_score(y_test,prediksi16),2),round(precision_score(y_test,prediksi17),2),round(precision_score(y_test,prediksi18),2),round(precision_score(y_test,prediksi19),2),round(precision_score(y_test,prediksi20),2),round(precision_score(y_test,prediksi21),2),round(precision_score(y_test,prediksi22),2),\n",
    "    round(precision_score(y_test,prediksi23),2),round(precision_score(y_test,prediksi24),2),round(precision_score(y_test,prediksi25),2),round(precision_score(y_test,prediksi26),2),round(precision_score(y_test,prediksi27),2),round(precision_score(y_test,prediksi28),2),round(precision_score(y_test,prediksi29),2),round(precision_score(y_test,prediksi30),2),round(precision_score(y_test,prediksi31),2),round(precision_score(y_test,prediksi32),2),round(precision_score(y_test,prediksi33),2),\n",
    "    round(precision_score(y_test,prediksi34),2),round(precision_score(y_test,prediksi35),2),round(precision_score(y_test,prediksi36),2)\n",
    "]\n",
    "\n",
    "\n",
    "list_of_recall = [\n",
    "    round(recall_score(y_test,prediksi1),2),round(recall_score(y_test,prediksi2),2),round(recall_score(y_test,prediksi3),2),round(recall_score(y_test,prediksi4),2),round(recall_score(y_test,prediksi5),2),round(recall_score(y_test,prediksi6),2),round(recall_score(y_test,prediksi7),2),round(recall_score(y_test,prediksi8),2),round(recall_score(y_test,prediksi9),2),round(recall_score(y_test,prediksi10),2),round(recall_score(y_test,prediksi11),2),\n",
    "    round(recall_score(y_test,prediksi12),2),round(recall_score(y_test,prediksi13),2),round(recall_score(y_test,prediksi14),2),round(recall_score(y_test,prediksi15),2),round(recall_score(y_test,prediksi16),2),round(recall_score(y_test,prediksi17),2),round(recall_score(y_test,prediksi18),2),round(recall_score(y_test,prediksi19),2),round(recall_score(y_test,prediksi20),2),round(recall_score(y_test,prediksi21),2),round(recall_score(y_test,prediksi22),2),\n",
    "    round(recall_score(y_test,prediksi23),2),round(recall_score(y_test,prediksi24),2),round(recall_score(y_test,prediksi25),2),round(recall_score(y_test,prediksi26),2),round(recall_score(y_test,prediksi27),2),round(recall_score(y_test,prediksi28),2),round(recall_score(y_test,prediksi29),2),round(recall_score(y_test,prediksi30),2),round(recall_score(y_test,prediksi31),2),round(recall_score(y_test,prediksi32),2),round(recall_score(y_test,prediksi33),2),\n",
    "    round(recall_score(y_test,prediksi34),2),round(recall_score(y_test,prediksi35),2),round(recall_score(y_test,prediksi36),2)\n",
    "]\n",
    "\n",
    "# list_of_f1_score = [\n",
    "#     round(f1_score(y_test,prediksi1),2),round(recall_score(f1_score,prediksi2),2),round(recall_score(y_test,prediksi3),2),round(recall_score(y_test,prediksi4),2),round(recall_score(y_test,prediksi5),2),round(recall_score(y_test,prediksi6),2),round(recall_score(y_test,prediksi7),2),round(recall_score(y_test,prediksi8),2),round(recall_score(y_test,prediksi9),2),round(recall_score(y_test,prediksi10),2),round(recall_score(y_test,prediksi11),2),\n",
    "#     round(f1_score_score(y_test,prediksi12),2),round(f1_score_score(y_test,prediksi13),2),round(recall_score(y_test,prediksi14),2),round(recall_score(y_test,prediksi15),2),round(recall_score(y_test,prediksi16),2),round(recall_score(y_test,prediksi17),2),round(recall_score(y_test,prediksi18),2),round(recall_score(y_test,prediksi19),2),round(recall_score(y_test,prediksi20),2),round(recall_score(y_test,prediksi21),2),round(recall_score(y_test,prediksi22),2),\n",
    "#     round(f1_score_score(y_test,prediksi23),2),round(recall_score(y_test,prediksi24),2),round(recall_score(y_test,prediksi25),2),round(recall_score(y_test,prediksi26),2),round(recall_score(y_test,prediksi27),2),round(recall_score(y_test,prediksi28),2),round(recall_score(y_test,prediksi29),2),round(recall_score(y_test,prediksi30),2),round(recall_score(y_test,prediksi31),2),round(recall_score(y_test,prediksi32),2),round(recall_score(y_test,prediksi33),2),\n",
    "#     round(f1_score_score(y_test,prediksi34),2),round(recall_score(y_test,prediksi35),2),round(recall_score(y_test,prediksi36),2)\n",
    "# ]"
   ]
  },
  {
   "cell_type": "code",
   "execution_count": 110,
   "metadata": {},
   "outputs": [],
   "source": [
    "zipped = list(zip(list_of_algo,list_of_sc,list_of_TP,list_of_FP,list_of_TN,list_of_FN,list_of_accuracy,list_of_precision,list_of_recall))\n",
    "df_AUC = pd.DataFrame(zipped,columns=['Nama Algoritma & Metoda Imbalance Handling','Nilai AUC','True Positive','False Positive','True Negative','False Negative','Accuracy','Precision','Recall'])"
   ]
  },
  {
   "cell_type": "code",
   "execution_count": 111,
   "metadata": {},
   "outputs": [
    {
     "data": {
      "text/html": [
       "<div>\n",
       "<style scoped>\n",
       "    .dataframe tbody tr th:only-of-type {\n",
       "        vertical-align: middle;\n",
       "    }\n",
       "\n",
       "    .dataframe tbody tr th {\n",
       "        vertical-align: top;\n",
       "    }\n",
       "\n",
       "    .dataframe thead th {\n",
       "        text-align: right;\n",
       "    }\n",
       "</style>\n",
       "<table border=\"1\" class=\"dataframe\">\n",
       "  <thead>\n",
       "    <tr style=\"text-align: right;\">\n",
       "      <th></th>\n",
       "      <th>Nama Algoritma &amp; Metoda Imbalance Handling</th>\n",
       "      <th>Nilai AUC</th>\n",
       "      <th>True Positive</th>\n",
       "      <th>False Positive</th>\n",
       "      <th>True Negative</th>\n",
       "      <th>False Negative</th>\n",
       "      <th>Accuracy</th>\n",
       "      <th>Precision</th>\n",
       "      <th>Recall</th>\n",
       "    </tr>\n",
       "  </thead>\n",
       "  <tbody>\n",
       "    <tr>\n",
       "      <td>3</td>\n",
       "      <td>AUC XGBC Robust - SMOTE</td>\n",
       "      <td>0.870</td>\n",
       "      <td>1882</td>\n",
       "      <td>7329</td>\n",
       "      <td>27502</td>\n",
       "      <td>529</td>\n",
       "      <td>0.79</td>\n",
       "      <td>0.20</td>\n",
       "      <td>0.78</td>\n",
       "    </tr>\n",
       "    <tr>\n",
       "      <td>11</td>\n",
       "      <td>AUC XGBC MinMax - SMOTE</td>\n",
       "      <td>0.870</td>\n",
       "      <td>1882</td>\n",
       "      <td>7329</td>\n",
       "      <td>27502</td>\n",
       "      <td>529</td>\n",
       "      <td>0.79</td>\n",
       "      <td>0.20</td>\n",
       "      <td>0.78</td>\n",
       "    </tr>\n",
       "    <tr>\n",
       "      <td>15</td>\n",
       "      <td>AUC XGBC Robust - Oversampling</td>\n",
       "      <td>0.870</td>\n",
       "      <td>1882</td>\n",
       "      <td>7329</td>\n",
       "      <td>27502</td>\n",
       "      <td>529</td>\n",
       "      <td>0.79</td>\n",
       "      <td>0.20</td>\n",
       "      <td>0.78</td>\n",
       "    </tr>\n",
       "    <tr>\n",
       "      <td>23</td>\n",
       "      <td>AUC XGBC MinMax - Oversampling</td>\n",
       "      <td>0.870</td>\n",
       "      <td>1882</td>\n",
       "      <td>7329</td>\n",
       "      <td>27502</td>\n",
       "      <td>529</td>\n",
       "      <td>0.79</td>\n",
       "      <td>0.20</td>\n",
       "      <td>0.78</td>\n",
       "    </tr>\n",
       "    <tr>\n",
       "      <td>27</td>\n",
       "      <td>AUC XGBC Robust - Undersampling</td>\n",
       "      <td>0.870</td>\n",
       "      <td>1882</td>\n",
       "      <td>7329</td>\n",
       "      <td>27502</td>\n",
       "      <td>529</td>\n",
       "      <td>0.79</td>\n",
       "      <td>0.20</td>\n",
       "      <td>0.78</td>\n",
       "    </tr>\n",
       "    <tr>\n",
       "      <td>35</td>\n",
       "      <td>AUC XGBC MinMax - Undersampling</td>\n",
       "      <td>0.870</td>\n",
       "      <td>1882</td>\n",
       "      <td>7329</td>\n",
       "      <td>27502</td>\n",
       "      <td>529</td>\n",
       "      <td>0.79</td>\n",
       "      <td>0.20</td>\n",
       "      <td>0.78</td>\n",
       "    </tr>\n",
       "    <tr>\n",
       "      <td>7</td>\n",
       "      <td>AUC XGBC Standard - SMOTE</td>\n",
       "      <td>0.870</td>\n",
       "      <td>1882</td>\n",
       "      <td>7328</td>\n",
       "      <td>27503</td>\n",
       "      <td>529</td>\n",
       "      <td>0.79</td>\n",
       "      <td>0.20</td>\n",
       "      <td>0.78</td>\n",
       "    </tr>\n",
       "    <tr>\n",
       "      <td>19</td>\n",
       "      <td>AUC XGBC Standard - Oversampling</td>\n",
       "      <td>0.870</td>\n",
       "      <td>1882</td>\n",
       "      <td>7328</td>\n",
       "      <td>27503</td>\n",
       "      <td>529</td>\n",
       "      <td>0.79</td>\n",
       "      <td>0.20</td>\n",
       "      <td>0.78</td>\n",
       "    </tr>\n",
       "    <tr>\n",
       "      <td>31</td>\n",
       "      <td>AUC XGBC Standard - Undersampling</td>\n",
       "      <td>0.870</td>\n",
       "      <td>1882</td>\n",
       "      <td>7328</td>\n",
       "      <td>27503</td>\n",
       "      <td>529</td>\n",
       "      <td>0.79</td>\n",
       "      <td>0.20</td>\n",
       "      <td>0.78</td>\n",
       "    </tr>\n",
       "    <tr>\n",
       "      <td>0</td>\n",
       "      <td>AUC LogRes Robust - SMOTE</td>\n",
       "      <td>0.863</td>\n",
       "      <td>1809</td>\n",
       "      <td>6893</td>\n",
       "      <td>27938</td>\n",
       "      <td>602</td>\n",
       "      <td>0.80</td>\n",
       "      <td>0.21</td>\n",
       "      <td>0.75</td>\n",
       "    </tr>\n",
       "    <tr>\n",
       "      <td>12</td>\n",
       "      <td>AUC LogRes Robust - Oversampling</td>\n",
       "      <td>0.863</td>\n",
       "      <td>1809</td>\n",
       "      <td>6893</td>\n",
       "      <td>27938</td>\n",
       "      <td>602</td>\n",
       "      <td>0.80</td>\n",
       "      <td>0.21</td>\n",
       "      <td>0.75</td>\n",
       "    </tr>\n",
       "    <tr>\n",
       "      <td>24</td>\n",
       "      <td>AUC LogRes Robust - Undersampling</td>\n",
       "      <td>0.863</td>\n",
       "      <td>1809</td>\n",
       "      <td>6893</td>\n",
       "      <td>27938</td>\n",
       "      <td>602</td>\n",
       "      <td>0.80</td>\n",
       "      <td>0.21</td>\n",
       "      <td>0.75</td>\n",
       "    </tr>\n",
       "    <tr>\n",
       "      <td>4</td>\n",
       "      <td>AUC LogRes Standard - SMOTE</td>\n",
       "      <td>0.863</td>\n",
       "      <td>1809</td>\n",
       "      <td>6876</td>\n",
       "      <td>27955</td>\n",
       "      <td>602</td>\n",
       "      <td>0.80</td>\n",
       "      <td>0.21</td>\n",
       "      <td>0.75</td>\n",
       "    </tr>\n",
       "    <tr>\n",
       "      <td>16</td>\n",
       "      <td>AUC LogRes Standard - Oversampling</td>\n",
       "      <td>0.863</td>\n",
       "      <td>1809</td>\n",
       "      <td>6876</td>\n",
       "      <td>27955</td>\n",
       "      <td>602</td>\n",
       "      <td>0.80</td>\n",
       "      <td>0.21</td>\n",
       "      <td>0.75</td>\n",
       "    </tr>\n",
       "    <tr>\n",
       "      <td>28</td>\n",
       "      <td>AUC LogRes Standard - Undersampling</td>\n",
       "      <td>0.863</td>\n",
       "      <td>1809</td>\n",
       "      <td>6876</td>\n",
       "      <td>27955</td>\n",
       "      <td>602</td>\n",
       "      <td>0.80</td>\n",
       "      <td>0.21</td>\n",
       "      <td>0.75</td>\n",
       "    </tr>\n",
       "    <tr>\n",
       "      <td>8</td>\n",
       "      <td>AUC LogRes MinMax - SMOTE</td>\n",
       "      <td>0.858</td>\n",
       "      <td>1825</td>\n",
       "      <td>7243</td>\n",
       "      <td>27588</td>\n",
       "      <td>586</td>\n",
       "      <td>0.79</td>\n",
       "      <td>0.20</td>\n",
       "      <td>0.76</td>\n",
       "    </tr>\n",
       "    <tr>\n",
       "      <td>20</td>\n",
       "      <td>AUC LogRes MinMax - Oversampling</td>\n",
       "      <td>0.858</td>\n",
       "      <td>1825</td>\n",
       "      <td>7243</td>\n",
       "      <td>27588</td>\n",
       "      <td>586</td>\n",
       "      <td>0.79</td>\n",
       "      <td>0.20</td>\n",
       "      <td>0.76</td>\n",
       "    </tr>\n",
       "    <tr>\n",
       "      <td>32</td>\n",
       "      <td>AUC LogRes MinMax - Undersampling</td>\n",
       "      <td>0.858</td>\n",
       "      <td>1825</td>\n",
       "      <td>7243</td>\n",
       "      <td>27588</td>\n",
       "      <td>586</td>\n",
       "      <td>0.79</td>\n",
       "      <td>0.20</td>\n",
       "      <td>0.76</td>\n",
       "    </tr>\n",
       "    <tr>\n",
       "      <td>6</td>\n",
       "      <td>AUC RFC Standard - SMOTE</td>\n",
       "      <td>0.836</td>\n",
       "      <td>1749</td>\n",
       "      <td>6874</td>\n",
       "      <td>27957</td>\n",
       "      <td>662</td>\n",
       "      <td>0.80</td>\n",
       "      <td>0.20</td>\n",
       "      <td>0.73</td>\n",
       "    </tr>\n",
       "    <tr>\n",
       "      <td>18</td>\n",
       "      <td>AUC RFC Standard - Oversampling</td>\n",
       "      <td>0.836</td>\n",
       "      <td>1749</td>\n",
       "      <td>6874</td>\n",
       "      <td>27957</td>\n",
       "      <td>662</td>\n",
       "      <td>0.80</td>\n",
       "      <td>0.20</td>\n",
       "      <td>0.73</td>\n",
       "    </tr>\n",
       "    <tr>\n",
       "      <td>30</td>\n",
       "      <td>AUC RFC Standard - Undersampling</td>\n",
       "      <td>0.836</td>\n",
       "      <td>1749</td>\n",
       "      <td>6874</td>\n",
       "      <td>27957</td>\n",
       "      <td>662</td>\n",
       "      <td>0.80</td>\n",
       "      <td>0.20</td>\n",
       "      <td>0.73</td>\n",
       "    </tr>\n",
       "    <tr>\n",
       "      <td>2</td>\n",
       "      <td>AUC RFC Robust - SMOTE</td>\n",
       "      <td>0.836</td>\n",
       "      <td>1756</td>\n",
       "      <td>6775</td>\n",
       "      <td>28056</td>\n",
       "      <td>655</td>\n",
       "      <td>0.80</td>\n",
       "      <td>0.21</td>\n",
       "      <td>0.73</td>\n",
       "    </tr>\n",
       "    <tr>\n",
       "      <td>14</td>\n",
       "      <td>AUC RFC Robust - Oversampling</td>\n",
       "      <td>0.836</td>\n",
       "      <td>1756</td>\n",
       "      <td>6775</td>\n",
       "      <td>28056</td>\n",
       "      <td>655</td>\n",
       "      <td>0.80</td>\n",
       "      <td>0.21</td>\n",
       "      <td>0.73</td>\n",
       "    </tr>\n",
       "    <tr>\n",
       "      <td>26</td>\n",
       "      <td>AUC RFC Robust - Undersampling</td>\n",
       "      <td>0.836</td>\n",
       "      <td>1756</td>\n",
       "      <td>6775</td>\n",
       "      <td>28056</td>\n",
       "      <td>655</td>\n",
       "      <td>0.80</td>\n",
       "      <td>0.21</td>\n",
       "      <td>0.73</td>\n",
       "    </tr>\n",
       "    <tr>\n",
       "      <td>10</td>\n",
       "      <td>AUC RFC MinMax - SMOTE</td>\n",
       "      <td>0.835</td>\n",
       "      <td>1747</td>\n",
       "      <td>6884</td>\n",
       "      <td>27947</td>\n",
       "      <td>664</td>\n",
       "      <td>0.80</td>\n",
       "      <td>0.20</td>\n",
       "      <td>0.72</td>\n",
       "    </tr>\n",
       "    <tr>\n",
       "      <td>22</td>\n",
       "      <td>AUC RFC MinMax - Oversampling</td>\n",
       "      <td>0.835</td>\n",
       "      <td>1747</td>\n",
       "      <td>6884</td>\n",
       "      <td>27947</td>\n",
       "      <td>664</td>\n",
       "      <td>0.80</td>\n",
       "      <td>0.20</td>\n",
       "      <td>0.72</td>\n",
       "    </tr>\n",
       "    <tr>\n",
       "      <td>34</td>\n",
       "      <td>AUC RFC MinMax - Undersampling</td>\n",
       "      <td>0.835</td>\n",
       "      <td>1747</td>\n",
       "      <td>6884</td>\n",
       "      <td>27947</td>\n",
       "      <td>664</td>\n",
       "      <td>0.80</td>\n",
       "      <td>0.20</td>\n",
       "      <td>0.72</td>\n",
       "    </tr>\n",
       "    <tr>\n",
       "      <td>5</td>\n",
       "      <td>AUC KNC Standard - SMOTE</td>\n",
       "      <td>0.821</td>\n",
       "      <td>1785</td>\n",
       "      <td>7803</td>\n",
       "      <td>27028</td>\n",
       "      <td>626</td>\n",
       "      <td>0.77</td>\n",
       "      <td>0.19</td>\n",
       "      <td>0.74</td>\n",
       "    </tr>\n",
       "    <tr>\n",
       "      <td>17</td>\n",
       "      <td>AUC KNC Standard - Oversampling</td>\n",
       "      <td>0.821</td>\n",
       "      <td>1785</td>\n",
       "      <td>7803</td>\n",
       "      <td>27028</td>\n",
       "      <td>626</td>\n",
       "      <td>0.77</td>\n",
       "      <td>0.19</td>\n",
       "      <td>0.74</td>\n",
       "    </tr>\n",
       "    <tr>\n",
       "      <td>29</td>\n",
       "      <td>AUC KNC Standard - Undersampling</td>\n",
       "      <td>0.821</td>\n",
       "      <td>1785</td>\n",
       "      <td>7803</td>\n",
       "      <td>27028</td>\n",
       "      <td>626</td>\n",
       "      <td>0.77</td>\n",
       "      <td>0.19</td>\n",
       "      <td>0.74</td>\n",
       "    </tr>\n",
       "    <tr>\n",
       "      <td>9</td>\n",
       "      <td>AUC KNC MinMax - SMOTE</td>\n",
       "      <td>0.810</td>\n",
       "      <td>1736</td>\n",
       "      <td>7664</td>\n",
       "      <td>27167</td>\n",
       "      <td>675</td>\n",
       "      <td>0.78</td>\n",
       "      <td>0.18</td>\n",
       "      <td>0.72</td>\n",
       "    </tr>\n",
       "    <tr>\n",
       "      <td>21</td>\n",
       "      <td>AUC KNC MinMax - Oversampling</td>\n",
       "      <td>0.810</td>\n",
       "      <td>1736</td>\n",
       "      <td>7664</td>\n",
       "      <td>27167</td>\n",
       "      <td>675</td>\n",
       "      <td>0.78</td>\n",
       "      <td>0.18</td>\n",
       "      <td>0.72</td>\n",
       "    </tr>\n",
       "    <tr>\n",
       "      <td>33</td>\n",
       "      <td>AUC KNC MinMax - Undersampling</td>\n",
       "      <td>0.810</td>\n",
       "      <td>1736</td>\n",
       "      <td>7664</td>\n",
       "      <td>27167</td>\n",
       "      <td>675</td>\n",
       "      <td>0.78</td>\n",
       "      <td>0.18</td>\n",
       "      <td>0.72</td>\n",
       "    </tr>\n",
       "    <tr>\n",
       "      <td>1</td>\n",
       "      <td>AUC KNC Robust - SMOTE</td>\n",
       "      <td>0.784</td>\n",
       "      <td>1672</td>\n",
       "      <td>8841</td>\n",
       "      <td>25990</td>\n",
       "      <td>739</td>\n",
       "      <td>0.74</td>\n",
       "      <td>0.16</td>\n",
       "      <td>0.69</td>\n",
       "    </tr>\n",
       "    <tr>\n",
       "      <td>13</td>\n",
       "      <td>AUC KNC Robust - Oversampling</td>\n",
       "      <td>0.784</td>\n",
       "      <td>1672</td>\n",
       "      <td>8841</td>\n",
       "      <td>25990</td>\n",
       "      <td>739</td>\n",
       "      <td>0.74</td>\n",
       "      <td>0.16</td>\n",
       "      <td>0.69</td>\n",
       "    </tr>\n",
       "    <tr>\n",
       "      <td>25</td>\n",
       "      <td>AUC KNC Robust - Undersampling</td>\n",
       "      <td>0.784</td>\n",
       "      <td>1672</td>\n",
       "      <td>8841</td>\n",
       "      <td>25990</td>\n",
       "      <td>739</td>\n",
       "      <td>0.74</td>\n",
       "      <td>0.16</td>\n",
       "      <td>0.69</td>\n",
       "    </tr>\n",
       "  </tbody>\n",
       "</table>\n",
       "</div>"
      ],
      "text/plain": [
       "   Nama Algoritma & Metoda Imbalance Handling  Nilai AUC  True Positive  \\\n",
       "3                     AUC XGBC Robust - SMOTE      0.870           1882   \n",
       "11                    AUC XGBC MinMax - SMOTE      0.870           1882   \n",
       "15             AUC XGBC Robust - Oversampling      0.870           1882   \n",
       "23             AUC XGBC MinMax - Oversampling      0.870           1882   \n",
       "27            AUC XGBC Robust - Undersampling      0.870           1882   \n",
       "35            AUC XGBC MinMax - Undersampling      0.870           1882   \n",
       "7                   AUC XGBC Standard - SMOTE      0.870           1882   \n",
       "19           AUC XGBC Standard - Oversampling      0.870           1882   \n",
       "31          AUC XGBC Standard - Undersampling      0.870           1882   \n",
       "0                   AUC LogRes Robust - SMOTE      0.863           1809   \n",
       "12           AUC LogRes Robust - Oversampling      0.863           1809   \n",
       "24          AUC LogRes Robust - Undersampling      0.863           1809   \n",
       "4                 AUC LogRes Standard - SMOTE      0.863           1809   \n",
       "16         AUC LogRes Standard - Oversampling      0.863           1809   \n",
       "28        AUC LogRes Standard - Undersampling      0.863           1809   \n",
       "8                   AUC LogRes MinMax - SMOTE      0.858           1825   \n",
       "20           AUC LogRes MinMax - Oversampling      0.858           1825   \n",
       "32          AUC LogRes MinMax - Undersampling      0.858           1825   \n",
       "6                    AUC RFC Standard - SMOTE      0.836           1749   \n",
       "18            AUC RFC Standard - Oversampling      0.836           1749   \n",
       "30           AUC RFC Standard - Undersampling      0.836           1749   \n",
       "2                      AUC RFC Robust - SMOTE      0.836           1756   \n",
       "14              AUC RFC Robust - Oversampling      0.836           1756   \n",
       "26             AUC RFC Robust - Undersampling      0.836           1756   \n",
       "10                     AUC RFC MinMax - SMOTE      0.835           1747   \n",
       "22              AUC RFC MinMax - Oversampling      0.835           1747   \n",
       "34             AUC RFC MinMax - Undersampling      0.835           1747   \n",
       "5                    AUC KNC Standard - SMOTE      0.821           1785   \n",
       "17            AUC KNC Standard - Oversampling      0.821           1785   \n",
       "29           AUC KNC Standard - Undersampling      0.821           1785   \n",
       "9                      AUC KNC MinMax - SMOTE      0.810           1736   \n",
       "21              AUC KNC MinMax - Oversampling      0.810           1736   \n",
       "33             AUC KNC MinMax - Undersampling      0.810           1736   \n",
       "1                      AUC KNC Robust - SMOTE      0.784           1672   \n",
       "13              AUC KNC Robust - Oversampling      0.784           1672   \n",
       "25             AUC KNC Robust - Undersampling      0.784           1672   \n",
       "\n",
       "    False Positive  True Negative  False Negative  Accuracy  Precision  Recall  \n",
       "3             7329          27502             529      0.79       0.20    0.78  \n",
       "11            7329          27502             529      0.79       0.20    0.78  \n",
       "15            7329          27502             529      0.79       0.20    0.78  \n",
       "23            7329          27502             529      0.79       0.20    0.78  \n",
       "27            7329          27502             529      0.79       0.20    0.78  \n",
       "35            7329          27502             529      0.79       0.20    0.78  \n",
       "7             7328          27503             529      0.79       0.20    0.78  \n",
       "19            7328          27503             529      0.79       0.20    0.78  \n",
       "31            7328          27503             529      0.79       0.20    0.78  \n",
       "0             6893          27938             602      0.80       0.21    0.75  \n",
       "12            6893          27938             602      0.80       0.21    0.75  \n",
       "24            6893          27938             602      0.80       0.21    0.75  \n",
       "4             6876          27955             602      0.80       0.21    0.75  \n",
       "16            6876          27955             602      0.80       0.21    0.75  \n",
       "28            6876          27955             602      0.80       0.21    0.75  \n",
       "8             7243          27588             586      0.79       0.20    0.76  \n",
       "20            7243          27588             586      0.79       0.20    0.76  \n",
       "32            7243          27588             586      0.79       0.20    0.76  \n",
       "6             6874          27957             662      0.80       0.20    0.73  \n",
       "18            6874          27957             662      0.80       0.20    0.73  \n",
       "30            6874          27957             662      0.80       0.20    0.73  \n",
       "2             6775          28056             655      0.80       0.21    0.73  \n",
       "14            6775          28056             655      0.80       0.21    0.73  \n",
       "26            6775          28056             655      0.80       0.21    0.73  \n",
       "10            6884          27947             664      0.80       0.20    0.72  \n",
       "22            6884          27947             664      0.80       0.20    0.72  \n",
       "34            6884          27947             664      0.80       0.20    0.72  \n",
       "5             7803          27028             626      0.77       0.19    0.74  \n",
       "17            7803          27028             626      0.77       0.19    0.74  \n",
       "29            7803          27028             626      0.77       0.19    0.74  \n",
       "9             7664          27167             675      0.78       0.18    0.72  \n",
       "21            7664          27167             675      0.78       0.18    0.72  \n",
       "33            7664          27167             675      0.78       0.18    0.72  \n",
       "1             8841          25990             739      0.74       0.16    0.69  \n",
       "13            8841          25990             739      0.74       0.16    0.69  \n",
       "25            8841          25990             739      0.74       0.16    0.69  "
      ]
     },
     "execution_count": 111,
     "metadata": {},
     "output_type": "execute_result"
    }
   ],
   "source": [
    "df_AUC.sort_values(by=['Nilai AUC','Recall','False Positive'],ascending=False) # urutannya berdasarkan AUC, Recall, dan jumlah False Positive"
   ]
  },
  {
   "cell_type": "code",
   "execution_count": null,
   "metadata": {},
   "outputs": [],
   "source": []
  }
 ],
 "metadata": {
  "kernelspec": {
   "display_name": "Python 3",
   "language": "python",
   "name": "python3"
  },
  "language_info": {
   "codemirror_mode": {
    "name": "ipython",
    "version": 3
   },
   "file_extension": ".py",
   "mimetype": "text/x-python",
   "name": "python",
   "nbconvert_exporter": "python",
   "pygments_lexer": "ipython3",
   "version": "3.7.4"
  }
 },
 "nbformat": 4,
 "nbformat_minor": 4
}
